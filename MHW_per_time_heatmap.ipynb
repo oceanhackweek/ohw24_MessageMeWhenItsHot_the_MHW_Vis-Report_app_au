{
 "cells": [
  {
   "cell_type": "markdown",
   "id": "5c76861d-3586-4c12-829b-83ea4c06d5b9",
   "metadata": {},
   "source": [
    "## This notebook prepares individual heatmaps of MHW category and temperature distribution overtime (1 specific year). \n",
    "### - json and png formats exported to Figures folder\n",
    "### - it will be merged with an anomaly heatmap function Michael is preparing. "
   ]
  },
  {
   "cell_type": "markdown",
   "id": "1bfd05fe-959c-47d1-bdcd-e9d16669c20c",
   "metadata": {},
   "source": [
    "## Import packages"
   ]
  },
  {
   "cell_type": "markdown",
   "id": "d2b8d7fa-3064-4759-aee6-49a98032a034",
   "metadata": {},
   "source": [
    " "
   ]
  },
  {
   "cell_type": "code",
   "execution_count": 15,
   "id": "4f6a28f1-8459-4d1d-a780-d4fa1c361d76",
   "metadata": {},
   "outputs": [],
   "source": [
    "import xarray as xr\n",
    "import seaborn as sns\n",
    "import numpy as np\n",
    "import s3fs\n",
    "import pandas as pd\n",
    "import plotly.tools as tls\n",
    "import plotly.io as pio\n",
    "import cmocean\n",
    "import matplotlib.pyplot as plt\n",
    "import os\n",
    "import plotly.graph_objects as go"
   ]
  },
  {
   "cell_type": "markdown",
   "id": "5cf5acfd-ddb4-4314-9af3-fb16ae42f2ec",
   "metadata": {},
   "source": [
    "____\n",
    "# Accessing the Data Products"
   ]
  },
  {
   "cell_type": "markdown",
   "id": "4ef0e208-fed1-42c5-b15f-72a487b21312",
   "metadata": {},
   "source": [
    "## Amazon Web Services Simple Storage Service (AWS S3)\n",
    "\n",
    "Data can be accessed using AWS S3 or OPeNDAP links. I am using AWS S3 here as in practice it is often quicker than OPeNDAP. "
   ]
  },
  {
   "cell_type": "code",
   "execution_count": 2,
   "id": "7a3e6450-ebd4-41bf-90c9-218e10cb155e",
   "metadata": {},
   "outputs": [],
   "source": [
    "# load in methods for reading, writing, and managing files stored in S3. The connection is made anonamously. \n",
    "s3 = s3fs.S3FileSystem(anon=True) "
   ]
  },
  {
   "cell_type": "code",
   "execution_count": null,
   "id": "7142d26b-8344-4765-a2d4-1d3517fe6037",
   "metadata": {},
   "outputs": [],
   "source": []
  },
  {
   "cell_type": "markdown",
   "id": "d73c83af-4c37-4de0-b376-d4403121bbc3",
   "metadata": {},
   "source": [
    "### AMDOT-EXT data products"
   ]
  },
  {
   "cell_type": "code",
   "execution_count": 3,
   "id": "559d2c9b-744c-42bf-82f9-dc2e373ec57d",
   "metadata": {},
   "outputs": [
    {
     "data": {
      "text/plain": [
       "['imos-data/UNSW/NRS_climatology',\n",
       " 'imos-data/UNSW/NRS_extremes',\n",
       " 'imos-data/UNSW/NSW_Glider_climatology']"
      ]
     },
     "execution_count": 3,
     "metadata": {},
     "output_type": "execute_result"
    }
   ],
   "source": [
    "# List all data folders available from UNSW\n",
    "data_files = s3.ls(\"imos-data/UNSW/\")\n",
    "data_files"
   ]
  },
  {
   "cell_type": "code",
   "execution_count": 4,
   "id": "691f7589-73c9-4d22-808c-24731b6f9e60",
   "metadata": {},
   "outputs": [
    {
     "data": {
      "text/plain": [
       "['imos-data/UNSW/NRS_extremes/Temperature_DataProducts_v2/MAI090',\n",
       " 'imos-data/UNSW/NRS_extremes/Temperature_DataProducts_v2/PH050',\n",
       " 'imos-data/UNSW/NRS_extremes/Temperature_DataProducts_v2/PH100',\n",
       " 'imos-data/UNSW/NRS_extremes/Temperature_DataProducts_v2/ROT055']"
      ]
     },
     "execution_count": 4,
     "metadata": {},
     "output_type": "execute_result"
    }
   ],
   "source": [
    "# List all data folders available from UNSW\n",
    "data_files = s3.ls(\"imos-data/UNSW/NRS_extremes/Temperature_DataProducts_v2\")\n",
    "data_files"
   ]
  },
  {
   "cell_type": "code",
   "execution_count": 5,
   "id": "7e755181-2c17-4204-9db5-640e91ce165e",
   "metadata": {},
   "outputs": [
    {
     "data": {
      "text/plain": [
       "['imos-data/UNSW/NRS_extremes/Temperature_DataProducts_v2/MAI090/MAI090_TEMP_EXTREMES_1944-2023_v2.nc',\n",
       " 'imos-data/UNSW/NRS_extremes/Temperature_DataProducts_v2/MAI090/MAI090_TEMP_MHWMCS_SUMMARY_1944-2023.csv']"
      ]
     },
     "execution_count": 5,
     "metadata": {},
     "output_type": "execute_result"
    }
   ],
   "source": [
    "# List all data folders available from UNSW\n",
    "data_files = s3.ls(\"imos-data/UNSW/NRS_extremes/Temperature_DataProducts_v2/MAI090\")\n",
    "data_files"
   ]
  },
  {
   "cell_type": "code",
   "execution_count": 6,
   "id": "92d26aa6-9d27-47fd-80b7-0b1e931a75d3",
   "metadata": {},
   "outputs": [
    {
     "data": {
      "text/plain": [
       "['imos-data/UNSW/NRS_extremes/Temperature_DataProducts_v2/MAI090/MAI090_TEMP_EXTREMES_1944-2023_v2.nc',\n",
       " 'imos-data/UNSW/NRS_extremes/Temperature_DataProducts_v2/MAI090/MAI090_TEMP_MHWMCS_SUMMARY_1944-2023.csv']"
      ]
     },
     "execution_count": 6,
     "metadata": {},
     "output_type": "execute_result"
    }
   ],
   "source": [
    "# List all data folders available from UNSW\n",
    "data_files = s3.ls(\"imos-data/UNSW/NRS_extremes/Temperature_DataProducts_v2/MAI090\")\n",
    "data_files"
   ]
  },
  {
   "cell_type": "code",
   "execution_count": null,
   "id": "d4b8630d-a37e-463d-88ba-56beae593feb",
   "metadata": {},
   "outputs": [],
   "source": []
  },
  {
   "cell_type": "markdown",
   "id": "652ffb5d-0a77-46f7-82ac-eb7a589d8728",
   "metadata": {},
   "source": [
    "____"
   ]
  },
  {
   "cell_type": "markdown",
   "id": "9cee5eb3-0d08-41f6-bae3-fd6cf49a15d2",
   "metadata": {},
   "source": [
    "## Loading the files from S3 bucket"
   ]
  },
  {
   "cell_type": "code",
   "execution_count": 7,
   "id": "ad5d24ed-4549-45ce-b01e-f5c47fb2cd22",
   "metadata": {},
   "outputs": [],
   "source": [
    "# use xarray to load in the datasets\n",
    "# Note: this takes longer than expected, so I ran the code in the cells above instead to save the data to home\n",
    "bucket_prefix = \"imos-data/UNSW/NRS_extremes/Temperature_DataProducts_v2/\"\n",
    "\n",
    "MAI090 = xr.open_dataset(s3.open(bucket_prefix + \"MAI090/MAI090_TEMP_EXTREMES_1944-2023_v2.nc\"))\n",
    "PH100 = xr.open_dataset(s3.open(bucket_prefix + \"PH100/PH100_TEMP_EXTREMES_1953-2023_v2.nc\"))\n",
    "\n",
    "# if you instead want to load the data sets into memory, use the method .load() as in the cell above"
   ]
  },
  {
   "cell_type": "code",
   "execution_count": 8,
   "id": "e01e7970-71b6-44c4-96c1-afbe841fd11c",
   "metadata": {},
   "outputs": [
    {
     "data": {
      "text/html": [
       "<div><svg style=\"position: absolute; width: 0; height: 0; overflow: hidden\">\n",
       "<defs>\n",
       "<symbol id=\"icon-database\" viewBox=\"0 0 32 32\">\n",
       "<path d=\"M16 0c-8.837 0-16 2.239-16 5v4c0 2.761 7.163 5 16 5s16-2.239 16-5v-4c0-2.761-7.163-5-16-5z\"></path>\n",
       "<path d=\"M16 17c-8.837 0-16-2.239-16-5v6c0 2.761 7.163 5 16 5s16-2.239 16-5v-6c0 2.761-7.163 5-16 5z\"></path>\n",
       "<path d=\"M16 26c-8.837 0-16-2.239-16-5v6c0 2.761 7.163 5 16 5s16-2.239 16-5v-6c0 2.761-7.163 5-16 5z\"></path>\n",
       "</symbol>\n",
       "<symbol id=\"icon-file-text2\" viewBox=\"0 0 32 32\">\n",
       "<path d=\"M28.681 7.159c-0.694-0.947-1.662-2.053-2.724-3.116s-2.169-2.030-3.116-2.724c-1.612-1.182-2.393-1.319-2.841-1.319h-15.5c-1.378 0-2.5 1.121-2.5 2.5v27c0 1.378 1.122 2.5 2.5 2.5h23c1.378 0 2.5-1.122 2.5-2.5v-19.5c0-0.448-0.137-1.23-1.319-2.841zM24.543 5.457c0.959 0.959 1.712 1.825 2.268 2.543h-4.811v-4.811c0.718 0.556 1.584 1.309 2.543 2.268zM28 29.5c0 0.271-0.229 0.5-0.5 0.5h-23c-0.271 0-0.5-0.229-0.5-0.5v-27c0-0.271 0.229-0.5 0.5-0.5 0 0 15.499-0 15.5 0v7c0 0.552 0.448 1 1 1h7v19.5z\"></path>\n",
       "<path d=\"M23 26h-14c-0.552 0-1-0.448-1-1s0.448-1 1-1h14c0.552 0 1 0.448 1 1s-0.448 1-1 1z\"></path>\n",
       "<path d=\"M23 22h-14c-0.552 0-1-0.448-1-1s0.448-1 1-1h14c0.552 0 1 0.448 1 1s-0.448 1-1 1z\"></path>\n",
       "<path d=\"M23 18h-14c-0.552 0-1-0.448-1-1s0.448-1 1-1h14c0.552 0 1 0.448 1 1s-0.448 1-1 1z\"></path>\n",
       "</symbol>\n",
       "</defs>\n",
       "</svg>\n",
       "<style>/* CSS stylesheet for displaying xarray objects in jupyterlab.\n",
       " *\n",
       " */\n",
       "\n",
       ":root {\n",
       "  --xr-font-color0: var(--jp-content-font-color0, rgba(0, 0, 0, 1));\n",
       "  --xr-font-color2: var(--jp-content-font-color2, rgba(0, 0, 0, 0.54));\n",
       "  --xr-font-color3: var(--jp-content-font-color3, rgba(0, 0, 0, 0.38));\n",
       "  --xr-border-color: var(--jp-border-color2, #e0e0e0);\n",
       "  --xr-disabled-color: var(--jp-layout-color3, #bdbdbd);\n",
       "  --xr-background-color: var(--jp-layout-color0, white);\n",
       "  --xr-background-color-row-even: var(--jp-layout-color1, white);\n",
       "  --xr-background-color-row-odd: var(--jp-layout-color2, #eeeeee);\n",
       "}\n",
       "\n",
       "html[theme=dark],\n",
       "body[data-theme=dark],\n",
       "body.vscode-dark {\n",
       "  --xr-font-color0: rgba(255, 255, 255, 1);\n",
       "  --xr-font-color2: rgba(255, 255, 255, 0.54);\n",
       "  --xr-font-color3: rgba(255, 255, 255, 0.38);\n",
       "  --xr-border-color: #1F1F1F;\n",
       "  --xr-disabled-color: #515151;\n",
       "  --xr-background-color: #111111;\n",
       "  --xr-background-color-row-even: #111111;\n",
       "  --xr-background-color-row-odd: #313131;\n",
       "}\n",
       "\n",
       ".xr-wrap {\n",
       "  display: block !important;\n",
       "  min-width: 300px;\n",
       "  max-width: 700px;\n",
       "}\n",
       "\n",
       ".xr-text-repr-fallback {\n",
       "  /* fallback to plain text repr when CSS is not injected (untrusted notebook) */\n",
       "  display: none;\n",
       "}\n",
       "\n",
       ".xr-header {\n",
       "  padding-top: 6px;\n",
       "  padding-bottom: 6px;\n",
       "  margin-bottom: 4px;\n",
       "  border-bottom: solid 1px var(--xr-border-color);\n",
       "}\n",
       "\n",
       ".xr-header > div,\n",
       ".xr-header > ul {\n",
       "  display: inline;\n",
       "  margin-top: 0;\n",
       "  margin-bottom: 0;\n",
       "}\n",
       "\n",
       ".xr-obj-type,\n",
       ".xr-array-name {\n",
       "  margin-left: 2px;\n",
       "  margin-right: 10px;\n",
       "}\n",
       "\n",
       ".xr-obj-type {\n",
       "  color: var(--xr-font-color2);\n",
       "}\n",
       "\n",
       ".xr-sections {\n",
       "  padding-left: 0 !important;\n",
       "  display: grid;\n",
       "  grid-template-columns: 150px auto auto 1fr 20px 20px;\n",
       "}\n",
       "\n",
       ".xr-section-item {\n",
       "  display: contents;\n",
       "}\n",
       "\n",
       ".xr-section-item input {\n",
       "  display: none;\n",
       "}\n",
       "\n",
       ".xr-section-item input + label {\n",
       "  color: var(--xr-disabled-color);\n",
       "}\n",
       "\n",
       ".xr-section-item input:enabled + label {\n",
       "  cursor: pointer;\n",
       "  color: var(--xr-font-color2);\n",
       "}\n",
       "\n",
       ".xr-section-item input:enabled + label:hover {\n",
       "  color: var(--xr-font-color0);\n",
       "}\n",
       "\n",
       ".xr-section-summary {\n",
       "  grid-column: 1;\n",
       "  color: var(--xr-font-color2);\n",
       "  font-weight: 500;\n",
       "}\n",
       "\n",
       ".xr-section-summary > span {\n",
       "  display: inline-block;\n",
       "  padding-left: 0.5em;\n",
       "}\n",
       "\n",
       ".xr-section-summary-in:disabled + label {\n",
       "  color: var(--xr-font-color2);\n",
       "}\n",
       "\n",
       ".xr-section-summary-in + label:before {\n",
       "  display: inline-block;\n",
       "  content: '►';\n",
       "  font-size: 11px;\n",
       "  width: 15px;\n",
       "  text-align: center;\n",
       "}\n",
       "\n",
       ".xr-section-summary-in:disabled + label:before {\n",
       "  color: var(--xr-disabled-color);\n",
       "}\n",
       "\n",
       ".xr-section-summary-in:checked + label:before {\n",
       "  content: '▼';\n",
       "}\n",
       "\n",
       ".xr-section-summary-in:checked + label > span {\n",
       "  display: none;\n",
       "}\n",
       "\n",
       ".xr-section-summary,\n",
       ".xr-section-inline-details {\n",
       "  padding-top: 4px;\n",
       "  padding-bottom: 4px;\n",
       "}\n",
       "\n",
       ".xr-section-inline-details {\n",
       "  grid-column: 2 / -1;\n",
       "}\n",
       "\n",
       ".xr-section-details {\n",
       "  display: none;\n",
       "  grid-column: 1 / -1;\n",
       "  margin-bottom: 5px;\n",
       "}\n",
       "\n",
       ".xr-section-summary-in:checked ~ .xr-section-details {\n",
       "  display: contents;\n",
       "}\n",
       "\n",
       ".xr-array-wrap {\n",
       "  grid-column: 1 / -1;\n",
       "  display: grid;\n",
       "  grid-template-columns: 20px auto;\n",
       "}\n",
       "\n",
       ".xr-array-wrap > label {\n",
       "  grid-column: 1;\n",
       "  vertical-align: top;\n",
       "}\n",
       "\n",
       ".xr-preview {\n",
       "  color: var(--xr-font-color3);\n",
       "}\n",
       "\n",
       ".xr-array-preview,\n",
       ".xr-array-data {\n",
       "  padding: 0 5px !important;\n",
       "  grid-column: 2;\n",
       "}\n",
       "\n",
       ".xr-array-data,\n",
       ".xr-array-in:checked ~ .xr-array-preview {\n",
       "  display: none;\n",
       "}\n",
       "\n",
       ".xr-array-in:checked ~ .xr-array-data,\n",
       ".xr-array-preview {\n",
       "  display: inline-block;\n",
       "}\n",
       "\n",
       ".xr-dim-list {\n",
       "  display: inline-block !important;\n",
       "  list-style: none;\n",
       "  padding: 0 !important;\n",
       "  margin: 0;\n",
       "}\n",
       "\n",
       ".xr-dim-list li {\n",
       "  display: inline-block;\n",
       "  padding: 0;\n",
       "  margin: 0;\n",
       "}\n",
       "\n",
       ".xr-dim-list:before {\n",
       "  content: '(';\n",
       "}\n",
       "\n",
       ".xr-dim-list:after {\n",
       "  content: ')';\n",
       "}\n",
       "\n",
       ".xr-dim-list li:not(:last-child):after {\n",
       "  content: ',';\n",
       "  padding-right: 5px;\n",
       "}\n",
       "\n",
       ".xr-has-index {\n",
       "  font-weight: bold;\n",
       "}\n",
       "\n",
       ".xr-var-list,\n",
       ".xr-var-item {\n",
       "  display: contents;\n",
       "}\n",
       "\n",
       ".xr-var-item > div,\n",
       ".xr-var-item label,\n",
       ".xr-var-item > .xr-var-name span {\n",
       "  background-color: var(--xr-background-color-row-even);\n",
       "  margin-bottom: 0;\n",
       "}\n",
       "\n",
       ".xr-var-item > .xr-var-name:hover span {\n",
       "  padding-right: 5px;\n",
       "}\n",
       "\n",
       ".xr-var-list > li:nth-child(odd) > div,\n",
       ".xr-var-list > li:nth-child(odd) > label,\n",
       ".xr-var-list > li:nth-child(odd) > .xr-var-name span {\n",
       "  background-color: var(--xr-background-color-row-odd);\n",
       "}\n",
       "\n",
       ".xr-var-name {\n",
       "  grid-column: 1;\n",
       "}\n",
       "\n",
       ".xr-var-dims {\n",
       "  grid-column: 2;\n",
       "}\n",
       "\n",
       ".xr-var-dtype {\n",
       "  grid-column: 3;\n",
       "  text-align: right;\n",
       "  color: var(--xr-font-color2);\n",
       "}\n",
       "\n",
       ".xr-var-preview {\n",
       "  grid-column: 4;\n",
       "}\n",
       "\n",
       ".xr-index-preview {\n",
       "  grid-column: 2 / 5;\n",
       "  color: var(--xr-font-color2);\n",
       "}\n",
       "\n",
       ".xr-var-name,\n",
       ".xr-var-dims,\n",
       ".xr-var-dtype,\n",
       ".xr-preview,\n",
       ".xr-attrs dt {\n",
       "  white-space: nowrap;\n",
       "  overflow: hidden;\n",
       "  text-overflow: ellipsis;\n",
       "  padding-right: 10px;\n",
       "}\n",
       "\n",
       ".xr-var-name:hover,\n",
       ".xr-var-dims:hover,\n",
       ".xr-var-dtype:hover,\n",
       ".xr-attrs dt:hover {\n",
       "  overflow: visible;\n",
       "  width: auto;\n",
       "  z-index: 1;\n",
       "}\n",
       "\n",
       ".xr-var-attrs,\n",
       ".xr-var-data,\n",
       ".xr-index-data {\n",
       "  display: none;\n",
       "  background-color: var(--xr-background-color) !important;\n",
       "  padding-bottom: 5px !important;\n",
       "}\n",
       "\n",
       ".xr-var-attrs-in:checked ~ .xr-var-attrs,\n",
       ".xr-var-data-in:checked ~ .xr-var-data,\n",
       ".xr-index-data-in:checked ~ .xr-index-data {\n",
       "  display: block;\n",
       "}\n",
       "\n",
       ".xr-var-data > table {\n",
       "  float: right;\n",
       "}\n",
       "\n",
       ".xr-var-name span,\n",
       ".xr-var-data,\n",
       ".xr-index-name div,\n",
       ".xr-index-data,\n",
       ".xr-attrs {\n",
       "  padding-left: 25px !important;\n",
       "}\n",
       "\n",
       ".xr-attrs,\n",
       ".xr-var-attrs,\n",
       ".xr-var-data,\n",
       ".xr-index-data {\n",
       "  grid-column: 1 / -1;\n",
       "}\n",
       "\n",
       "dl.xr-attrs {\n",
       "  padding: 0;\n",
       "  margin: 0;\n",
       "  display: grid;\n",
       "  grid-template-columns: 125px auto;\n",
       "}\n",
       "\n",
       ".xr-attrs dt,\n",
       ".xr-attrs dd {\n",
       "  padding: 0;\n",
       "  margin: 0;\n",
       "  float: left;\n",
       "  padding-right: 10px;\n",
       "  width: auto;\n",
       "}\n",
       "\n",
       ".xr-attrs dt {\n",
       "  font-weight: normal;\n",
       "  grid-column: 1;\n",
       "}\n",
       "\n",
       ".xr-attrs dt:hover span {\n",
       "  display: inline-block;\n",
       "  background: var(--xr-background-color);\n",
       "  padding-right: 10px;\n",
       "}\n",
       "\n",
       ".xr-attrs dd {\n",
       "  grid-column: 2;\n",
       "  white-space: pre-wrap;\n",
       "  word-break: break-all;\n",
       "}\n",
       "\n",
       ".xr-icon-database,\n",
       ".xr-icon-file-text2,\n",
       ".xr-no-icon {\n",
       "  display: inline-block;\n",
       "  vertical-align: middle;\n",
       "  width: 1em;\n",
       "  height: 1.5em !important;\n",
       "  stroke-width: 0;\n",
       "  stroke: currentColor;\n",
       "  fill: currentColor;\n",
       "}\n",
       "</style><pre class='xr-text-repr-fallback'>&lt;xarray.DataArray &#x27;TEMP_EXTREME_INDEX&#x27; (TIME: 29176, DEPTH: 2)&gt; Size: 233kB\n",
       "[58352 values with dtype=float32]\n",
       "Coordinates:\n",
       "  * TIME     (TIME) datetime64[ns] 233kB 1944-01-02T12:00:00 ... 2023-11-18T1...\n",
       "  * DEPTH    (DEPTH) float32 8B 2.0 21.0\n",
       "Attributes:\n",
       "    units:          1\n",
       "    long_name:      extreme temperature event index\n",
       "    standard_name:  status_flag\n",
       "    valid_max:      12.0\n",
       "    valid_min:      0.0\n",
       "    flag_values:    [ 0.  1.  2. 11. 12.]\n",
       "    flag_meanings:  no_event cold_spike marine_cold_spell heat_spike marine_h...</pre><div class='xr-wrap' style='display:none'><div class='xr-header'><div class='xr-obj-type'>xarray.DataArray</div><div class='xr-array-name'>'TEMP_EXTREME_INDEX'</div><ul class='xr-dim-list'><li><span class='xr-has-index'>TIME</span>: 29176</li><li><span class='xr-has-index'>DEPTH</span>: 2</li></ul></div><ul class='xr-sections'><li class='xr-section-item'><div class='xr-array-wrap'><input id='section-454a8968-8047-41ee-b96d-cff74fb7fd06' class='xr-array-in' type='checkbox' checked><label for='section-454a8968-8047-41ee-b96d-cff74fb7fd06' title='Show/hide data repr'><svg class='icon xr-icon-database'><use xlink:href='#icon-database'></use></svg></label><div class='xr-array-preview xr-preview'><span>...</span></div><div class='xr-array-data'><pre>[58352 values with dtype=float32]</pre></div></div></li><li class='xr-section-item'><input id='section-dea443b6-5337-470f-9e30-cc447efe9263' class='xr-section-summary-in' type='checkbox'  checked><label for='section-dea443b6-5337-470f-9e30-cc447efe9263' class='xr-section-summary' >Coordinates: <span>(2)</span></label><div class='xr-section-inline-details'></div><div class='xr-section-details'><ul class='xr-var-list'><li class='xr-var-item'><div class='xr-var-name'><span class='xr-has-index'>TIME</span></div><div class='xr-var-dims'>(TIME)</div><div class='xr-var-dtype'>datetime64[ns]</div><div class='xr-var-preview xr-preview'>1944-01-02T12:00:00 ... 2023-11-...</div><input id='attrs-066c796d-18c4-4870-bf96-9ef1f4fc7a5d' class='xr-var-attrs-in' type='checkbox' ><label for='attrs-066c796d-18c4-4870-bf96-9ef1f4fc7a5d' title='Show/Hide attributes'><svg class='icon xr-icon-file-text2'><use xlink:href='#icon-file-text2'></use></svg></label><input id='data-0914306b-9748-42c0-a8eb-c2c6e568d1cb' class='xr-var-data-in' type='checkbox'><label for='data-0914306b-9748-42c0-a8eb-c2c6e568d1cb' title='Show/Hide data repr'><svg class='icon xr-icon-database'><use xlink:href='#icon-database'></use></svg></label><div class='xr-var-attrs'><dl class='xr-attrs'><dt><span>long_name :</span></dt><dd>analysis time</dd><dt><span>standard_name :</span></dt><dd>time</dd><dt><span>valid_max :</span></dt><dd>26984.5</dd><dt><span>valid_min :</span></dt><dd>-2190.5</dd><dt><span>axis :</span></dt><dd>T</dd></dl></div><div class='xr-var-data'><pre>array([&#x27;1944-01-02T12:00:00.000000000&#x27;, &#x27;1944-01-03T12:00:00.000000000&#x27;,\n",
       "       &#x27;1944-01-04T12:00:00.000000000&#x27;, ..., &#x27;2023-11-16T12:00:00.000000000&#x27;,\n",
       "       &#x27;2023-11-17T12:00:00.000000000&#x27;, &#x27;2023-11-18T12:00:00.000000000&#x27;],\n",
       "      dtype=&#x27;datetime64[ns]&#x27;)</pre></div></li><li class='xr-var-item'><div class='xr-var-name'><span class='xr-has-index'>DEPTH</span></div><div class='xr-var-dims'>(DEPTH)</div><div class='xr-var-dtype'>float32</div><div class='xr-var-preview xr-preview'>2.0 21.0</div><input id='attrs-24c5ada7-a1e1-4b3b-a20b-4a934450fed2' class='xr-var-attrs-in' type='checkbox' ><label for='attrs-24c5ada7-a1e1-4b3b-a20b-4a934450fed2' title='Show/Hide attributes'><svg class='icon xr-icon-file-text2'><use xlink:href='#icon-file-text2'></use></svg></label><input id='data-8cb6dddd-535b-4833-a5e0-9a887ab51e2a' class='xr-var-data-in' type='checkbox'><label for='data-8cb6dddd-535b-4833-a5e0-9a887ab51e2a' title='Show/Hide data repr'><svg class='icon xr-icon-database'><use xlink:href='#icon-database'></use></svg></label><div class='xr-var-attrs'><dl class='xr-attrs'><dt><span>units :</span></dt><dd>m</dd><dt><span>long_name :</span></dt><dd>sea water depth</dd><dt><span>standard_name :</span></dt><dd>depth</dd><dt><span>positive :</span></dt><dd>down</dd><dt><span>axis :</span></dt><dd>Z</dd><dt><span>reference_datum :</span></dt><dd>sea surface</dd><dt><span>valid_max :</span></dt><dd>21.0</dd><dt><span>valid_min :</span></dt><dd>2.0</dd></dl></div><div class='xr-var-data'><pre>array([ 2., 21.], dtype=float32)</pre></div></li></ul></div></li><li class='xr-section-item'><input id='section-38f7e63a-e80c-4a24-937c-1733c3157f8b' class='xr-section-summary-in' type='checkbox'  ><label for='section-38f7e63a-e80c-4a24-937c-1733c3157f8b' class='xr-section-summary' >Indexes: <span>(2)</span></label><div class='xr-section-inline-details'></div><div class='xr-section-details'><ul class='xr-var-list'><li class='xr-var-item'><div class='xr-index-name'><div>TIME</div></div><div class='xr-index-preview'>PandasIndex</div><div></div><input id='index-83ea1e05-301b-4a28-bc9e-8ac2da8daa45' class='xr-index-data-in' type='checkbox'/><label for='index-83ea1e05-301b-4a28-bc9e-8ac2da8daa45' title='Show/Hide index repr'><svg class='icon xr-icon-database'><use xlink:href='#icon-database'></use></svg></label><div class='xr-index-data'><pre>PandasIndex(DatetimeIndex([&#x27;1944-01-02 12:00:00&#x27;, &#x27;1944-01-03 12:00:00&#x27;,\n",
       "               &#x27;1944-01-04 12:00:00&#x27;, &#x27;1944-01-05 12:00:00&#x27;,\n",
       "               &#x27;1944-01-06 12:00:00&#x27;, &#x27;1944-01-07 12:00:00&#x27;,\n",
       "               &#x27;1944-01-08 12:00:00&#x27;, &#x27;1944-01-09 12:00:00&#x27;,\n",
       "               &#x27;1944-01-10 12:00:00&#x27;, &#x27;1944-01-11 12:00:00&#x27;,\n",
       "               ...\n",
       "               &#x27;2023-11-09 12:00:00&#x27;, &#x27;2023-11-10 12:00:00&#x27;,\n",
       "               &#x27;2023-11-11 12:00:00&#x27;, &#x27;2023-11-12 12:00:00&#x27;,\n",
       "               &#x27;2023-11-13 12:00:00&#x27;, &#x27;2023-11-14 12:00:00&#x27;,\n",
       "               &#x27;2023-11-15 12:00:00&#x27;, &#x27;2023-11-16 12:00:00&#x27;,\n",
       "               &#x27;2023-11-17 12:00:00&#x27;, &#x27;2023-11-18 12:00:00&#x27;],\n",
       "              dtype=&#x27;datetime64[ns]&#x27;, name=&#x27;TIME&#x27;, length=29176, freq=None))</pre></div></li><li class='xr-var-item'><div class='xr-index-name'><div>DEPTH</div></div><div class='xr-index-preview'>PandasIndex</div><div></div><input id='index-43c35b57-09ef-4eed-b797-dc7849136817' class='xr-index-data-in' type='checkbox'/><label for='index-43c35b57-09ef-4eed-b797-dc7849136817' title='Show/Hide index repr'><svg class='icon xr-icon-database'><use xlink:href='#icon-database'></use></svg></label><div class='xr-index-data'><pre>PandasIndex(Index([2.0, 21.0], dtype=&#x27;float32&#x27;, name=&#x27;DEPTH&#x27;))</pre></div></li></ul></div></li><li class='xr-section-item'><input id='section-73d9a3c2-ff03-444a-bb62-7ab1606e81e5' class='xr-section-summary-in' type='checkbox'  checked><label for='section-73d9a3c2-ff03-444a-bb62-7ab1606e81e5' class='xr-section-summary' >Attributes: <span>(7)</span></label><div class='xr-section-inline-details'></div><div class='xr-section-details'><dl class='xr-attrs'><dt><span>units :</span></dt><dd>1</dd><dt><span>long_name :</span></dt><dd>extreme temperature event index</dd><dt><span>standard_name :</span></dt><dd>status_flag</dd><dt><span>valid_max :</span></dt><dd>12.0</dd><dt><span>valid_min :</span></dt><dd>0.0</dd><dt><span>flag_values :</span></dt><dd>[ 0.  1.  2. 11. 12.]</dd><dt><span>flag_meanings :</span></dt><dd>no_event cold_spike marine_cold_spell heat_spike marine_heat_wave</dd></dl></div></li></ul></div></div>"
      ],
      "text/plain": [
       "<xarray.DataArray 'TEMP_EXTREME_INDEX' (TIME: 29176, DEPTH: 2)> Size: 233kB\n",
       "[58352 values with dtype=float32]\n",
       "Coordinates:\n",
       "  * TIME     (TIME) datetime64[ns] 233kB 1944-01-02T12:00:00 ... 2023-11-18T1...\n",
       "  * DEPTH    (DEPTH) float32 8B 2.0 21.0\n",
       "Attributes:\n",
       "    units:          1\n",
       "    long_name:      extreme temperature event index\n",
       "    standard_name:  status_flag\n",
       "    valid_max:      12.0\n",
       "    valid_min:      0.0\n",
       "    flag_values:    [ 0.  1.  2. 11. 12.]\n",
       "    flag_meanings:  no_event cold_spike marine_cold_spell heat_spike marine_h..."
      ]
     },
     "execution_count": 8,
     "metadata": {},
     "output_type": "execute_result"
    }
   ],
   "source": [
    "MAI090['TEMP_EXTREME_INDEX']"
   ]
  },
  {
   "cell_type": "markdown",
   "id": "6eafad40-27b7-43db-b5d3-76fcf71530c1",
   "metadata": {},
   "source": [
    "____"
   ]
  },
  {
   "cell_type": "markdown",
   "id": "0ecd3133-a1c1-40cb-be8d-6dca43e5f095",
   "metadata": {},
   "source": [
    "# Function to organise data into a day x month matrix for a selected year"
   ]
  },
  {
   "cell_type": "code",
   "execution_count": 9,
   "id": "0e44a944-07b0-48ad-90d1-69e27e2aa5a6",
   "metadata": {},
   "outputs": [],
   "source": [
    "def organize_temperature_into_dataframe(temp_dataarray):\n",
    "    \"\"\"\n",
    "    Organizes temperature data into a DataFrame where rows are days of the month and columns are months.\n",
    "    \n",
    "    Parameters:\n",
    "    temp_dataarray (xarray.DataArray): The temperature dataarray with time as one of the coordinates.\n",
    "    empty_matrix (numpy.ndarray): The matrix to be filled with temperatures.\n",
    "\n",
    "    Returns:\n",
    "    pandas.DataFrame: The filled DataFrame with temperatures.\n",
    "    \"\"\"\n",
    "    \n",
    "    empty_matrix = np.ones((31,12)) * np.nan\n",
    "    \n",
    "    # Iterate over the temperature data\n",
    "    for i in range(temp_dataarray.shape[0]):\n",
    "        # Extract the date and corresponding day/month\n",
    "        date = temp_dataarray.TIME[i].values\n",
    "        day = np.datetime64(date, 'D').astype(object).day\n",
    "        month = np.datetime64(date, 'M').astype(object).month\n",
    "        \n",
    "        # Fill the matrix at the corresponding day-1 (0-index) and month-1 (0-index) position\n",
    "        empty_matrix[day - 1, month - 1] = temp_dataarray[i].values\n",
    "    \n",
    "    # Convert the matrix to a pandas DataFrame\n",
    "    months = ['Jan', 'Feb', 'Mar', 'Apr', 'May', 'Jun', \n",
    "              'Jul', 'Aug', 'Sep', 'Oct', 'Nov', 'Dec']\n",
    "    days = list(range(1, 32))  # Days of the month (1 to 31)\n",
    "\n",
    "    df = pd.DataFrame(empty_matrix.transpose(), index=months, columns=days)\n",
    "    df.index.name = 'Day'  # Set the index name to 'Day'\n",
    "    \n",
    "    return df"
   ]
  },
  {
   "cell_type": "markdown",
   "id": "ff2677a5-38db-40c8-a081-a6839ab8f62c",
   "metadata": {},
   "source": [
    "____"
   ]
  },
  {
   "cell_type": "markdown",
   "id": "9615bb2b-65d8-4c81-9a4f-b83598d74263",
   "metadata": {},
   "source": [
    "# Example usage with a DataArray and an empty matrix\n",
    "\n"
   ]
  },
  {
   "cell_type": "code",
   "execution_count": 10,
   "id": "4d25c4d5-4f8e-4793-9377-89b48f7cd09a",
   "metadata": {},
   "outputs": [],
   "source": [
    "ds = MAI090['TEMP'].sel(\n",
    "    TIME=slice('2022-01-01', '2022-12-31')).copy()\n",
    "ds.values = MAI090['TEMP'].sel(\n",
    "    TIME=slice('2022-01-01', '2022-12-31')).values - MAI090['TEMP_MEAN'].sel(\n",
    "                        TIME=slice('2022-01-01', '2022-12-31')).values\n",
    "\n",
    "Tanom = organize_temperature_into_dataframe(ds[:,1])"
   ]
  },
  {
   "cell_type": "markdown",
   "id": "ae5af88a-b471-4235-8fe9-9cde92996dd1",
   "metadata": {},
   "source": [
    "____"
   ]
  },
  {
   "cell_type": "markdown",
   "id": "0a276264-39ec-4be2-b0d0-63ad64bca4e5",
   "metadata": {},
   "source": [
    "# Create heatmap for MHW Categories"
   ]
  },
  {
   "cell_type": "code",
   "execution_count": 11,
   "id": "727d8a7e-82bd-47df-9b6d-d44f0ea7813a",
   "metadata": {},
   "outputs": [],
   "source": [
    "ds = MAI090['MHW_EVENT_CAT'].sel(\n",
    "    TIME=slice('2022-01-01', '2022-12-31')).copy()\n",
    "ds.values = MAI090['MHW_EVENT_CAT'].sel(\n",
    "    TIME=slice('2022-01-01', '2022-12-31')).values \n",
    "\n",
    "MHWCAT = organize_temperature_into_dataframe(ds[:,1])"
   ]
  },
  {
   "cell_type": "code",
   "execution_count": 12,
   "id": "16b5e4e4-cd94-4223-a6fb-903ae5c1971c",
   "metadata": {},
   "outputs": [
    {
     "data": {
      "image/png": "[encoded data removed]",
      "text/plain": [
       "<Figure size 2400x1200 with 1 Axes>"
      ]
     },
     "metadata": {},
     "output_type": "display_data"
    }
   ],
   "source": [
    "plt.figure(figsize=(24,12))\n",
    "sns.heatmap(np.round(MHWCAT,2), annot=True, cmap=cmocean.cm.balance, \n",
    "            cbar_kws={'label': 'Temperature Anomaly'},  # Optional: Add colorbar label\n",
    "            xticklabels=1, yticklabels=1, cbar=False, \n",
    "            annot_kws={\"fontsize\": 18}, linewidths=1, linecolor='black'  # Control the frequency of tick labels\n",
    "            )\n",
    "\n",
    "# Increase the fontsize of the tick labels, \n",
    "plt.xticks(fontsize=30)\n",
    "plt.yticks(fontsize=30, rotation=360)\n",
    "plt.ylabel('')\n",
    "\n",
    "plt.tight_layout()\n",
    "\n",
    "##save fig as png\n",
    "save_results_to = '/g/data/v45/ns3783/ohw24_proj_MessageMeWhenItsHot_the_MHW_Vis-Report_app_au/Figures/'\n",
    "plt.savefig(save_results_to + 'Heatmap_non_interactive_MHW_CAT_for_reference.png', dpi=120,bbox_inches='tight', pad_inches=0.1)"
   ]
  },
  {
   "cell_type": "markdown",
   "id": "81e1af05-afcc-4713-9790-1b2726b35ca0",
   "metadata": {},
   "source": [
    "_____"
   ]
  },
  {
   "cell_type": "markdown",
   "id": "168f5248-ca5e-4966-a696-b5c51c5bb77a",
   "metadata": {},
   "source": [
    "## Create a heatmap using Plotly - MHW Categories"
   ]
  },
  {
   "cell_type": "code",
   "execution_count": 39,
   "id": "7660af2d-01fb-4746-8d66-6110279e89b4",
   "metadata": {},
   "outputs": [
    {
     "data": {
      "application/vnd.plotly.v1+json": {
       "config": {
        "plotlyServerURL": "https://plot.ly"
       },
       "data": [
        {
         "colorscale": [
          [
           0,
           "rgb(253, 237, 176)"
          ],
          [
           0.00392156862745098,
           "rgb(253, 235, 174)"
          ],
          [
           0.00784313725490196,
           "rgb(253, 234, 173)"
          ],
          [
           0.011764705882352941,
           "rgb(253, 233, 172)"
          ],
          [
           0.01568627450980392,
           "rgb(253, 231, 170)"
          ],
          [
           0.0196078431372549,
           "rgb(252, 230, 169)"
          ],
          [
           0.023529411764705882,
           "rgb(252, 228, 167)"
          ],
          [
           0.027450980392156862,
           "rgb(252, 227, 166)"
          ],
          [
           0.03137254901960784,
           "rgb(252, 226, 165)"
          ],
          [
           0.03529411764705882,
           "rgb(252, 224, 163)"
          ],
          [
           0.0392156862745098,
           "rgb(252, 223, 162)"
          ],
          [
           0.043137254901960784,
           "rgb(252, 221, 161)"
          ],
          [
           0.047058823529411764,
           "rgb(252, 220, 159)"
          ],
          [
           0.050980392156862744,
           "rgb(251, 219, 158)"
          ],
          [
           0.054901960784313725,
           "rgb(251, 217, 157)"
          ],
          [
           0.058823529411764705,
           "rgb(251, 216, 156)"
          ],
          [
           0.06274509803921569,
           "rgb(251, 214, 154)"
          ],
          [
           0.06666666666666667,
           "rgb(251, 213, 153)"
          ],
          [
           0.07058823529411765,
           "rgb(251, 212, 152)"
          ],
          [
           0.07450980392156863,
           "rgb(251, 210, 150)"
          ],
          [
           0.0784313725490196,
           "rgb(250, 209, 149)"
          ],
          [
           0.08235294117647059,
           "rgb(250, 207, 148)"
          ],
          [
           0.08627450980392157,
           "rgb(250, 206, 147)"
          ],
          [
           0.09019607843137255,
           "rgb(250, 205, 145)"
          ],
          [
           0.09411764705882353,
           "rgb(250, 203, 144)"
          ],
          [
           0.09803921568627451,
           "rgb(250, 202, 143)"
          ],
          [
           0.10196078431372549,
           "rgb(250, 200, 142)"
          ],
          [
           0.10588235294117647,
           "rgb(249, 199, 141)"
          ],
          [
           0.10980392156862745,
           "rgb(249, 198, 139)"
          ],
          [
           0.11372549019607843,
           "rgb(249, 196, 138)"
          ],
          [
           0.11764705882352941,
           "rgb(249, 195, 137)"
          ],
          [
           0.12156862745098039,
           "rgb(249, 194, 136)"
          ],
          [
           0.12549019607843137,
           "rgb(249, 192, 135)"
          ],
          [
           0.12941176470588237,
           "rgb(248, 191, 134)"
          ],
          [
           0.13333333333333333,
           "rgb(248, 189, 132)"
          ],
          [
           0.13725490196078433,
           "rgb(248, 188, 131)"
          ],
          [
           0.1411764705882353,
           "rgb(248, 187, 130)"
          ],
          [
           0.1450980392156863,
           "rgb(248, 185, 129)"
          ],
          [
           0.14901960784313725,
           "rgb(247, 184, 128)"
          ],
          [
           0.15294117647058825,
           "rgb(247, 183, 127)"
          ],
          [
           0.1568627450980392,
           "rgb(247, 181, 126)"
          ],
          [
           0.1607843137254902,
           "rgb(247, 180, 125)"
          ],
          [
           0.16470588235294117,
           "rgb(247, 178, 124)"
          ],
          [
           0.16862745098039217,
           "rgb(247, 177, 122)"
          ],
          [
           0.17254901960784313,
           "rgb(246, 176, 121)"
          ],
          [
           0.17647058823529413,
           "rgb(246, 174, 120)"
          ],
          [
           0.1803921568627451,
           "rgb(246, 173, 119)"
          ],
          [
           0.1843137254901961,
           "rgb(246, 172, 118)"
          ],
          [
           0.18823529411764706,
           "rgb(245, 170, 117)"
          ],
          [
           0.19215686274509805,
           "rgb(245, 169, 116)"
          ],
          [
           0.19607843137254902,
           "rgb(245, 168, 115)"
          ],
          [
           0.2,
           "rgb(245, 166, 114)"
          ],
          [
           0.20392156862745098,
           "rgb(245, 165, 113)"
          ],
          [
           0.20784313725490197,
           "rgb(244, 163, 112)"
          ],
          [
           0.21176470588235294,
           "rgb(244, 162, 111)"
          ],
          [
           0.21568627450980393,
           "rgb(244, 161, 110)"
          ],
          [
           0.2196078431372549,
           "rgb(244, 159, 109)"
          ],
          [
           0.2235294117647059,
           "rgb(243, 158, 108)"
          ],
          [
           0.22745098039215686,
           "rgb(243, 157, 108)"
          ],
          [
           0.23137254901960785,
           "rgb(243, 155, 107)"
          ],
          [
           0.23529411764705882,
           "rgb(243, 154, 106)"
          ],
          [
           0.23921568627450981,
           "rgb(242, 153, 105)"
          ],
          [
           0.24313725490196078,
           "rgb(242, 151, 104)"
          ],
          [
           0.24705882352941178,
           "rgb(242, 150, 103)"
          ],
          [
           0.25098039215686274,
           "rgb(241, 148, 102)"
          ],
          [
           0.2549019607843137,
           "rgb(241, 147, 101)"
          ],
          [
           0.25882352941176473,
           "rgb(241, 146, 101)"
          ],
          [
           0.2627450980392157,
           "rgb(241, 144, 100)"
          ],
          [
           0.26666666666666666,
           "rgb(240, 143, 99)"
          ],
          [
           0.27058823529411763,
           "rgb(240, 142, 98)"
          ],
          [
           0.27450980392156865,
           "rgb(240, 140, 97)"
          ],
          [
           0.2784313725490196,
           "rgb(239, 139, 97)"
          ],
          [
           0.2823529411764706,
           "rgb(239, 138, 96)"
          ],
          [
           0.28627450980392155,
           "rgb(239, 136, 95)"
          ],
          [
           0.2901960784313726,
           "rgb(238, 135, 94)"
          ],
          [
           0.29411764705882354,
           "rgb(238, 133, 94)"
          ],
          [
           0.2980392156862745,
           "rgb(238, 132, 93)"
          ],
          [
           0.30196078431372547,
           "rgb(237, 131, 92)"
          ],
          [
           0.3058823529411765,
           "rgb(237, 129, 92)"
          ],
          [
           0.30980392156862746,
           "rgb(237, 128, 91)"
          ],
          [
           0.3137254901960784,
           "rgb(236, 127, 91)"
          ],
          [
           0.3176470588235294,
           "rgb(236, 125, 90)"
          ],
          [
           0.3215686274509804,
           "rgb(235, 124, 89)"
          ],
          [
           0.3254901960784314,
           "rgb(235, 123, 89)"
          ],
          [
           0.32941176470588235,
           "rgb(235, 121, 88)"
          ],
          [
           0.3333333333333333,
           "rgb(234, 120, 88)"
          ],
          [
           0.33725490196078434,
           "rgb(234, 118, 87)"
          ],
          [
           0.3411764705882353,
           "rgb(233, 117, 87)"
          ],
          [
           0.34509803921568627,
           "rgb(233, 116, 86)"
          ],
          [
           0.34901960784313724,
           "rgb(232, 114, 86)"
          ],
          [
           0.35294117647058826,
           "rgb(232, 113, 85)"
          ],
          [
           0.3568627450980392,
           "rgb(232, 112, 85)"
          ],
          [
           0.3607843137254902,
           "rgb(231, 110, 85)"
          ],
          [
           0.36470588235294116,
           "rgb(231, 109, 84)"
          ],
          [
           0.3686274509803922,
           "rgb(230, 108, 84)"
          ],
          [
           0.37254901960784315,
           "rgb(230, 106, 84)"
          ],
          [
           0.3764705882352941,
           "rgb(229, 105, 83)"
          ],
          [
           0.3803921568627451,
           "rgb(229, 104, 83)"
          ],
          [
           0.3843137254901961,
           "rgb(228, 102, 83)"
          ],
          [
           0.38823529411764707,
           "rgb(228, 101, 83)"
          ],
          [
           0.39215686274509803,
           "rgb(227, 100, 83)"
          ],
          [
           0.396078431372549,
           "rgb(226, 98, 82)"
          ],
          [
           0.4,
           "rgb(226, 97, 82)"
          ],
          [
           0.403921568627451,
           "rgb(225, 96, 82)"
          ],
          [
           0.40784313725490196,
           "rgb(225, 95, 82)"
          ],
          [
           0.4117647058823529,
           "rgb(224, 93, 82)"
          ],
          [
           0.41568627450980394,
           "rgb(223, 92, 82)"
          ],
          [
           0.4196078431372549,
           "rgb(223, 91, 82)"
          ],
          [
           0.4235294117647059,
           "rgb(222, 89, 82)"
          ],
          [
           0.42745098039215684,
           "rgb(221, 88, 82)"
          ],
          [
           0.43137254901960786,
           "rgb(221, 87, 82)"
          ],
          [
           0.43529411764705883,
           "rgb(220, 86, 82)"
          ],
          [
           0.4392156862745098,
           "rgb(219, 85, 82)"
          ],
          [
           0.44313725490196076,
           "rgb(218, 83, 82)"
          ],
          [
           0.4470588235294118,
           "rgb(218, 82, 83)"
          ],
          [
           0.45098039215686275,
           "rgb(217, 81, 83)"
          ],
          [
           0.4549019607843137,
           "rgb(216, 80, 83)"
          ],
          [
           0.4588235294117647,
           "rgb(215, 79, 83)"
          ],
          [
           0.4627450980392157,
           "rgb(215, 77, 83)"
          ],
          [
           0.4666666666666667,
           "rgb(214, 76, 83)"
          ],
          [
           0.47058823529411764,
           "rgb(213, 75, 84)"
          ],
          [
           0.4745098039215686,
           "rgb(212, 74, 84)"
          ],
          [
           0.47843137254901963,
           "rgb(211, 73, 84)"
          ],
          [
           0.4823529411764706,
           "rgb(210, 72, 84)"
          ],
          [
           0.48627450980392156,
           "rgb(209, 71, 85)"
          ],
          [
           0.49019607843137253,
           "rgb(208, 70, 85)"
          ],
          [
           0.49411764705882355,
           "rgb(208, 69, 85)"
          ],
          [
           0.4980392156862745,
           "rgb(207, 68, 86)"
          ],
          [
           0.5019607843137255,
           "rgb(206, 67, 86)"
          ],
          [
           0.5058823529411764,
           "rgb(205, 66, 86)"
          ],
          [
           0.5098039215686274,
           "rgb(204, 65, 87)"
          ],
          [
           0.5137254901960784,
           "rgb(203, 64, 87)"
          ],
          [
           0.5176470588235295,
           "rgb(202, 63, 87)"
          ],
          [
           0.5215686274509804,
           "rgb(201, 62, 88)"
          ],
          [
           0.5254901960784314,
           "rgb(200, 61, 88)"
          ],
          [
           0.5294117647058824,
           "rgb(199, 60, 88)"
          ],
          [
           0.5333333333333333,
           "rgb(198, 59, 89)"
          ],
          [
           0.5372549019607843,
           "rgb(197, 58, 89)"
          ],
          [
           0.5411764705882353,
           "rgb(196, 57, 89)"
          ],
          [
           0.5450980392156862,
           "rgb(195, 56, 90)"
          ],
          [
           0.5490196078431373,
           "rgb(193, 56, 90)"
          ],
          [
           0.5529411764705883,
           "rgb(192, 55, 90)"
          ],
          [
           0.5568627450980392,
           "rgb(191, 54, 91)"
          ],
          [
           0.5607843137254902,
           "rgb(190, 53, 91)"
          ],
          [
           0.5647058823529412,
           "rgb(189, 52, 91)"
          ],
          [
           0.5686274509803921,
           "rgb(188, 52, 92)"
          ],
          [
           0.5725490196078431,
           "rgb(187, 51, 92)"
          ],
          [
           0.5764705882352941,
           "rgb(186, 50, 92)"
          ],
          [
           0.5803921568627451,
           "rgb(185, 49, 93)"
          ],
          [
           0.5843137254901961,
           "rgb(184, 48, 93)"
          ],
          [
           0.5882352941176471,
           "rgb(182, 48, 93)"
          ],
          [
           0.592156862745098,
           "rgb(181, 47, 93)"
          ],
          [
           0.596078431372549,
           "rgb(180, 46, 94)"
          ],
          [
           0.6,
           "rgb(179, 46, 94)"
          ],
          [
           0.6039215686274509,
           "rgb(178, 45, 94)"
          ],
          [
           0.6078431372549019,
           "rgb(177, 44, 95)"
          ],
          [
           0.611764705882353,
           "rgb(175, 44, 95)"
          ],
          [
           0.615686274509804,
           "rgb(174, 43, 95)"
          ],
          [
           0.6196078431372549,
           "rgb(173, 42, 95)"
          ],
          [
           0.6235294117647059,
           "rgb(172, 42, 96)"
          ],
          [
           0.6274509803921569,
           "rgb(171, 41, 96)"
          ],
          [
           0.6313725490196078,
           "rgb(169, 40, 96)"
          ],
          [
           0.6352941176470588,
           "rgb(168, 40, 96)"
          ],
          [
           0.6392156862745098,
           "rgb(167, 39, 97)"
          ],
          [
           0.6431372549019608,
           "rgb(166, 39, 97)"
          ],
          [
           0.6470588235294118,
           "rgb(165, 38, 97)"
          ],
          [
           0.6509803921568628,
           "rgb(163, 37, 97)"
          ],
          [
           0.6549019607843137,
           "rgb(162, 37, 97)"
          ],
          [
           0.6588235294117647,
           "rgb(161, 36, 98)"
          ],
          [
           0.6627450980392157,
           "rgb(160, 36, 98)"
          ],
          [
           0.6666666666666666,
           "rgb(158, 35, 98)"
          ],
          [
           0.6705882352941176,
           "rgb(157, 35, 98)"
          ],
          [
           0.6745098039215687,
           "rgb(156, 34, 98)"
          ],
          [
           0.6784313725490196,
           "rgb(155, 34, 98)"
          ],
          [
           0.6823529411764706,
           "rgb(153, 33, 98)"
          ],
          [
           0.6862745098039216,
           "rgb(152, 33, 99)"
          ],
          [
           0.6901960784313725,
           "rgb(151, 33, 99)"
          ],
          [
           0.6941176470588235,
           "rgb(149, 32, 99)"
          ],
          [
           0.6980392156862745,
           "rgb(148, 32, 99)"
          ],
          [
           0.7019607843137254,
           "rgb(147, 31, 99)"
          ],
          [
           0.7058823529411765,
           "rgb(146, 31, 99)"
          ],
          [
           0.7098039215686275,
           "rgb(144, 31, 99)"
          ],
          [
           0.7137254901960784,
           "rgb(143, 30, 99)"
          ],
          [
           0.7176470588235294,
           "rgb(142, 30, 99)"
          ],
          [
           0.7215686274509804,
           "rgb(140, 30, 99)"
          ],
          [
           0.7254901960784313,
           "rgb(139, 29, 99)"
          ],
          [
           0.7294117647058823,
           "rgb(138, 29, 99)"
          ],
          [
           0.7333333333333333,
           "rgb(136, 29, 99)"
          ],
          [
           0.7372549019607844,
           "rgb(135, 28, 99)"
          ],
          [
           0.7411764705882353,
           "rgb(134, 28, 99)"
          ],
          [
           0.7450980392156863,
           "rgb(133, 28, 99)"
          ],
          [
           0.7490196078431373,
           "rgb(131, 28, 98)"
          ],
          [
           0.7529411764705882,
           "rgb(130, 27, 98)"
          ],
          [
           0.7568627450980392,
           "rgb(129, 27, 98)"
          ],
          [
           0.7607843137254902,
           "rgb(127, 27, 98)"
          ],
          [
           0.7647058823529411,
           "rgb(126, 27, 98)"
          ],
          [
           0.7686274509803922,
           "rgb(125, 26, 98)"
          ],
          [
           0.7725490196078432,
           "rgb(123, 26, 97)"
          ],
          [
           0.7764705882352941,
           "rgb(122, 26, 97)"
          ],
          [
           0.7803921568627451,
           "rgb(120, 26, 97)"
          ],
          [
           0.7843137254901961,
           "rgb(119, 26, 97)"
          ],
          [
           0.788235294117647,
           "rgb(118, 26, 96)"
          ],
          [
           0.792156862745098,
           "rgb(116, 25, 96)"
          ],
          [
           0.796078431372549,
           "rgb(115, 25, 96)"
          ],
          [
           0.8,
           "rgb(114, 25, 95)"
          ],
          [
           0.803921568627451,
           "rgb(112, 25, 95)"
          ],
          [
           0.807843137254902,
           "rgb(111, 25, 95)"
          ],
          [
           0.8117647058823529,
           "rgb(110, 25, 94)"
          ],
          [
           0.8156862745098039,
           "rgb(108, 25, 94)"
          ],
          [
           0.8196078431372549,
           "rgb(107, 24, 93)"
          ],
          [
           0.8235294117647058,
           "rgb(106, 24, 93)"
          ],
          [
           0.8274509803921568,
           "rgb(104, 24, 93)"
          ],
          [
           0.8313725490196079,
           "rgb(103, 24, 92)"
          ],
          [
           0.8352941176470589,
           "rgb(102, 24, 92)"
          ],
          [
           0.8392156862745098,
           "rgb(100, 24, 91)"
          ],
          [
           0.8431372549019608,
           "rgb(99, 24, 91)"
          ],
          [
           0.8470588235294118,
           "rgb(98, 23, 90)"
          ],
          [
           0.8509803921568627,
           "rgb(96, 23, 90)"
          ],
          [
           0.8549019607843137,
           "rgb(95, 23, 89)"
          ],
          [
           0.8588235294117647,
           "rgb(94, 23, 89)"
          ],
          [
           0.8627450980392157,
           "rgb(92, 23, 88)"
          ],
          [
           0.8666666666666667,
           "rgb(91, 23, 87)"
          ],
          [
           0.8705882352941177,
           "rgb(89, 23, 87)"
          ],
          [
           0.8745098039215686,
           "rgb(88, 23, 86)"
          ],
          [
           0.8784313725490196,
           "rgb(87, 22, 86)"
          ],
          [
           0.8823529411764706,
           "rgb(85, 22, 85)"
          ],
          [
           0.8862745098039215,
           "rgb(84, 22, 84)"
          ],
          [
           0.8901960784313725,
           "rgb(83, 22, 84)"
          ],
          [
           0.8941176470588236,
           "rgb(82, 22, 83)"
          ],
          [
           0.8980392156862745,
           "rgb(80, 22, 82)"
          ],
          [
           0.9019607843137255,
           "rgb(79, 21, 82)"
          ],
          [
           0.9058823529411765,
           "rgb(78, 21, 81)"
          ],
          [
           0.9098039215686274,
           "rgb(76, 21, 80)"
          ],
          [
           0.9137254901960784,
           "rgb(75, 21, 79)"
          ],
          [
           0.9176470588235294,
           "rgb(74, 21, 79)"
          ],
          [
           0.9215686274509803,
           "rgb(72, 20, 78)"
          ],
          [
           0.9254901960784314,
           "rgb(71, 20, 77)"
          ],
          [
           0.9294117647058824,
           "rgb(70, 20, 76)"
          ],
          [
           0.9333333333333333,
           "rgb(68, 20, 76)"
          ],
          [
           0.9372549019607843,
           "rgb(67, 19, 75)"
          ],
          [
           0.9411764705882353,
           "rgb(66, 19, 74)"
          ],
          [
           0.9450980392156862,
           "rgb(65, 19, 73)"
          ],
          [
           0.9490196078431372,
           "rgb(63, 19, 73)"
          ],
          [
           0.9529411764705882,
           "rgb(62, 18, 72)"
          ],
          [
           0.9568627450980393,
           "rgb(61, 18, 71)"
          ],
          [
           0.9607843137254902,
           "rgb(59, 18, 70)"
          ],
          [
           0.9647058823529412,
           "rgb(58, 18, 69)"
          ],
          [
           0.9686274509803922,
           "rgb(57, 17, 68)"
          ],
          [
           0.9725490196078431,
           "rgb(56, 17, 68)"
          ],
          [
           0.9764705882352941,
           "rgb(54, 17, 67)"
          ],
          [
           0.9803921568627451,
           "rgb(53, 16, 66)"
          ],
          [
           0.984313725490196,
           "rgb(52, 16, 65)"
          ],
          [
           0.9882352941176471,
           "rgb(50, 16, 64)"
          ],
          [
           0.9921568627450981,
           "rgb(49, 15, 63)"
          ],
          [
           0.996078431372549,
           "rgb(48, 15, 62)"
          ],
          [
           1,
           "rgb(47, 15, 61)"
          ]
         ],
         "showscale": false,
         "text": [
          [
           "1.0",
           "1.0",
           "1.0",
           "1.0",
           "1.0",
           "1.0",
           "0.0",
           "0.0",
           "0.0",
           "0.0",
           "0.0",
           "0.0",
           "0.0",
           "0.0",
           "0.0",
           "0.0",
           "0.0",
           "0.0",
           "0.0",
           "0.0",
           "0.0",
           "0.0",
           "0.0",
           "0.0",
           "0.0",
           "0.0",
           "0.0",
           "0.0",
           "0.0",
           "0.0",
           "0.0"
          ],
          [
           "0.0",
           "0.0",
           "0.0",
           "0.0",
           "0.0",
           "0.0",
           "0.0",
           "0.0",
           "0.0",
           "0.0",
           "0.0",
           "0.0",
           "0.0",
           "0.0",
           "0.0",
           "0.0",
           "0.0",
           "0.0",
           "0.0",
           "0.0",
           "0.0",
           "0.0",
           "0.0",
           "0.0",
           "0.0",
           "0.0",
           "0.0",
           "0.0",
           "",
           "",
           ""
          ],
          [
           "0.0",
           "0.0",
           "0.0",
           "0.0",
           "0.0",
           "0.0",
           "0.0",
           "0.0",
           "0.0",
           "0.0",
           "0.0",
           "0.0",
           "0.0",
           "0.0",
           "0.0",
           "0.0",
           "0.0",
           "0.0",
           "0.0",
           "0.0",
           "0.0",
           "0.0",
           "0.0",
           "0.0",
           "0.0",
           "0.0",
           "0.0",
           "0.0",
           "0.0",
           "0.0",
           "0.0"
          ],
          [
           "0.0",
           "0.0",
           "0.0",
           "0.0",
           "0.0",
           "0.0",
           "0.0",
           "0.0",
           "0.0",
           "0.0",
           "0.0",
           "0.0",
           "0.0",
           "0.0",
           "0.0",
           "0.0",
           "0.0",
           "0.0",
           "0.0",
           "0.0",
           "0.0",
           "0.0",
           "0.0",
           "0.0",
           "1.0",
           "1.0",
           "1.0",
           "1.0",
           "1.0",
           "1.0",
           ""
          ],
          [
           "1.0",
           "1.0",
           "1.0",
           "1.0",
           "1.0",
           "1.0",
           "1.0",
           "1.0",
           "1.0",
           "1.0",
           "1.0",
           "1.0",
           "1.0",
           "1.0",
           "1.0",
           "1.0",
           "1.0",
           "1.0",
           "1.0",
           "1.0",
           "1.0",
           "1.0",
           "1.0",
           "1.0",
           "1.0",
           "1.0",
           "1.0",
           "1.0",
           "1.0",
           "1.0",
           "1.0"
          ],
          [
           "1.0",
           "1.0",
           "0.0",
           "0.0",
           "0.0",
           "0.0",
           "0.0",
           "0.0",
           "0.0",
           "0.0",
           "0.0",
           "0.0",
           "0.0",
           "0.0",
           "0.0",
           "0.0",
           "0.0",
           "0.0",
           "0.0",
           "0.0",
           "0.0",
           "0.0",
           "0.0",
           "0.0",
           "0.0",
           "0.0",
           "0.0",
           "0.0",
           "0.0",
           "0.0",
           ""
          ],
          [
           "0.0",
           "0.0",
           "0.0",
           "0.0",
           "0.0",
           "0.0",
           "0.0",
           "0.0",
           "0.0",
           "0.0",
           "0.0",
           "0.0",
           "0.0",
           "0.0",
           "0.0",
           "0.0",
           "0.0",
           "0.0",
           "0.0",
           "0.0",
           "0.0",
           "0.0",
           "0.0",
           "0.0",
           "0.0",
           "0.0",
           "0.0",
           "0.0",
           "0.0",
           "0.0",
           "0.0"
          ],
          [
           "0.0",
           "0.0",
           "0.0",
           "0.0",
           "0.0",
           "0.0",
           "0.0",
           "0.0",
           "0.0",
           "0.0",
           "0.0",
           "0.0",
           "0.0",
           "0.0",
           "0.0",
           "0.0",
           "0.0",
           "0.0",
           "0.0",
           "0.0",
           "0.0",
           "0.0",
           "0.0",
           "0.0",
           "0.0",
           "0.0",
           "0.0",
           "0.0",
           "0.0",
           "0.0",
           "0.0"
          ],
          [
           "0.0",
           "0.0",
           "0.0",
           "0.0",
           "0.0",
           "0.0",
           "0.0",
           "0.0",
           "0.0",
           "0.0",
           "0.0",
           "0.0",
           "0.0",
           "0.0",
           "0.0",
           "0.0",
           "0.0",
           "0.0",
           "0.0",
           "0.0",
           "0.0",
           "0.0",
           "0.0",
           "0.0",
           "0.0",
           "0.0",
           "0.0",
           "0.0",
           "0.0",
           "0.0",
           ""
          ],
          [
           "0.0",
           "0.0",
           "0.0",
           "0.0",
           "0.0",
           "0.0",
           "0.0",
           "0.0",
           "0.0",
           "0.0",
           "0.0",
           "0.0",
           "0.0",
           "0.0",
           "0.0",
           "0.0",
           "0.0",
           "0.0",
           "0.0",
           "0.0",
           "0.0",
           "0.0",
           "0.0",
           "0.0",
           "0.0",
           "0.0",
           "0.0",
           "0.0",
           "0.0",
           "0.0",
           "0.0"
          ],
          [
           "0.0",
           "0.0",
           "0.0",
           "0.0",
           "0.0",
           "0.0",
           "0.0",
           "0.0",
           "0.0",
           "0.0",
           "0.0",
           "0.0",
           "0.0",
           "0.0",
           "0.0",
           "0.0",
           "0.0",
           "0.0",
           "0.0",
           "0.0",
           "0.0",
           "0.0",
           "0.0",
           "0.0",
           "0.0",
           "0.0",
           "0.0",
           "0.0",
           "0.0",
           "0.0",
           ""
          ],
          [
           "0.0",
           "0.0",
           "0.0",
           "0.0",
           "0.0",
           "0.0",
           "0.0",
           "0.0",
           "0.0",
           "0.0",
           "0.0",
           "0.0",
           "0.0",
           "0.0",
           "0.0",
           "1.0",
           "1.0",
           "1.0",
           "1.0",
           "1.0",
           "1.0",
           "1.0",
           "1.0",
           "1.0",
           "1.0",
           "1.0",
           "1.0",
           "1.0",
           "1.0",
           "1.0",
           "1.0"
          ]
         ],
         "textfont": {
          "size": 18
         },
         "texttemplate": "%{text:.0f}",
         "type": "heatmap",
         "z": [
          [
           1,
           1,
           1,
           1,
           1,
           1,
           0,
           0,
           0,
           0,
           0,
           0,
           0,
           0,
           0,
           0,
           0,
           0,
           0,
           0,
           0,
           0,
           0,
           0,
           0,
           0,
           0,
           0,
           0,
           0,
           0
          ],
          [
           0,
           0,
           0,
           0,
           0,
           0,
           0,
           0,
           0,
           0,
           0,
           0,
           0,
           0,
           0,
           0,
           0,
           0,
           0,
           0,
           0,
           0,
           0,
           0,
           0,
           0,
           0,
           0,
           null,
           null,
           null
          ],
          [
           0,
           0,
           0,
           0,
           0,
           0,
           0,
           0,
           0,
           0,
           0,
           0,
           0,
           0,
           0,
           0,
           0,
           0,
           0,
           0,
           0,
           0,
           0,
           0,
           0,
           0,
           0,
           0,
           0,
           0,
           0
          ],
          [
           0,
           0,
           0,
           0,
           0,
           0,
           0,
           0,
           0,
           0,
           0,
           0,
           0,
           0,
           0,
           0,
           0,
           0,
           0,
           0,
           0,
           0,
           0,
           0,
           1,
           1,
           1,
           1,
           1,
           1,
           null
          ],
          [
           1,
           1,
           1,
           1,
           1,
           1,
           1,
           1,
           1,
           1,
           1,
           1,
           1,
           1,
           1,
           1,
           1,
           1,
           1,
           1,
           1,
           1,
           1,
           1,
           1,
           1,
           1,
           1,
           1,
           1,
           1
          ],
          [
           1,
           1,
           0,
           0,
           0,
           0,
           0,
           0,
           0,
           0,
           0,
           0,
           0,
           0,
           0,
           0,
           0,
           0,
           0,
           0,
           0,
           0,
           0,
           0,
           0,
           0,
           0,
           0,
           0,
           0,
           null
          ],
          [
           0,
           0,
           0,
           0,
           0,
           0,
           0,
           0,
           0,
           0,
           0,
           0,
           0,
           0,
           0,
           0,
           0,
           0,
           0,
           0,
           0,
           0,
           0,
           0,
           0,
           0,
           0,
           0,
           0,
           0,
           0
          ],
          [
           0,
           0,
           0,
           0,
           0,
           0,
           0,
           0,
           0,
           0,
           0,
           0,
           0,
           0,
           0,
           0,
           0,
           0,
           0,
           0,
           0,
           0,
           0,
           0,
           0,
           0,
           0,
           0,
           0,
           0,
           0
          ],
          [
           0,
           0,
           0,
           0,
           0,
           0,
           0,
           0,
           0,
           0,
           0,
           0,
           0,
           0,
           0,
           0,
           0,
           0,
           0,
           0,
           0,
           0,
           0,
           0,
           0,
           0,
           0,
           0,
           0,
           0,
           null
          ],
          [
           0,
           0,
           0,
           0,
           0,
           0,
           0,
           0,
           0,
           0,
           0,
           0,
           0,
           0,
           0,
           0,
           0,
           0,
           0,
           0,
           0,
           0,
           0,
           0,
           0,
           0,
           0,
           0,
           0,
           0,
           0
          ],
          [
           0,
           0,
           0,
           0,
           0,
           0,
           0,
           0,
           0,
           0,
           0,
           0,
           0,
           0,
           0,
           0,
           0,
           0,
           0,
           0,
           0,
           0,
           0,
           0,
           0,
           0,
           0,
           0,
           0,
           0,
           null
          ],
          [
           0,
           0,
           0,
           0,
           0,
           0,
           0,
           0,
           0,
           0,
           0,
           0,
           0,
           0,
           0,
           1,
           1,
           1,
           1,
           1,
           1,
           1,
           1,
           1,
           1,
           1,
           1,
           1,
           1,
           1,
           1
          ]
         ],
         "zmax": 1,
         "zmin": 0
        }
       ],
       "layout": {
        "height": 600,
        "template": {
         "data": {
          "bar": [
           {
            "error_x": {
             "color": "#2a3f5f"
            },
            "error_y": {
             "color": "#2a3f5f"
            },
            "marker": {
             "line": {
              "color": "#E5ECF6",
              "width": 0.5
             },
             "pattern": {
              "fillmode": "overlay",
              "size": 10,
              "solidity": 0.2
             }
            },
            "type": "bar"
           }
          ],
          "barpolar": [
           {
            "marker": {
             "line": {
              "color": "#E5ECF6",
              "width": 0.5
             },
             "pattern": {
              "fillmode": "overlay",
              "size": 10,
              "solidity": 0.2
             }
            },
            "type": "barpolar"
           }
          ],
          "carpet": [
           {
            "aaxis": {
             "endlinecolor": "#2a3f5f",
             "gridcolor": "white",
             "linecolor": "white",
             "minorgridcolor": "white",
             "startlinecolor": "#2a3f5f"
            },
            "baxis": {
             "endlinecolor": "#2a3f5f",
             "gridcolor": "white",
             "linecolor": "white",
             "minorgridcolor": "white",
             "startlinecolor": "#2a3f5f"
            },
            "type": "carpet"
           }
          ],
          "choropleth": [
           {
            "colorbar": {
             "outlinewidth": 0,
             "ticks": ""
            },
            "type": "choropleth"
           }
          ],
          "contour": [
           {
            "colorbar": {
             "outlinewidth": 0,
             "ticks": ""
            },
            "colorscale": [
             [
              0,
              "#0d0887"
             ],
             [
              0.1111111111111111,
              "#46039f"
             ],
             [
              0.2222222222222222,
              "#7201a8"
             ],
             [
              0.3333333333333333,
              "#9c179e"
             ],
             [
              0.4444444444444444,
              "#bd3786"
             ],
             [
              0.5555555555555556,
              "#d8576b"
             ],
             [
              0.6666666666666666,
              "#ed7953"
             ],
             [
              0.7777777777777778,
              "#fb9f3a"
             ],
             [
              0.8888888888888888,
              "#fdca26"
             ],
             [
              1,
              "#f0f921"
             ]
            ],
            "type": "contour"
           }
          ],
          "contourcarpet": [
           {
            "colorbar": {
             "outlinewidth": 0,
             "ticks": ""
            },
            "type": "contourcarpet"
           }
          ],
          "heatmap": [
           {
            "colorbar": {
             "outlinewidth": 0,
             "ticks": ""
            },
            "colorscale": [
             [
              0,
              "#0d0887"
             ],
             [
              0.1111111111111111,
              "#46039f"
             ],
             [
              0.2222222222222222,
              "#7201a8"
             ],
             [
              0.3333333333333333,
              "#9c179e"
             ],
             [
              0.4444444444444444,
              "#bd3786"
             ],
             [
              0.5555555555555556,
              "#d8576b"
             ],
             [
              0.6666666666666666,
              "#ed7953"
             ],
             [
              0.7777777777777778,
              "#fb9f3a"
             ],
             [
              0.8888888888888888,
              "#fdca26"
             ],
             [
              1,
              "#f0f921"
             ]
            ],
            "type": "heatmap"
           }
          ],
          "heatmapgl": [
           {
            "colorbar": {
             "outlinewidth": 0,
             "ticks": ""
            },
            "colorscale": [
             [
              0,
              "#0d0887"
             ],
             [
              0.1111111111111111,
              "#46039f"
             ],
             [
              0.2222222222222222,
              "#7201a8"
             ],
             [
              0.3333333333333333,
              "#9c179e"
             ],
             [
              0.4444444444444444,
              "#bd3786"
             ],
             [
              0.5555555555555556,
              "#d8576b"
             ],
             [
              0.6666666666666666,
              "#ed7953"
             ],
             [
              0.7777777777777778,
              "#fb9f3a"
             ],
             [
              0.8888888888888888,
              "#fdca26"
             ],
             [
              1,
              "#f0f921"
             ]
            ],
            "type": "heatmapgl"
           }
          ],
          "histogram": [
           {
            "marker": {
             "pattern": {
              "fillmode": "overlay",
              "size": 10,
              "solidity": 0.2
             }
            },
            "type": "histogram"
           }
          ],
          "histogram2d": [
           {
            "colorbar": {
             "outlinewidth": 0,
             "ticks": ""
            },
            "colorscale": [
             [
              0,
              "#0d0887"
             ],
             [
              0.1111111111111111,
              "#46039f"
             ],
             [
              0.2222222222222222,
              "#7201a8"
             ],
             [
              0.3333333333333333,
              "#9c179e"
             ],
             [
              0.4444444444444444,
              "#bd3786"
             ],
             [
              0.5555555555555556,
              "#d8576b"
             ],
             [
              0.6666666666666666,
              "#ed7953"
             ],
             [
              0.7777777777777778,
              "#fb9f3a"
             ],
             [
              0.8888888888888888,
              "#fdca26"
             ],
             [
              1,
              "#f0f921"
             ]
            ],
            "type": "histogram2d"
           }
          ],
          "histogram2dcontour": [
           {
            "colorbar": {
             "outlinewidth": 0,
             "ticks": ""
            },
            "colorscale": [
             [
              0,
              "#0d0887"
             ],
             [
              0.1111111111111111,
              "#46039f"
             ],
             [
              0.2222222222222222,
              "#7201a8"
             ],
             [
              0.3333333333333333,
              "#9c179e"
             ],
             [
              0.4444444444444444,
              "#bd3786"
             ],
             [
              0.5555555555555556,
              "#d8576b"
             ],
             [
              0.6666666666666666,
              "#ed7953"
             ],
             [
              0.7777777777777778,
              "#fb9f3a"
             ],
             [
              0.8888888888888888,
              "#fdca26"
             ],
             [
              1,
              "#f0f921"
             ]
            ],
            "type": "histogram2dcontour"
           }
          ],
          "mesh3d": [
           {
            "colorbar": {
             "outlinewidth": 0,
             "ticks": ""
            },
            "type": "mesh3d"
           }
          ],
          "parcoords": [
           {
            "line": {
             "colorbar": {
              "outlinewidth": 0,
              "ticks": ""
             }
            },
            "type": "parcoords"
           }
          ],
          "pie": [
           {
            "automargin": true,
            "type": "pie"
           }
          ],
          "scatter": [
           {
            "fillpattern": {
             "fillmode": "overlay",
             "size": 10,
             "solidity": 0.2
            },
            "type": "scatter"
           }
          ],
          "scatter3d": [
           {
            "line": {
             "colorbar": {
              "outlinewidth": 0,
              "ticks": ""
             }
            },
            "marker": {
             "colorbar": {
              "outlinewidth": 0,
              "ticks": ""
             }
            },
            "type": "scatter3d"
           }
          ],
          "scattercarpet": [
           {
            "marker": {
             "colorbar": {
              "outlinewidth": 0,
              "ticks": ""
             }
            },
            "type": "scattercarpet"
           }
          ],
          "scattergeo": [
           {
            "marker": {
             "colorbar": {
              "outlinewidth": 0,
              "ticks": ""
             }
            },
            "type": "scattergeo"
           }
          ],
          "scattergl": [
           {
            "marker": {
             "colorbar": {
              "outlinewidth": 0,
              "ticks": ""
             }
            },
            "type": "scattergl"
           }
          ],
          "scattermapbox": [
           {
            "marker": {
             "colorbar": {
              "outlinewidth": 0,
              "ticks": ""
             }
            },
            "type": "scattermapbox"
           }
          ],
          "scatterpolar": [
           {
            "marker": {
             "colorbar": {
              "outlinewidth": 0,
              "ticks": ""
             }
            },
            "type": "scatterpolar"
           }
          ],
          "scatterpolargl": [
           {
            "marker": {
             "colorbar": {
              "outlinewidth": 0,
              "ticks": ""
             }
            },
            "type": "scatterpolargl"
           }
          ],
          "scatterternary": [
           {
            "marker": {
             "colorbar": {
              "outlinewidth": 0,
              "ticks": ""
             }
            },
            "type": "scatterternary"
           }
          ],
          "surface": [
           {
            "colorbar": {
             "outlinewidth": 0,
             "ticks": ""
            },
            "colorscale": [
             [
              0,
              "#0d0887"
             ],
             [
              0.1111111111111111,
              "#46039f"
             ],
             [
              0.2222222222222222,
              "#7201a8"
             ],
             [
              0.3333333333333333,
              "#9c179e"
             ],
             [
              0.4444444444444444,
              "#bd3786"
             ],
             [
              0.5555555555555556,
              "#d8576b"
             ],
             [
              0.6666666666666666,
              "#ed7953"
             ],
             [
              0.7777777777777778,
              "#fb9f3a"
             ],
             [
              0.8888888888888888,
              "#fdca26"
             ],
             [
              1,
              "#f0f921"
             ]
            ],
            "type": "surface"
           }
          ],
          "table": [
           {
            "cells": {
             "fill": {
              "color": "#EBF0F8"
             },
             "line": {
              "color": "white"
             }
            },
            "header": {
             "fill": {
              "color": "#C8D4E3"
             },
             "line": {
              "color": "white"
             }
            },
            "type": "table"
           }
          ]
         },
         "layout": {
          "annotationdefaults": {
           "arrowcolor": "#2a3f5f",
           "arrowhead": 0,
           "arrowwidth": 1
          },
          "autotypenumbers": "strict",
          "coloraxis": {
           "colorbar": {
            "outlinewidth": 0,
            "ticks": ""
           }
          },
          "colorscale": {
           "diverging": [
            [
             0,
             "#8e0152"
            ],
            [
             0.1,
             "#c51b7d"
            ],
            [
             0.2,
             "#de77ae"
            ],
            [
             0.3,
             "#f1b6da"
            ],
            [
             0.4,
             "#fde0ef"
            ],
            [
             0.5,
             "#f7f7f7"
            ],
            [
             0.6,
             "#e6f5d0"
            ],
            [
             0.7,
             "#b8e186"
            ],
            [
             0.8,
             "#7fbc41"
            ],
            [
             0.9,
             "#4d9221"
            ],
            [
             1,
             "#276419"
            ]
           ],
           "sequential": [
            [
             0,
             "#0d0887"
            ],
            [
             0.1111111111111111,
             "#46039f"
            ],
            [
             0.2222222222222222,
             "#7201a8"
            ],
            [
             0.3333333333333333,
             "#9c179e"
            ],
            [
             0.4444444444444444,
             "#bd3786"
            ],
            [
             0.5555555555555556,
             "#d8576b"
            ],
            [
             0.6666666666666666,
             "#ed7953"
            ],
            [
             0.7777777777777778,
             "#fb9f3a"
            ],
            [
             0.8888888888888888,
             "#fdca26"
            ],
            [
             1,
             "#f0f921"
            ]
           ],
           "sequentialminus": [
            [
             0,
             "#0d0887"
            ],
            [
             0.1111111111111111,
             "#46039f"
            ],
            [
             0.2222222222222222,
             "#7201a8"
            ],
            [
             0.3333333333333333,
             "#9c179e"
            ],
            [
             0.4444444444444444,
             "#bd3786"
            ],
            [
             0.5555555555555556,
             "#d8576b"
            ],
            [
             0.6666666666666666,
             "#ed7953"
            ],
            [
             0.7777777777777778,
             "#fb9f3a"
            ],
            [
             0.8888888888888888,
             "#fdca26"
            ],
            [
             1,
             "#f0f921"
            ]
           ]
          },
          "colorway": [
           "#636efa",
           "#EF553B",
           "#00cc96",
           "#ab63fa",
           "#FFA15A",
           "#19d3f3",
           "#FF6692",
           "#B6E880",
           "#FF97FF",
           "#FECB52"
          ],
          "font": {
           "color": "#2a3f5f"
          },
          "geo": {
           "bgcolor": "white",
           "lakecolor": "white",
           "landcolor": "#E5ECF6",
           "showlakes": true,
           "showland": true,
           "subunitcolor": "white"
          },
          "hoverlabel": {
           "align": "left"
          },
          "hovermode": "closest",
          "mapbox": {
           "style": "light"
          },
          "paper_bgcolor": "white",
          "plot_bgcolor": "#E5ECF6",
          "polar": {
           "angularaxis": {
            "gridcolor": "white",
            "linecolor": "white",
            "ticks": ""
           },
           "bgcolor": "#E5ECF6",
           "radialaxis": {
            "gridcolor": "white",
            "linecolor": "white",
            "ticks": ""
           }
          },
          "scene": {
           "xaxis": {
            "backgroundcolor": "#E5ECF6",
            "gridcolor": "white",
            "gridwidth": 2,
            "linecolor": "white",
            "showbackground": true,
            "ticks": "",
            "zerolinecolor": "white"
           },
           "yaxis": {
            "backgroundcolor": "#E5ECF6",
            "gridcolor": "white",
            "gridwidth": 2,
            "linecolor": "white",
            "showbackground": true,
            "ticks": "",
            "zerolinecolor": "white"
           },
           "zaxis": {
            "backgroundcolor": "#E5ECF6",
            "gridcolor": "white",
            "gridwidth": 2,
            "linecolor": "white",
            "showbackground": true,
            "ticks": "",
            "zerolinecolor": "white"
           }
          },
          "shapedefaults": {
           "line": {
            "color": "#2a3f5f"
           }
          },
          "ternary": {
           "aaxis": {
            "gridcolor": "white",
            "linecolor": "white",
            "ticks": ""
           },
           "baxis": {
            "gridcolor": "white",
            "linecolor": "white",
            "ticks": ""
           },
           "bgcolor": "#E5ECF6",
           "caxis": {
            "gridcolor": "white",
            "linecolor": "white",
            "ticks": ""
           }
          },
          "title": {
           "x": 0.05
          },
          "xaxis": {
           "automargin": true,
           "gridcolor": "white",
           "linecolor": "white",
           "ticks": "",
           "title": {
            "standoff": 15
           },
           "zerolinecolor": "white",
           "zerolinewidth": 2
          },
          "yaxis": {
           "automargin": true,
           "gridcolor": "white",
           "linecolor": "white",
           "ticks": "",
           "title": {
            "standoff": 15
           },
           "zerolinecolor": "white",
           "zerolinewidth": 2
          }
         }
        },
        "title": {
         "font": {
          "size": 30
         },
         "text": "Heatmap of Temperature Anomalies",
         "x": 0.5
        },
        "width": 1200,
        "xaxis": {
         "autorange": true,
         "range": [
          -0.5,
          30.5
         ],
         "tickangle": 0,
         "tickfont": {
          "size": 30
         },
         "title": {
          "text": "Day of the Month"
         }
        },
        "yaxis": {
         "autorange": true,
         "range": [
          -0.5,
          11.5
         ],
         "tickfont": {
          "size": 30
         },
         "ticktext": [
          "Jan",
          "Feb",
          "Mar",
          "Apr",
          "May",
          "Jun",
          "Jul",
          "Aug",
          "Sep",
          "Oct",
          "Nov",
          "Dec"
         ],
         "tickvals": [
          0,
          1,
          2,
          3,
          4,
          5,
          6,
          7,
          8,
          9,
          10,
          11
         ],
         "title": {
          "text": ""
         }
        }
       }
      },
      "image/png": "[encoded data removed]",
      "text/html": [
       "<div>                            <div id=\"6e9bc0b4-ed4c-4b93-8256-db283952c47c\" class=\"plotly-graph-div\" style=\"height:600px; width:1200px;\"></div>            <script type=\"text/javascript\">                require([\"plotly\"], function(Plotly) {                    window.PLOTLYENV=window.PLOTLYENV || {};                                    if (document.getElementById(\"6e9bc0b4-ed4c-4b93-8256-db283952c47c\")) {                    Plotly.newPlot(                        \"6e9bc0b4-ed4c-4b93-8256-db283952c47c\",                        [{\"colorscale\":[[0.0,\"rgb(253, 237, 176)\"],[0.00392156862745098,\"rgb(253, 235, 174)\"],[0.00784313725490196,\"rgb(253, 234, 173)\"],[0.011764705882352941,\"rgb(253, 233, 172)\"],[0.01568627450980392,\"rgb(253, 231, 170)\"],[0.0196078431372549,\"rgb(252, 230, 169)\"],[0.023529411764705882,\"rgb(252, 228, 167)\"],[0.027450980392156862,\"rgb(252, 227, 166)\"],[0.03137254901960784,\"rgb(252, 226, 165)\"],[0.03529411764705882,\"rgb(252, 224, 163)\"],[0.0392156862745098,\"rgb(252, 223, 162)\"],[0.043137254901960784,\"rgb(252, 221, 161)\"],[0.047058823529411764,\"rgb(252, 220, 159)\"],[0.050980392156862744,\"rgb(251, 219, 158)\"],[0.054901960784313725,\"rgb(251, 217, 157)\"],[0.058823529411764705,\"rgb(251, 216, 156)\"],[0.06274509803921569,\"rgb(251, 214, 154)\"],[0.06666666666666667,\"rgb(251, 213, 153)\"],[0.07058823529411765,\"rgb(251, 212, 152)\"],[0.07450980392156863,\"rgb(251, 210, 150)\"],[0.0784313725490196,\"rgb(250, 209, 149)\"],[0.08235294117647059,\"rgb(250, 207, 148)\"],[0.08627450980392157,\"rgb(250, 206, 147)\"],[0.09019607843137255,\"rgb(250, 205, 145)\"],[0.09411764705882353,\"rgb(250, 203, 144)\"],[0.09803921568627451,\"rgb(250, 202, 143)\"],[0.10196078431372549,\"rgb(250, 200, 142)\"],[0.10588235294117647,\"rgb(249, 199, 141)\"],[0.10980392156862745,\"rgb(249, 198, 139)\"],[0.11372549019607843,\"rgb(249, 196, 138)\"],[0.11764705882352941,\"rgb(249, 195, 137)\"],[0.12156862745098039,\"rgb(249, 194, 136)\"],[0.12549019607843137,\"rgb(249, 192, 135)\"],[0.12941176470588237,\"rgb(248, 191, 134)\"],[0.13333333333333333,\"rgb(248, 189, 132)\"],[0.13725490196078433,\"rgb(248, 188, 131)\"],[0.1411764705882353,\"rgb(248, 187, 130)\"],[0.1450980392156863,\"rgb(248, 185, 129)\"],[0.14901960784313725,\"rgb(247, 184, 128)\"],[0.15294117647058825,\"rgb(247, 183, 127)\"],[0.1568627450980392,\"rgb(247, 181, 126)\"],[0.1607843137254902,\"rgb(247, 180, 125)\"],[0.16470588235294117,\"rgb(247, 178, 124)\"],[0.16862745098039217,\"rgb(247, 177, 122)\"],[0.17254901960784313,\"rgb(246, 176, 121)\"],[0.17647058823529413,\"rgb(246, 174, 120)\"],[0.1803921568627451,\"rgb(246, 173, 119)\"],[0.1843137254901961,\"rgb(246, 172, 118)\"],[0.18823529411764706,\"rgb(245, 170, 117)\"],[0.19215686274509805,\"rgb(245, 169, 116)\"],[0.19607843137254902,\"rgb(245, 168, 115)\"],[0.2,\"rgb(245, 166, 114)\"],[0.20392156862745098,\"rgb(245, 165, 113)\"],[0.20784313725490197,\"rgb(244, 163, 112)\"],[0.21176470588235294,\"rgb(244, 162, 111)\"],[0.21568627450980393,\"rgb(244, 161, 110)\"],[0.2196078431372549,\"rgb(244, 159, 109)\"],[0.2235294117647059,\"rgb(243, 158, 108)\"],[0.22745098039215686,\"rgb(243, 157, 108)\"],[0.23137254901960785,\"rgb(243, 155, 107)\"],[0.23529411764705882,\"rgb(243, 154, 106)\"],[0.23921568627450981,\"rgb(242, 153, 105)\"],[0.24313725490196078,\"rgb(242, 151, 104)\"],[0.24705882352941178,\"rgb(242, 150, 103)\"],[0.25098039215686274,\"rgb(241, 148, 102)\"],[0.2549019607843137,\"rgb(241, 147, 101)\"],[0.25882352941176473,\"rgb(241, 146, 101)\"],[0.2627450980392157,\"rgb(241, 144, 100)\"],[0.26666666666666666,\"rgb(240, 143, 99)\"],[0.27058823529411763,\"rgb(240, 142, 98)\"],[0.27450980392156865,\"rgb(240, 140, 97)\"],[0.2784313725490196,\"rgb(239, 139, 97)\"],[0.2823529411764706,\"rgb(239, 138, 96)\"],[0.28627450980392155,\"rgb(239, 136, 95)\"],[0.2901960784313726,\"rgb(238, 135, 94)\"],[0.29411764705882354,\"rgb(238, 133, 94)\"],[0.2980392156862745,\"rgb(238, 132, 93)\"],[0.30196078431372547,\"rgb(237, 131, 92)\"],[0.3058823529411765,\"rgb(237, 129, 92)\"],[0.30980392156862746,\"rgb(237, 128, 91)\"],[0.3137254901960784,\"rgb(236, 127, 91)\"],[0.3176470588235294,\"rgb(236, 125, 90)\"],[0.3215686274509804,\"rgb(235, 124, 89)\"],[0.3254901960784314,\"rgb(235, 123, 89)\"],[0.32941176470588235,\"rgb(235, 121, 88)\"],[0.3333333333333333,\"rgb(234, 120, 88)\"],[0.33725490196078434,\"rgb(234, 118, 87)\"],[0.3411764705882353,\"rgb(233, 117, 87)\"],[0.34509803921568627,\"rgb(233, 116, 86)\"],[0.34901960784313724,\"rgb(232, 114, 86)\"],[0.35294117647058826,\"rgb(232, 113, 85)\"],[0.3568627450980392,\"rgb(232, 112, 85)\"],[0.3607843137254902,\"rgb(231, 110, 85)\"],[0.36470588235294116,\"rgb(231, 109, 84)\"],[0.3686274509803922,\"rgb(230, 108, 84)\"],[0.37254901960784315,\"rgb(230, 106, 84)\"],[0.3764705882352941,\"rgb(229, 105, 83)\"],[0.3803921568627451,\"rgb(229, 104, 83)\"],[0.3843137254901961,\"rgb(228, 102, 83)\"],[0.38823529411764707,\"rgb(228, 101, 83)\"],[0.39215686274509803,\"rgb(227, 100, 83)\"],[0.396078431372549,\"rgb(226, 98, 82)\"],[0.4,\"rgb(226, 97, 82)\"],[0.403921568627451,\"rgb(225, 96, 82)\"],[0.40784313725490196,\"rgb(225, 95, 82)\"],[0.4117647058823529,\"rgb(224, 93, 82)\"],[0.41568627450980394,\"rgb(223, 92, 82)\"],[0.4196078431372549,\"rgb(223, 91, 82)\"],[0.4235294117647059,\"rgb(222, 89, 82)\"],[0.42745098039215684,\"rgb(221, 88, 82)\"],[0.43137254901960786,\"rgb(221, 87, 82)\"],[0.43529411764705883,\"rgb(220, 86, 82)\"],[0.4392156862745098,\"rgb(219, 85, 82)\"],[0.44313725490196076,\"rgb(218, 83, 82)\"],[0.4470588235294118,\"rgb(218, 82, 83)\"],[0.45098039215686275,\"rgb(217, 81, 83)\"],[0.4549019607843137,\"rgb(216, 80, 83)\"],[0.4588235294117647,\"rgb(215, 79, 83)\"],[0.4627450980392157,\"rgb(215, 77, 83)\"],[0.4666666666666667,\"rgb(214, 76, 83)\"],[0.47058823529411764,\"rgb(213, 75, 84)\"],[0.4745098039215686,\"rgb(212, 74, 84)\"],[0.47843137254901963,\"rgb(211, 73, 84)\"],[0.4823529411764706,\"rgb(210, 72, 84)\"],[0.48627450980392156,\"rgb(209, 71, 85)\"],[0.49019607843137253,\"rgb(208, 70, 85)\"],[0.49411764705882355,\"rgb(208, 69, 85)\"],[0.4980392156862745,\"rgb(207, 68, 86)\"],[0.5019607843137255,\"rgb(206, 67, 86)\"],[0.5058823529411764,\"rgb(205, 66, 86)\"],[0.5098039215686274,\"rgb(204, 65, 87)\"],[0.5137254901960784,\"rgb(203, 64, 87)\"],[0.5176470588235295,\"rgb(202, 63, 87)\"],[0.5215686274509804,\"rgb(201, 62, 88)\"],[0.5254901960784314,\"rgb(200, 61, 88)\"],[0.5294117647058824,\"rgb(199, 60, 88)\"],[0.5333333333333333,\"rgb(198, 59, 89)\"],[0.5372549019607843,\"rgb(197, 58, 89)\"],[0.5411764705882353,\"rgb(196, 57, 89)\"],[0.5450980392156862,\"rgb(195, 56, 90)\"],[0.5490196078431373,\"rgb(193, 56, 90)\"],[0.5529411764705883,\"rgb(192, 55, 90)\"],[0.5568627450980392,\"rgb(191, 54, 91)\"],[0.5607843137254902,\"rgb(190, 53, 91)\"],[0.5647058823529412,\"rgb(189, 52, 91)\"],[0.5686274509803921,\"rgb(188, 52, 92)\"],[0.5725490196078431,\"rgb(187, 51, 92)\"],[0.5764705882352941,\"rgb(186, 50, 92)\"],[0.5803921568627451,\"rgb(185, 49, 93)\"],[0.5843137254901961,\"rgb(184, 48, 93)\"],[0.5882352941176471,\"rgb(182, 48, 93)\"],[0.592156862745098,\"rgb(181, 47, 93)\"],[0.596078431372549,\"rgb(180, 46, 94)\"],[0.6,\"rgb(179, 46, 94)\"],[0.6039215686274509,\"rgb(178, 45, 94)\"],[0.6078431372549019,\"rgb(177, 44, 95)\"],[0.611764705882353,\"rgb(175, 44, 95)\"],[0.615686274509804,\"rgb(174, 43, 95)\"],[0.6196078431372549,\"rgb(173, 42, 95)\"],[0.6235294117647059,\"rgb(172, 42, 96)\"],[0.6274509803921569,\"rgb(171, 41, 96)\"],[0.6313725490196078,\"rgb(169, 40, 96)\"],[0.6352941176470588,\"rgb(168, 40, 96)\"],[0.6392156862745098,\"rgb(167, 39, 97)\"],[0.6431372549019608,\"rgb(166, 39, 97)\"],[0.6470588235294118,\"rgb(165, 38, 97)\"],[0.6509803921568628,\"rgb(163, 37, 97)\"],[0.6549019607843137,\"rgb(162, 37, 97)\"],[0.6588235294117647,\"rgb(161, 36, 98)\"],[0.6627450980392157,\"rgb(160, 36, 98)\"],[0.6666666666666666,\"rgb(158, 35, 98)\"],[0.6705882352941176,\"rgb(157, 35, 98)\"],[0.6745098039215687,\"rgb(156, 34, 98)\"],[0.6784313725490196,\"rgb(155, 34, 98)\"],[0.6823529411764706,\"rgb(153, 33, 98)\"],[0.6862745098039216,\"rgb(152, 33, 99)\"],[0.6901960784313725,\"rgb(151, 33, 99)\"],[0.6941176470588235,\"rgb(149, 32, 99)\"],[0.6980392156862745,\"rgb(148, 32, 99)\"],[0.7019607843137254,\"rgb(147, 31, 99)\"],[0.7058823529411765,\"rgb(146, 31, 99)\"],[0.7098039215686275,\"rgb(144, 31, 99)\"],[0.7137254901960784,\"rgb(143, 30, 99)\"],[0.7176470588235294,\"rgb(142, 30, 99)\"],[0.7215686274509804,\"rgb(140, 30, 99)\"],[0.7254901960784313,\"rgb(139, 29, 99)\"],[0.7294117647058823,\"rgb(138, 29, 99)\"],[0.7333333333333333,\"rgb(136, 29, 99)\"],[0.7372549019607844,\"rgb(135, 28, 99)\"],[0.7411764705882353,\"rgb(134, 28, 99)\"],[0.7450980392156863,\"rgb(133, 28, 99)\"],[0.7490196078431373,\"rgb(131, 28, 98)\"],[0.7529411764705882,\"rgb(130, 27, 98)\"],[0.7568627450980392,\"rgb(129, 27, 98)\"],[0.7607843137254902,\"rgb(127, 27, 98)\"],[0.7647058823529411,\"rgb(126, 27, 98)\"],[0.7686274509803922,\"rgb(125, 26, 98)\"],[0.7725490196078432,\"rgb(123, 26, 97)\"],[0.7764705882352941,\"rgb(122, 26, 97)\"],[0.7803921568627451,\"rgb(120, 26, 97)\"],[0.7843137254901961,\"rgb(119, 26, 97)\"],[0.788235294117647,\"rgb(118, 26, 96)\"],[0.792156862745098,\"rgb(116, 25, 96)\"],[0.796078431372549,\"rgb(115, 25, 96)\"],[0.8,\"rgb(114, 25, 95)\"],[0.803921568627451,\"rgb(112, 25, 95)\"],[0.807843137254902,\"rgb(111, 25, 95)\"],[0.8117647058823529,\"rgb(110, 25, 94)\"],[0.8156862745098039,\"rgb(108, 25, 94)\"],[0.8196078431372549,\"rgb(107, 24, 93)\"],[0.8235294117647058,\"rgb(106, 24, 93)\"],[0.8274509803921568,\"rgb(104, 24, 93)\"],[0.8313725490196079,\"rgb(103, 24, 92)\"],[0.8352941176470589,\"rgb(102, 24, 92)\"],[0.8392156862745098,\"rgb(100, 24, 91)\"],[0.8431372549019608,\"rgb(99, 24, 91)\"],[0.8470588235294118,\"rgb(98, 23, 90)\"],[0.8509803921568627,\"rgb(96, 23, 90)\"],[0.8549019607843137,\"rgb(95, 23, 89)\"],[0.8588235294117647,\"rgb(94, 23, 89)\"],[0.8627450980392157,\"rgb(92, 23, 88)\"],[0.8666666666666667,\"rgb(91, 23, 87)\"],[0.8705882352941177,\"rgb(89, 23, 87)\"],[0.8745098039215686,\"rgb(88, 23, 86)\"],[0.8784313725490196,\"rgb(87, 22, 86)\"],[0.8823529411764706,\"rgb(85, 22, 85)\"],[0.8862745098039215,\"rgb(84, 22, 84)\"],[0.8901960784313725,\"rgb(83, 22, 84)\"],[0.8941176470588236,\"rgb(82, 22, 83)\"],[0.8980392156862745,\"rgb(80, 22, 82)\"],[0.9019607843137255,\"rgb(79, 21, 82)\"],[0.9058823529411765,\"rgb(78, 21, 81)\"],[0.9098039215686274,\"rgb(76, 21, 80)\"],[0.9137254901960784,\"rgb(75, 21, 79)\"],[0.9176470588235294,\"rgb(74, 21, 79)\"],[0.9215686274509803,\"rgb(72, 20, 78)\"],[0.9254901960784314,\"rgb(71, 20, 77)\"],[0.9294117647058824,\"rgb(70, 20, 76)\"],[0.9333333333333333,\"rgb(68, 20, 76)\"],[0.9372549019607843,\"rgb(67, 19, 75)\"],[0.9411764705882353,\"rgb(66, 19, 74)\"],[0.9450980392156862,\"rgb(65, 19, 73)\"],[0.9490196078431372,\"rgb(63, 19, 73)\"],[0.9529411764705882,\"rgb(62, 18, 72)\"],[0.9568627450980393,\"rgb(61, 18, 71)\"],[0.9607843137254902,\"rgb(59, 18, 70)\"],[0.9647058823529412,\"rgb(58, 18, 69)\"],[0.9686274509803922,\"rgb(57, 17, 68)\"],[0.9725490196078431,\"rgb(56, 17, 68)\"],[0.9764705882352941,\"rgb(54, 17, 67)\"],[0.9803921568627451,\"rgb(53, 16, 66)\"],[0.984313725490196,\"rgb(52, 16, 65)\"],[0.9882352941176471,\"rgb(50, 16, 64)\"],[0.9921568627450981,\"rgb(49, 15, 63)\"],[0.996078431372549,\"rgb(48, 15, 62)\"],[1.0,\"rgb(47, 15, 61)\"]],\"showscale\":false,\"text\":[[\"1.0\",\"1.0\",\"1.0\",\"1.0\",\"1.0\",\"1.0\",\"0.0\",\"0.0\",\"0.0\",\"0.0\",\"0.0\",\"0.0\",\"0.0\",\"0.0\",\"0.0\",\"0.0\",\"0.0\",\"0.0\",\"0.0\",\"0.0\",\"0.0\",\"0.0\",\"0.0\",\"0.0\",\"0.0\",\"0.0\",\"0.0\",\"0.0\",\"0.0\",\"0.0\",\"0.0\"],[\"0.0\",\"0.0\",\"0.0\",\"0.0\",\"0.0\",\"0.0\",\"0.0\",\"0.0\",\"0.0\",\"0.0\",\"0.0\",\"0.0\",\"0.0\",\"0.0\",\"0.0\",\"0.0\",\"0.0\",\"0.0\",\"0.0\",\"0.0\",\"0.0\",\"0.0\",\"0.0\",\"0.0\",\"0.0\",\"0.0\",\"0.0\",\"0.0\",\"\",\"\",\"\"],[\"0.0\",\"0.0\",\"0.0\",\"0.0\",\"0.0\",\"0.0\",\"0.0\",\"0.0\",\"0.0\",\"0.0\",\"0.0\",\"0.0\",\"0.0\",\"0.0\",\"0.0\",\"0.0\",\"0.0\",\"0.0\",\"0.0\",\"0.0\",\"0.0\",\"0.0\",\"0.0\",\"0.0\",\"0.0\",\"0.0\",\"0.0\",\"0.0\",\"0.0\",\"0.0\",\"0.0\"],[\"0.0\",\"0.0\",\"0.0\",\"0.0\",\"0.0\",\"0.0\",\"0.0\",\"0.0\",\"0.0\",\"0.0\",\"0.0\",\"0.0\",\"0.0\",\"0.0\",\"0.0\",\"0.0\",\"0.0\",\"0.0\",\"0.0\",\"0.0\",\"0.0\",\"0.0\",\"0.0\",\"0.0\",\"1.0\",\"1.0\",\"1.0\",\"1.0\",\"1.0\",\"1.0\",\"\"],[\"1.0\",\"1.0\",\"1.0\",\"1.0\",\"1.0\",\"1.0\",\"1.0\",\"1.0\",\"1.0\",\"1.0\",\"1.0\",\"1.0\",\"1.0\",\"1.0\",\"1.0\",\"1.0\",\"1.0\",\"1.0\",\"1.0\",\"1.0\",\"1.0\",\"1.0\",\"1.0\",\"1.0\",\"1.0\",\"1.0\",\"1.0\",\"1.0\",\"1.0\",\"1.0\",\"1.0\"],[\"1.0\",\"1.0\",\"0.0\",\"0.0\",\"0.0\",\"0.0\",\"0.0\",\"0.0\",\"0.0\",\"0.0\",\"0.0\",\"0.0\",\"0.0\",\"0.0\",\"0.0\",\"0.0\",\"0.0\",\"0.0\",\"0.0\",\"0.0\",\"0.0\",\"0.0\",\"0.0\",\"0.0\",\"0.0\",\"0.0\",\"0.0\",\"0.0\",\"0.0\",\"0.0\",\"\"],[\"0.0\",\"0.0\",\"0.0\",\"0.0\",\"0.0\",\"0.0\",\"0.0\",\"0.0\",\"0.0\",\"0.0\",\"0.0\",\"0.0\",\"0.0\",\"0.0\",\"0.0\",\"0.0\",\"0.0\",\"0.0\",\"0.0\",\"0.0\",\"0.0\",\"0.0\",\"0.0\",\"0.0\",\"0.0\",\"0.0\",\"0.0\",\"0.0\",\"0.0\",\"0.0\",\"0.0\"],[\"0.0\",\"0.0\",\"0.0\",\"0.0\",\"0.0\",\"0.0\",\"0.0\",\"0.0\",\"0.0\",\"0.0\",\"0.0\",\"0.0\",\"0.0\",\"0.0\",\"0.0\",\"0.0\",\"0.0\",\"0.0\",\"0.0\",\"0.0\",\"0.0\",\"0.0\",\"0.0\",\"0.0\",\"0.0\",\"0.0\",\"0.0\",\"0.0\",\"0.0\",\"0.0\",\"0.0\"],[\"0.0\",\"0.0\",\"0.0\",\"0.0\",\"0.0\",\"0.0\",\"0.0\",\"0.0\",\"0.0\",\"0.0\",\"0.0\",\"0.0\",\"0.0\",\"0.0\",\"0.0\",\"0.0\",\"0.0\",\"0.0\",\"0.0\",\"0.0\",\"0.0\",\"0.0\",\"0.0\",\"0.0\",\"0.0\",\"0.0\",\"0.0\",\"0.0\",\"0.0\",\"0.0\",\"\"],[\"0.0\",\"0.0\",\"0.0\",\"0.0\",\"0.0\",\"0.0\",\"0.0\",\"0.0\",\"0.0\",\"0.0\",\"0.0\",\"0.0\",\"0.0\",\"0.0\",\"0.0\",\"0.0\",\"0.0\",\"0.0\",\"0.0\",\"0.0\",\"0.0\",\"0.0\",\"0.0\",\"0.0\",\"0.0\",\"0.0\",\"0.0\",\"0.0\",\"0.0\",\"0.0\",\"0.0\"],[\"0.0\",\"0.0\",\"0.0\",\"0.0\",\"0.0\",\"0.0\",\"0.0\",\"0.0\",\"0.0\",\"0.0\",\"0.0\",\"0.0\",\"0.0\",\"0.0\",\"0.0\",\"0.0\",\"0.0\",\"0.0\",\"0.0\",\"0.0\",\"0.0\",\"0.0\",\"0.0\",\"0.0\",\"0.0\",\"0.0\",\"0.0\",\"0.0\",\"0.0\",\"0.0\",\"\"],[\"0.0\",\"0.0\",\"0.0\",\"0.0\",\"0.0\",\"0.0\",\"0.0\",\"0.0\",\"0.0\",\"0.0\",\"0.0\",\"0.0\",\"0.0\",\"0.0\",\"0.0\",\"1.0\",\"1.0\",\"1.0\",\"1.0\",\"1.0\",\"1.0\",\"1.0\",\"1.0\",\"1.0\",\"1.0\",\"1.0\",\"1.0\",\"1.0\",\"1.0\",\"1.0\",\"1.0\"]],\"textfont\":{\"size\":18},\"texttemplate\":\"%{text:.0f}\",\"z\":[[1.0,1.0,1.0,1.0,1.0,1.0,0.0,0.0,0.0,0.0,0.0,0.0,0.0,0.0,0.0,0.0,0.0,0.0,0.0,0.0,0.0,0.0,0.0,0.0,0.0,0.0,0.0,0.0,0.0,0.0,0.0],[0.0,0.0,0.0,0.0,0.0,0.0,0.0,0.0,0.0,0.0,0.0,0.0,0.0,0.0,0.0,0.0,0.0,0.0,0.0,0.0,0.0,0.0,0.0,0.0,0.0,0.0,0.0,0.0,null,null,null],[0.0,0.0,0.0,0.0,0.0,0.0,0.0,0.0,0.0,0.0,0.0,0.0,0.0,0.0,0.0,0.0,0.0,0.0,0.0,0.0,0.0,0.0,0.0,0.0,0.0,0.0,0.0,0.0,0.0,0.0,0.0],[0.0,0.0,0.0,0.0,0.0,0.0,0.0,0.0,0.0,0.0,0.0,0.0,0.0,0.0,0.0,0.0,0.0,0.0,0.0,0.0,0.0,0.0,0.0,0.0,1.0,1.0,1.0,1.0,1.0,1.0,null],[1.0,1.0,1.0,1.0,1.0,1.0,1.0,1.0,1.0,1.0,1.0,1.0,1.0,1.0,1.0,1.0,1.0,1.0,1.0,1.0,1.0,1.0,1.0,1.0,1.0,1.0,1.0,1.0,1.0,1.0,1.0],[1.0,1.0,0.0,0.0,0.0,0.0,0.0,0.0,0.0,0.0,0.0,0.0,0.0,0.0,0.0,0.0,0.0,0.0,0.0,0.0,0.0,0.0,0.0,0.0,0.0,0.0,0.0,0.0,0.0,0.0,null],[0.0,0.0,0.0,0.0,0.0,0.0,0.0,0.0,0.0,0.0,0.0,0.0,0.0,0.0,0.0,0.0,0.0,0.0,0.0,0.0,0.0,0.0,0.0,0.0,0.0,0.0,0.0,0.0,0.0,0.0,0.0],[0.0,0.0,0.0,0.0,0.0,0.0,0.0,0.0,0.0,0.0,0.0,0.0,0.0,0.0,0.0,0.0,0.0,0.0,0.0,0.0,0.0,0.0,0.0,0.0,0.0,0.0,0.0,0.0,0.0,0.0,0.0],[0.0,0.0,0.0,0.0,0.0,0.0,0.0,0.0,0.0,0.0,0.0,0.0,0.0,0.0,0.0,0.0,0.0,0.0,0.0,0.0,0.0,0.0,0.0,0.0,0.0,0.0,0.0,0.0,0.0,0.0,null],[0.0,0.0,0.0,0.0,0.0,0.0,0.0,0.0,0.0,0.0,0.0,0.0,0.0,0.0,0.0,0.0,0.0,0.0,0.0,0.0,0.0,0.0,0.0,0.0,0.0,0.0,0.0,0.0,0.0,0.0,0.0],[0.0,0.0,0.0,0.0,0.0,0.0,0.0,0.0,0.0,0.0,0.0,0.0,0.0,0.0,0.0,0.0,0.0,0.0,0.0,0.0,0.0,0.0,0.0,0.0,0.0,0.0,0.0,0.0,0.0,0.0,null],[0.0,0.0,0.0,0.0,0.0,0.0,0.0,0.0,0.0,0.0,0.0,0.0,0.0,0.0,0.0,1.0,1.0,1.0,1.0,1.0,1.0,1.0,1.0,1.0,1.0,1.0,1.0,1.0,1.0,1.0,1.0]],\"zmax\":1.0,\"zmin\":0.0,\"type\":\"heatmap\"}],                        {\"template\":{\"data\":{\"histogram2dcontour\":[{\"type\":\"histogram2dcontour\",\"colorbar\":{\"outlinewidth\":0,\"ticks\":\"\"},\"colorscale\":[[0.0,\"#0d0887\"],[0.1111111111111111,\"#46039f\"],[0.2222222222222222,\"#7201a8\"],[0.3333333333333333,\"#9c179e\"],[0.4444444444444444,\"#bd3786\"],[0.5555555555555556,\"#d8576b\"],[0.6666666666666666,\"#ed7953\"],[0.7777777777777778,\"#fb9f3a\"],[0.8888888888888888,\"#fdca26\"],[1.0,\"#f0f921\"]]}],\"choropleth\":[{\"type\":\"choropleth\",\"colorbar\":{\"outlinewidth\":0,\"ticks\":\"\"}}],\"histogram2d\":[{\"type\":\"histogram2d\",\"colorbar\":{\"outlinewidth\":0,\"ticks\":\"\"},\"colorscale\":[[0.0,\"#0d0887\"],[0.1111111111111111,\"#46039f\"],[0.2222222222222222,\"#7201a8\"],[0.3333333333333333,\"#9c179e\"],[0.4444444444444444,\"#bd3786\"],[0.5555555555555556,\"#d8576b\"],[0.6666666666666666,\"#ed7953\"],[0.7777777777777778,\"#fb9f3a\"],[0.8888888888888888,\"#fdca26\"],[1.0,\"#f0f921\"]]}],\"heatmap\":[{\"type\":\"heatmap\",\"colorbar\":{\"outlinewidth\":0,\"ticks\":\"\"},\"colorscale\":[[0.0,\"#0d0887\"],[0.1111111111111111,\"#46039f\"],[0.2222222222222222,\"#7201a8\"],[0.3333333333333333,\"#9c179e\"],[0.4444444444444444,\"#bd3786\"],[0.5555555555555556,\"#d8576b\"],[0.6666666666666666,\"#ed7953\"],[0.7777777777777778,\"#fb9f3a\"],[0.8888888888888888,\"#fdca26\"],[1.0,\"#f0f921\"]]}],\"heatmapgl\":[{\"type\":\"heatmapgl\",\"colorbar\":{\"outlinewidth\":0,\"ticks\":\"\"},\"colorscale\":[[0.0,\"#0d0887\"],[0.1111111111111111,\"#46039f\"],[0.2222222222222222,\"#7201a8\"],[0.3333333333333333,\"#9c179e\"],[0.4444444444444444,\"#bd3786\"],[0.5555555555555556,\"#d8576b\"],[0.6666666666666666,\"#ed7953\"],[0.7777777777777778,\"#fb9f3a\"],[0.8888888888888888,\"#fdca26\"],[1.0,\"#f0f921\"]]}],\"contourcarpet\":[{\"type\":\"contourcarpet\",\"colorbar\":{\"outlinewidth\":0,\"ticks\":\"\"}}],\"contour\":[{\"type\":\"contour\",\"colorbar\":{\"outlinewidth\":0,\"ticks\":\"\"},\"colorscale\":[[0.0,\"#0d0887\"],[0.1111111111111111,\"#46039f\"],[0.2222222222222222,\"#7201a8\"],[0.3333333333333333,\"#9c179e\"],[0.4444444444444444,\"#bd3786\"],[0.5555555555555556,\"#d8576b\"],[0.6666666666666666,\"#ed7953\"],[0.7777777777777778,\"#fb9f3a\"],[0.8888888888888888,\"#fdca26\"],[1.0,\"#f0f921\"]]}],\"surface\":[{\"type\":\"surface\",\"colorbar\":{\"outlinewidth\":0,\"ticks\":\"\"},\"colorscale\":[[0.0,\"#0d0887\"],[0.1111111111111111,\"#46039f\"],[0.2222222222222222,\"#7201a8\"],[0.3333333333333333,\"#9c179e\"],[0.4444444444444444,\"#bd3786\"],[0.5555555555555556,\"#d8576b\"],[0.6666666666666666,\"#ed7953\"],[0.7777777777777778,\"#fb9f3a\"],[0.8888888888888888,\"#fdca26\"],[1.0,\"#f0f921\"]]}],\"mesh3d\":[{\"type\":\"mesh3d\",\"colorbar\":{\"outlinewidth\":0,\"ticks\":\"\"}}],\"scatter\":[{\"fillpattern\":{\"fillmode\":\"overlay\",\"size\":10,\"solidity\":0.2},\"type\":\"scatter\"}],\"parcoords\":[{\"type\":\"parcoords\",\"line\":{\"colorbar\":{\"outlinewidth\":0,\"ticks\":\"\"}}}],\"scatterpolargl\":[{\"type\":\"scatterpolargl\",\"marker\":{\"colorbar\":{\"outlinewidth\":0,\"ticks\":\"\"}}}],\"bar\":[{\"error_x\":{\"color\":\"#2a3f5f\"},\"error_y\":{\"color\":\"#2a3f5f\"},\"marker\":{\"line\":{\"color\":\"#E5ECF6\",\"width\":0.5},\"pattern\":{\"fillmode\":\"overlay\",\"size\":10,\"solidity\":0.2}},\"type\":\"bar\"}],\"scattergeo\":[{\"type\":\"scattergeo\",\"marker\":{\"colorbar\":{\"outlinewidth\":0,\"ticks\":\"\"}}}],\"scatterpolar\":[{\"type\":\"scatterpolar\",\"marker\":{\"colorbar\":{\"outlinewidth\":0,\"ticks\":\"\"}}}],\"histogram\":[{\"marker\":{\"pattern\":{\"fillmode\":\"overlay\",\"size\":10,\"solidity\":0.2}},\"type\":\"histogram\"}],\"scattergl\":[{\"type\":\"scattergl\",\"marker\":{\"colorbar\":{\"outlinewidth\":0,\"ticks\":\"\"}}}],\"scatter3d\":[{\"type\":\"scatter3d\",\"line\":{\"colorbar\":{\"outlinewidth\":0,\"ticks\":\"\"}},\"marker\":{\"colorbar\":{\"outlinewidth\":0,\"ticks\":\"\"}}}],\"scattermapbox\":[{\"type\":\"scattermapbox\",\"marker\":{\"colorbar\":{\"outlinewidth\":0,\"ticks\":\"\"}}}],\"scatterternary\":[{\"type\":\"scatterternary\",\"marker\":{\"colorbar\":{\"outlinewidth\":0,\"ticks\":\"\"}}}],\"scattercarpet\":[{\"type\":\"scattercarpet\",\"marker\":{\"colorbar\":{\"outlinewidth\":0,\"ticks\":\"\"}}}],\"carpet\":[{\"aaxis\":{\"endlinecolor\":\"#2a3f5f\",\"gridcolor\":\"white\",\"linecolor\":\"white\",\"minorgridcolor\":\"white\",\"startlinecolor\":\"#2a3f5f\"},\"baxis\":{\"endlinecolor\":\"#2a3f5f\",\"gridcolor\":\"white\",\"linecolor\":\"white\",\"minorgridcolor\":\"white\",\"startlinecolor\":\"#2a3f5f\"},\"type\":\"carpet\"}],\"table\":[{\"cells\":{\"fill\":{\"color\":\"#EBF0F8\"},\"line\":{\"color\":\"white\"}},\"header\":{\"fill\":{\"color\":\"#C8D4E3\"},\"line\":{\"color\":\"white\"}},\"type\":\"table\"}],\"barpolar\":[{\"marker\":{\"line\":{\"color\":\"#E5ECF6\",\"width\":0.5},\"pattern\":{\"fillmode\":\"overlay\",\"size\":10,\"solidity\":0.2}},\"type\":\"barpolar\"}],\"pie\":[{\"automargin\":true,\"type\":\"pie\"}]},\"layout\":{\"autotypenumbers\":\"strict\",\"colorway\":[\"#636efa\",\"#EF553B\",\"#00cc96\",\"#ab63fa\",\"#FFA15A\",\"#19d3f3\",\"#FF6692\",\"#B6E880\",\"#FF97FF\",\"#FECB52\"],\"font\":{\"color\":\"#2a3f5f\"},\"hovermode\":\"closest\",\"hoverlabel\":{\"align\":\"left\"},\"paper_bgcolor\":\"white\",\"plot_bgcolor\":\"#E5ECF6\",\"polar\":{\"bgcolor\":\"#E5ECF6\",\"angularaxis\":{\"gridcolor\":\"white\",\"linecolor\":\"white\",\"ticks\":\"\"},\"radialaxis\":{\"gridcolor\":\"white\",\"linecolor\":\"white\",\"ticks\":\"\"}},\"ternary\":{\"bgcolor\":\"#E5ECF6\",\"aaxis\":{\"gridcolor\":\"white\",\"linecolor\":\"white\",\"ticks\":\"\"},\"baxis\":{\"gridcolor\":\"white\",\"linecolor\":\"white\",\"ticks\":\"\"},\"caxis\":{\"gridcolor\":\"white\",\"linecolor\":\"white\",\"ticks\":\"\"}},\"coloraxis\":{\"colorbar\":{\"outlinewidth\":0,\"ticks\":\"\"}},\"colorscale\":{\"sequential\":[[0.0,\"#0d0887\"],[0.1111111111111111,\"#46039f\"],[0.2222222222222222,\"#7201a8\"],[0.3333333333333333,\"#9c179e\"],[0.4444444444444444,\"#bd3786\"],[0.5555555555555556,\"#d8576b\"],[0.6666666666666666,\"#ed7953\"],[0.7777777777777778,\"#fb9f3a\"],[0.8888888888888888,\"#fdca26\"],[1.0,\"#f0f921\"]],\"sequentialminus\":[[0.0,\"#0d0887\"],[0.1111111111111111,\"#46039f\"],[0.2222222222222222,\"#7201a8\"],[0.3333333333333333,\"#9c179e\"],[0.4444444444444444,\"#bd3786\"],[0.5555555555555556,\"#d8576b\"],[0.6666666666666666,\"#ed7953\"],[0.7777777777777778,\"#fb9f3a\"],[0.8888888888888888,\"#fdca26\"],[1.0,\"#f0f921\"]],\"diverging\":[[0,\"#8e0152\"],[0.1,\"#c51b7d\"],[0.2,\"#de77ae\"],[0.3,\"#f1b6da\"],[0.4,\"#fde0ef\"],[0.5,\"#f7f7f7\"],[0.6,\"#e6f5d0\"],[0.7,\"#b8e186\"],[0.8,\"#7fbc41\"],[0.9,\"#4d9221\"],[1,\"#276419\"]]},\"xaxis\":{\"gridcolor\":\"white\",\"linecolor\":\"white\",\"ticks\":\"\",\"title\":{\"standoff\":15},\"zerolinecolor\":\"white\",\"automargin\":true,\"zerolinewidth\":2},\"yaxis\":{\"gridcolor\":\"white\",\"linecolor\":\"white\",\"ticks\":\"\",\"title\":{\"standoff\":15},\"zerolinecolor\":\"white\",\"automargin\":true,\"zerolinewidth\":2},\"scene\":{\"xaxis\":{\"backgroundcolor\":\"#E5ECF6\",\"gridcolor\":\"white\",\"linecolor\":\"white\",\"showbackground\":true,\"ticks\":\"\",\"zerolinecolor\":\"white\",\"gridwidth\":2},\"yaxis\":{\"backgroundcolor\":\"#E5ECF6\",\"gridcolor\":\"white\",\"linecolor\":\"white\",\"showbackground\":true,\"ticks\":\"\",\"zerolinecolor\":\"white\",\"gridwidth\":2},\"zaxis\":{\"backgroundcolor\":\"#E5ECF6\",\"gridcolor\":\"white\",\"linecolor\":\"white\",\"showbackground\":true,\"ticks\":\"\",\"zerolinecolor\":\"white\",\"gridwidth\":2}},\"shapedefaults\":{\"line\":{\"color\":\"#2a3f5f\"}},\"annotationdefaults\":{\"arrowcolor\":\"#2a3f5f\",\"arrowhead\":0,\"arrowwidth\":1},\"geo\":{\"bgcolor\":\"white\",\"landcolor\":\"#E5ECF6\",\"subunitcolor\":\"white\",\"showland\":true,\"showlakes\":true,\"lakecolor\":\"white\"},\"title\":{\"x\":0.05},\"mapbox\":{\"style\":\"light\"}}},\"xaxis\":{\"tickfont\":{\"size\":30},\"title\":{\"text\":\"Day of the Month\"},\"tickangle\":0},\"yaxis\":{\"tickfont\":{\"size\":30},\"title\":{\"text\":\"\"},\"tickvals\":[0,1,2,3,4,5,6,7,8,9,10,11],\"ticktext\":[\"Jan\",\"Feb\",\"Mar\",\"Apr\",\"May\",\"Jun\",\"Jul\",\"Aug\",\"Sep\",\"Oct\",\"Nov\",\"Dec\"]},\"title\":{\"text\":\"Heatmap of Temperature Anomalies\",\"x\":0.5,\"font\":{\"size\":30}},\"width\":1200,\"height\":600},                        {\"responsive\": true}                    ).then(function(){\n",
       "                            \n",
       "var gd = document.getElementById('6e9bc0b4-ed4c-4b93-8256-db283952c47c');\n",
       "var x = new MutationObserver(function (mutations, observer) {{\n",
       "        var display = window.getComputedStyle(gd).display;\n",
       "        if (!display || display === 'none') {{\n",
       "            console.log([gd, 'removed!']);\n",
       "            Plotly.purge(gd);\n",
       "            observer.disconnect();\n",
       "        }}\n",
       "}});\n",
       "\n",
       "// Listen for the removal of the full notebook cells\n",
       "var notebookContainer = gd.closest('#notebook-container');\n",
       "if (notebookContainer) {{\n",
       "    x.observe(notebookContainer, {childList: true});\n",
       "}}\n",
       "\n",
       "// Listen for the clearing of the current output cell\n",
       "var outputEl = gd.closest('.output');\n",
       "if (outputEl) {{\n",
       "    x.observe(outputEl, {childList: true});\n",
       "}}\n",
       "\n",
       "                        })                };                });            </script>        </div>"
      ]
     },
     "metadata": {},
     "output_type": "display_data"
    },
    {
     "data": {
      "text/plain": [
       "<Figure size 640x480 with 0 Axes>"
      ]
     },
     "metadata": {},
     "output_type": "display_data"
    }
   ],
   "source": [
    "# Convert the cmocean colormap to a Plotly-compatible colorscale\n",
    "cmocean_colors = cmocean.cm.matter(np.linspace(0, 1, 256))\n",
    "plotly_colorscale = [[i / (len(cmocean_colors) - 1), f'rgb({int(r * 255)}, {int(g * 255)}, {int(b * 255)})'] for i, (r, g, b, a) in enumerate(cmocean_colors)]\n",
    "\n",
    "\n",
    "heatmap_data = np.round(MHWCAT, 2)  # Your heatmap data\n",
    "\n",
    "# Create a text array where NaNs are replaced with empty strings\n",
    "text_data = np.where(np.isnan(heatmap_data), '', heatmap_data.astype(str))\n",
    "\n",
    "# Create the heatmap\n",
    "fig = go.Figure(data=go.Heatmap(\n",
    "    z=heatmap_data,\n",
    "    colorscale=plotly_colorscale,  # Use the converted colormap\n",
    "    zmin=np.min(heatmap_data),\n",
    "    zmax=np.max(heatmap_data),\n",
    "    text=text_data,  # Display text only where there is data\n",
    "    texttemplate='%{text:.0f}',\n",
    "    textfont=dict(size=18),\n",
    "    showscale=False\n",
    "))\n",
    "\n",
    "# Update layout for axis titles, tick labels, and figure dimensions\n",
    "fig.update_layout(\n",
    "    width=1200,  # Set the width of the figure\n",
    "    height=600,  # Set the height of the figure\n",
    "    xaxis=dict(\n",
    "        tickfont=dict(size=30),\n",
    "        title='Day of the Month',  # Adjust as needed\n",
    "        tickangle=0\n",
    "    ),\n",
    "    yaxis=dict(\n",
    "        tickfont=dict(size=30),\n",
    "        title='',  # No y-axis title as per your seaborn plot\n",
    "        tickvals=np.arange(12),  # Adjust if necessary based on your y-axis data\n",
    "        ticktext=['Jan', 'Feb', 'Mar', 'Apr', 'May', 'Jun', 'Jul', 'Aug', 'Sep', 'Oct', 'Nov', 'Dec']\n",
    "    ),\n",
    "    title='Heatmap of Temperature Anomalies',  # Adjust title as needed\n",
    "    title_x=0.5,\n",
    "    title_font=dict(size=30)\n",
    ")\n",
    "\n",
    "# Show figure\n",
    "fig.show()\n",
    "\n",
    "##save fig as png\n",
    "save_results_to = '/g/data/v45/ns3783/ohw24_proj_MessageMeWhenItsHot_the_MHW_Vis-Report_app_au/Figures/'\n",
    "plt.savefig(save_results_to + 'Heatmap_non_interactive_MHW_CAT_for_reference.png', dpi=120,bbox_inches='tight', pad_inches=0.1)"
   ]
  },
  {
   "cell_type": "code",
   "execution_count": 36,
   "id": "a25acee9-3afa-41f6-aa86-95d1abbd176e",
   "metadata": {},
   "outputs": [],
   "source": [
    "# Define the directory where you want to save the HTML file\n",
    "save_directory = '/g/data/v45/ns3783/ohw24_proj_MessageMeWhenItsHot_the_MHW_Vis-Report_app_au/Figures/'\n",
    "# Ensure the directory exists\n",
    "os.makedirs(save_directory, exist_ok=True)\n",
    "\n",
    "# Define the file path\n",
    "file_path = os.path.join(save_directory, 'MHW_CAT_individual_HEATMAP_1_depth.json')\n",
    "\n",
    "# Save the Plotly figure as an HTML file\n",
    "pio.write_json(fig, file=file_path)\n"
   ]
  },
  {
   "cell_type": "markdown",
   "id": "a410678c-80da-4d9d-a8cd-b84c8af20718",
   "metadata": {},
   "source": [
    "____"
   ]
  },
  {
   "cell_type": "markdown",
   "id": "ac65a116-e161-4d3c-b444-2fddb46871d6",
   "metadata": {},
   "source": [
    "# Create normal and plotly heatmap for MHW events."
   ]
  },
  {
   "cell_type": "code",
   "execution_count": 38,
   "id": "8b9cb1b2-6e69-4a1c-861d-edede739b25f",
   "metadata": {},
   "outputs": [
    {
     "data": {
      "image/png": "[encoded data removed]",
      "text/plain": [
       "<Figure size 2400x1200 with 1 Axes>"
      ]
     },
     "metadata": {},
     "output_type": "display_data"
    },
    {
     "data": {
      "text/plain": [
       "<Figure size 640x480 with 0 Axes>"
      ]
     },
     "metadata": {},
     "output_type": "display_data"
    }
   ],
   "source": [
    "depth_level = 21\n",
    "index_mhw = 12\n",
    "# Step 1: Filter the TEMP data based on TEMP_EXTREME_INDEX == 12\n",
    "filtered_temp = MAI090['TEMP'].sel(\n",
    "    TIME=slice('2022-01-01', '2022-12-31'), DEPTH=depth_level).where(\n",
    "    MAI090['TEMP_EXTREME_INDEX'].sel(DEPTH=depth_level) == index_mhw)\n",
    "\n",
    "# Step 2: Organize the filtered TEMP data into a DataFrame\n",
    "temp_dataframe = organize_temperature_into_dataframe(filtered_temp)\n",
    "\n",
    "# Step 3: Plot the heatmap\n",
    "plt.figure(figsize=(24,12))\n",
    "sns.heatmap(np.round(temp_dataframe, 2), annot=True, cmap=cmocean.cm.matter, \n",
    "            #cbar_kws={'label': 'Temperature ($^{\\circ}C$)'},  # Optional: Add colorbar label\n",
    "            xticklabels=1, yticklabels=1, cbar=False, \n",
    "            annot_kws={\"fontsize\": 18}, linewidths=1, linecolor='black')  # Control the frequency of tick labels\n",
    "\n",
    "# Increase the fontsize of the tick labels\n",
    "plt.xticks(fontsize=30)\n",
    "plt.yticks(fontsize=30, rotation=360)\n",
    "plt.ylabel('')\n",
    "\n",
    "plt.tight_layout()\n",
    "plt.show()\n",
    "\n",
    "##save fig as png\n",
    "save_results_to = '/g/data/v45/ns3783/ohw24_proj_MessageMeWhenItsHot_the_MHW_Vis-Report_app_au/Figures/'\n",
    "plt.savefig(save_results_to + 'Heatmap_non_interactive_MHW_temp_for_reference.png', dpi=120,bbox_inches='tight', pad_inches=0.1)"
   ]
  },
  {
   "cell_type": "code",
   "execution_count": 37,
   "id": "e813523a-aa8b-4551-b75b-1385d11c6364",
   "metadata": {
    "scrolled": true
   },
   "outputs": [
    {
     "data": {
      "application/vnd.plotly.v1+json": {
       "config": {
        "plotlyServerURL": "https://plot.ly"
       },
       "data": [
        {
         "colorbar": {
          "tickvals": [
           14.75,
           15.432500000000001,
           16.115000000000002,
           16.7975,
           17.48
          ],
          "title": {
           "text": "Temperature (°C)"
          }
         },
         "colorscale": [
          [
           0,
           "rgb(253, 237, 176)"
          ],
          [
           0.00392156862745098,
           "rgb(253, 235, 174)"
          ],
          [
           0.00784313725490196,
           "rgb(253, 234, 173)"
          ],
          [
           0.011764705882352941,
           "rgb(253, 233, 172)"
          ],
          [
           0.01568627450980392,
           "rgb(253, 231, 170)"
          ],
          [
           0.0196078431372549,
           "rgb(252, 230, 169)"
          ],
          [
           0.023529411764705882,
           "rgb(252, 228, 167)"
          ],
          [
           0.027450980392156862,
           "rgb(252, 227, 166)"
          ],
          [
           0.03137254901960784,
           "rgb(252, 226, 165)"
          ],
          [
           0.03529411764705882,
           "rgb(252, 224, 163)"
          ],
          [
           0.0392156862745098,
           "rgb(252, 223, 162)"
          ],
          [
           0.043137254901960784,
           "rgb(252, 221, 161)"
          ],
          [
           0.047058823529411764,
           "rgb(252, 220, 159)"
          ],
          [
           0.050980392156862744,
           "rgb(251, 219, 158)"
          ],
          [
           0.054901960784313725,
           "rgb(251, 217, 157)"
          ],
          [
           0.058823529411764705,
           "rgb(251, 216, 156)"
          ],
          [
           0.06274509803921569,
           "rgb(251, 214, 154)"
          ],
          [
           0.06666666666666667,
           "rgb(251, 213, 153)"
          ],
          [
           0.07058823529411765,
           "rgb(251, 212, 152)"
          ],
          [
           0.07450980392156863,
           "rgb(251, 210, 150)"
          ],
          [
           0.0784313725490196,
           "rgb(250, 209, 149)"
          ],
          [
           0.08235294117647059,
           "rgb(250, 207, 148)"
          ],
          [
           0.08627450980392157,
           "rgb(250, 206, 147)"
          ],
          [
           0.09019607843137255,
           "rgb(250, 205, 145)"
          ],
          [
           0.09411764705882353,
           "rgb(250, 203, 144)"
          ],
          [
           0.09803921568627451,
           "rgb(250, 202, 143)"
          ],
          [
           0.10196078431372549,
           "rgb(250, 200, 142)"
          ],
          [
           0.10588235294117647,
           "rgb(249, 199, 141)"
          ],
          [
           0.10980392156862745,
           "rgb(249, 198, 139)"
          ],
          [
           0.11372549019607843,
           "rgb(249, 196, 138)"
          ],
          [
           0.11764705882352941,
           "rgb(249, 195, 137)"
          ],
          [
           0.12156862745098039,
           "rgb(249, 194, 136)"
          ],
          [
           0.12549019607843137,
           "rgb(249, 192, 135)"
          ],
          [
           0.12941176470588237,
           "rgb(248, 191, 134)"
          ],
          [
           0.13333333333333333,
           "rgb(248, 189, 132)"
          ],
          [
           0.13725490196078433,
           "rgb(248, 188, 131)"
          ],
          [
           0.1411764705882353,
           "rgb(248, 187, 130)"
          ],
          [
           0.1450980392156863,
           "rgb(248, 185, 129)"
          ],
          [
           0.14901960784313725,
           "rgb(247, 184, 128)"
          ],
          [
           0.15294117647058825,
           "rgb(247, 183, 127)"
          ],
          [
           0.1568627450980392,
           "rgb(247, 181, 126)"
          ],
          [
           0.1607843137254902,
           "rgb(247, 180, 125)"
          ],
          [
           0.16470588235294117,
           "rgb(247, 178, 124)"
          ],
          [
           0.16862745098039217,
           "rgb(247, 177, 122)"
          ],
          [
           0.17254901960784313,
           "rgb(246, 176, 121)"
          ],
          [
           0.17647058823529413,
           "rgb(246, 174, 120)"
          ],
          [
           0.1803921568627451,
           "rgb(246, 173, 119)"
          ],
          [
           0.1843137254901961,
           "rgb(246, 172, 118)"
          ],
          [
           0.18823529411764706,
           "rgb(245, 170, 117)"
          ],
          [
           0.19215686274509805,
           "rgb(245, 169, 116)"
          ],
          [
           0.19607843137254902,
           "rgb(245, 168, 115)"
          ],
          [
           0.2,
           "rgb(245, 166, 114)"
          ],
          [
           0.20392156862745098,
           "rgb(245, 165, 113)"
          ],
          [
           0.20784313725490197,
           "rgb(244, 163, 112)"
          ],
          [
           0.21176470588235294,
           "rgb(244, 162, 111)"
          ],
          [
           0.21568627450980393,
           "rgb(244, 161, 110)"
          ],
          [
           0.2196078431372549,
           "rgb(244, 159, 109)"
          ],
          [
           0.2235294117647059,
           "rgb(243, 158, 108)"
          ],
          [
           0.22745098039215686,
           "rgb(243, 157, 108)"
          ],
          [
           0.23137254901960785,
           "rgb(243, 155, 107)"
          ],
          [
           0.23529411764705882,
           "rgb(243, 154, 106)"
          ],
          [
           0.23921568627450981,
           "rgb(242, 153, 105)"
          ],
          [
           0.24313725490196078,
           "rgb(242, 151, 104)"
          ],
          [
           0.24705882352941178,
           "rgb(242, 150, 103)"
          ],
          [
           0.25098039215686274,
           "rgb(241, 148, 102)"
          ],
          [
           0.2549019607843137,
           "rgb(241, 147, 101)"
          ],
          [
           0.25882352941176473,
           "rgb(241, 146, 101)"
          ],
          [
           0.2627450980392157,
           "rgb(241, 144, 100)"
          ],
          [
           0.26666666666666666,
           "rgb(240, 143, 99)"
          ],
          [
           0.27058823529411763,
           "rgb(240, 142, 98)"
          ],
          [
           0.27450980392156865,
           "rgb(240, 140, 97)"
          ],
          [
           0.2784313725490196,
           "rgb(239, 139, 97)"
          ],
          [
           0.2823529411764706,
           "rgb(239, 138, 96)"
          ],
          [
           0.28627450980392155,
           "rgb(239, 136, 95)"
          ],
          [
           0.2901960784313726,
           "rgb(238, 135, 94)"
          ],
          [
           0.29411764705882354,
           "rgb(238, 133, 94)"
          ],
          [
           0.2980392156862745,
           "rgb(238, 132, 93)"
          ],
          [
           0.30196078431372547,
           "rgb(237, 131, 92)"
          ],
          [
           0.3058823529411765,
           "rgb(237, 129, 92)"
          ],
          [
           0.30980392156862746,
           "rgb(237, 128, 91)"
          ],
          [
           0.3137254901960784,
           "rgb(236, 127, 91)"
          ],
          [
           0.3176470588235294,
           "rgb(236, 125, 90)"
          ],
          [
           0.3215686274509804,
           "rgb(235, 124, 89)"
          ],
          [
           0.3254901960784314,
           "rgb(235, 123, 89)"
          ],
          [
           0.32941176470588235,
           "rgb(235, 121, 88)"
          ],
          [
           0.3333333333333333,
           "rgb(234, 120, 88)"
          ],
          [
           0.33725490196078434,
           "rgb(234, 118, 87)"
          ],
          [
           0.3411764705882353,
           "rgb(233, 117, 87)"
          ],
          [
           0.34509803921568627,
           "rgb(233, 116, 86)"
          ],
          [
           0.34901960784313724,
           "rgb(232, 114, 86)"
          ],
          [
           0.35294117647058826,
           "rgb(232, 113, 85)"
          ],
          [
           0.3568627450980392,
           "rgb(232, 112, 85)"
          ],
          [
           0.3607843137254902,
           "rgb(231, 110, 85)"
          ],
          [
           0.36470588235294116,
           "rgb(231, 109, 84)"
          ],
          [
           0.3686274509803922,
           "rgb(230, 108, 84)"
          ],
          [
           0.37254901960784315,
           "rgb(230, 106, 84)"
          ],
          [
           0.3764705882352941,
           "rgb(229, 105, 83)"
          ],
          [
           0.3803921568627451,
           "rgb(229, 104, 83)"
          ],
          [
           0.3843137254901961,
           "rgb(228, 102, 83)"
          ],
          [
           0.38823529411764707,
           "rgb(228, 101, 83)"
          ],
          [
           0.39215686274509803,
           "rgb(227, 100, 83)"
          ],
          [
           0.396078431372549,
           "rgb(226, 98, 82)"
          ],
          [
           0.4,
           "rgb(226, 97, 82)"
          ],
          [
           0.403921568627451,
           "rgb(225, 96, 82)"
          ],
          [
           0.40784313725490196,
           "rgb(225, 95, 82)"
          ],
          [
           0.4117647058823529,
           "rgb(224, 93, 82)"
          ],
          [
           0.41568627450980394,
           "rgb(223, 92, 82)"
          ],
          [
           0.4196078431372549,
           "rgb(223, 91, 82)"
          ],
          [
           0.4235294117647059,
           "rgb(222, 89, 82)"
          ],
          [
           0.42745098039215684,
           "rgb(221, 88, 82)"
          ],
          [
           0.43137254901960786,
           "rgb(221, 87, 82)"
          ],
          [
           0.43529411764705883,
           "rgb(220, 86, 82)"
          ],
          [
           0.4392156862745098,
           "rgb(219, 85, 82)"
          ],
          [
           0.44313725490196076,
           "rgb(218, 83, 82)"
          ],
          [
           0.4470588235294118,
           "rgb(218, 82, 83)"
          ],
          [
           0.45098039215686275,
           "rgb(217, 81, 83)"
          ],
          [
           0.4549019607843137,
           "rgb(216, 80, 83)"
          ],
          [
           0.4588235294117647,
           "rgb(215, 79, 83)"
          ],
          [
           0.4627450980392157,
           "rgb(215, 77, 83)"
          ],
          [
           0.4666666666666667,
           "rgb(214, 76, 83)"
          ],
          [
           0.47058823529411764,
           "rgb(213, 75, 84)"
          ],
          [
           0.4745098039215686,
           "rgb(212, 74, 84)"
          ],
          [
           0.47843137254901963,
           "rgb(211, 73, 84)"
          ],
          [
           0.4823529411764706,
           "rgb(210, 72, 84)"
          ],
          [
           0.48627450980392156,
           "rgb(209, 71, 85)"
          ],
          [
           0.49019607843137253,
           "rgb(208, 70, 85)"
          ],
          [
           0.49411764705882355,
           "rgb(208, 69, 85)"
          ],
          [
           0.4980392156862745,
           "rgb(207, 68, 86)"
          ],
          [
           0.5019607843137255,
           "rgb(206, 67, 86)"
          ],
          [
           0.5058823529411764,
           "rgb(205, 66, 86)"
          ],
          [
           0.5098039215686274,
           "rgb(204, 65, 87)"
          ],
          [
           0.5137254901960784,
           "rgb(203, 64, 87)"
          ],
          [
           0.5176470588235295,
           "rgb(202, 63, 87)"
          ],
          [
           0.5215686274509804,
           "rgb(201, 62, 88)"
          ],
          [
           0.5254901960784314,
           "rgb(200, 61, 88)"
          ],
          [
           0.5294117647058824,
           "rgb(199, 60, 88)"
          ],
          [
           0.5333333333333333,
           "rgb(198, 59, 89)"
          ],
          [
           0.5372549019607843,
           "rgb(197, 58, 89)"
          ],
          [
           0.5411764705882353,
           "rgb(196, 57, 89)"
          ],
          [
           0.5450980392156862,
           "rgb(195, 56, 90)"
          ],
          [
           0.5490196078431373,
           "rgb(193, 56, 90)"
          ],
          [
           0.5529411764705883,
           "rgb(192, 55, 90)"
          ],
          [
           0.5568627450980392,
           "rgb(191, 54, 91)"
          ],
          [
           0.5607843137254902,
           "rgb(190, 53, 91)"
          ],
          [
           0.5647058823529412,
           "rgb(189, 52, 91)"
          ],
          [
           0.5686274509803921,
           "rgb(188, 52, 92)"
          ],
          [
           0.5725490196078431,
           "rgb(187, 51, 92)"
          ],
          [
           0.5764705882352941,
           "rgb(186, 50, 92)"
          ],
          [
           0.5803921568627451,
           "rgb(185, 49, 93)"
          ],
          [
           0.5843137254901961,
           "rgb(184, 48, 93)"
          ],
          [
           0.5882352941176471,
           "rgb(182, 48, 93)"
          ],
          [
           0.592156862745098,
           "rgb(181, 47, 93)"
          ],
          [
           0.596078431372549,
           "rgb(180, 46, 94)"
          ],
          [
           0.6,
           "rgb(179, 46, 94)"
          ],
          [
           0.6039215686274509,
           "rgb(178, 45, 94)"
          ],
          [
           0.6078431372549019,
           "rgb(177, 44, 95)"
          ],
          [
           0.611764705882353,
           "rgb(175, 44, 95)"
          ],
          [
           0.615686274509804,
           "rgb(174, 43, 95)"
          ],
          [
           0.6196078431372549,
           "rgb(173, 42, 95)"
          ],
          [
           0.6235294117647059,
           "rgb(172, 42, 96)"
          ],
          [
           0.6274509803921569,
           "rgb(171, 41, 96)"
          ],
          [
           0.6313725490196078,
           "rgb(169, 40, 96)"
          ],
          [
           0.6352941176470588,
           "rgb(168, 40, 96)"
          ],
          [
           0.6392156862745098,
           "rgb(167, 39, 97)"
          ],
          [
           0.6431372549019608,
           "rgb(166, 39, 97)"
          ],
          [
           0.6470588235294118,
           "rgb(165, 38, 97)"
          ],
          [
           0.6509803921568628,
           "rgb(163, 37, 97)"
          ],
          [
           0.6549019607843137,
           "rgb(162, 37, 97)"
          ],
          [
           0.6588235294117647,
           "rgb(161, 36, 98)"
          ],
          [
           0.6627450980392157,
           "rgb(160, 36, 98)"
          ],
          [
           0.6666666666666666,
           "rgb(158, 35, 98)"
          ],
          [
           0.6705882352941176,
           "rgb(157, 35, 98)"
          ],
          [
           0.6745098039215687,
           "rgb(156, 34, 98)"
          ],
          [
           0.6784313725490196,
           "rgb(155, 34, 98)"
          ],
          [
           0.6823529411764706,
           "rgb(153, 33, 98)"
          ],
          [
           0.6862745098039216,
           "rgb(152, 33, 99)"
          ],
          [
           0.6901960784313725,
           "rgb(151, 33, 99)"
          ],
          [
           0.6941176470588235,
           "rgb(149, 32, 99)"
          ],
          [
           0.6980392156862745,
           "rgb(148, 32, 99)"
          ],
          [
           0.7019607843137254,
           "rgb(147, 31, 99)"
          ],
          [
           0.7058823529411765,
           "rgb(146, 31, 99)"
          ],
          [
           0.7098039215686275,
           "rgb(144, 31, 99)"
          ],
          [
           0.7137254901960784,
           "rgb(143, 30, 99)"
          ],
          [
           0.7176470588235294,
           "rgb(142, 30, 99)"
          ],
          [
           0.7215686274509804,
           "rgb(140, 30, 99)"
          ],
          [
           0.7254901960784313,
           "rgb(139, 29, 99)"
          ],
          [
           0.7294117647058823,
           "rgb(138, 29, 99)"
          ],
          [
           0.7333333333333333,
           "rgb(136, 29, 99)"
          ],
          [
           0.7372549019607844,
           "rgb(135, 28, 99)"
          ],
          [
           0.7411764705882353,
           "rgb(134, 28, 99)"
          ],
          [
           0.7450980392156863,
           "rgb(133, 28, 99)"
          ],
          [
           0.7490196078431373,
           "rgb(131, 28, 98)"
          ],
          [
           0.7529411764705882,
           "rgb(130, 27, 98)"
          ],
          [
           0.7568627450980392,
           "rgb(129, 27, 98)"
          ],
          [
           0.7607843137254902,
           "rgb(127, 27, 98)"
          ],
          [
           0.7647058823529411,
           "rgb(126, 27, 98)"
          ],
          [
           0.7686274509803922,
           "rgb(125, 26, 98)"
          ],
          [
           0.7725490196078432,
           "rgb(123, 26, 97)"
          ],
          [
           0.7764705882352941,
           "rgb(122, 26, 97)"
          ],
          [
           0.7803921568627451,
           "rgb(120, 26, 97)"
          ],
          [
           0.7843137254901961,
           "rgb(119, 26, 97)"
          ],
          [
           0.788235294117647,
           "rgb(118, 26, 96)"
          ],
          [
           0.792156862745098,
           "rgb(116, 25, 96)"
          ],
          [
           0.796078431372549,
           "rgb(115, 25, 96)"
          ],
          [
           0.8,
           "rgb(114, 25, 95)"
          ],
          [
           0.803921568627451,
           "rgb(112, 25, 95)"
          ],
          [
           0.807843137254902,
           "rgb(111, 25, 95)"
          ],
          [
           0.8117647058823529,
           "rgb(110, 25, 94)"
          ],
          [
           0.8156862745098039,
           "rgb(108, 25, 94)"
          ],
          [
           0.8196078431372549,
           "rgb(107, 24, 93)"
          ],
          [
           0.8235294117647058,
           "rgb(106, 24, 93)"
          ],
          [
           0.8274509803921568,
           "rgb(104, 24, 93)"
          ],
          [
           0.8313725490196079,
           "rgb(103, 24, 92)"
          ],
          [
           0.8352941176470589,
           "rgb(102, 24, 92)"
          ],
          [
           0.8392156862745098,
           "rgb(100, 24, 91)"
          ],
          [
           0.8431372549019608,
           "rgb(99, 24, 91)"
          ],
          [
           0.8470588235294118,
           "rgb(98, 23, 90)"
          ],
          [
           0.8509803921568627,
           "rgb(96, 23, 90)"
          ],
          [
           0.8549019607843137,
           "rgb(95, 23, 89)"
          ],
          [
           0.8588235294117647,
           "rgb(94, 23, 89)"
          ],
          [
           0.8627450980392157,
           "rgb(92, 23, 88)"
          ],
          [
           0.8666666666666667,
           "rgb(91, 23, 87)"
          ],
          [
           0.8705882352941177,
           "rgb(89, 23, 87)"
          ],
          [
           0.8745098039215686,
           "rgb(88, 23, 86)"
          ],
          [
           0.8784313725490196,
           "rgb(87, 22, 86)"
          ],
          [
           0.8823529411764706,
           "rgb(85, 22, 85)"
          ],
          [
           0.8862745098039215,
           "rgb(84, 22, 84)"
          ],
          [
           0.8901960784313725,
           "rgb(83, 22, 84)"
          ],
          [
           0.8941176470588236,
           "rgb(82, 22, 83)"
          ],
          [
           0.8980392156862745,
           "rgb(80, 22, 82)"
          ],
          [
           0.9019607843137255,
           "rgb(79, 21, 82)"
          ],
          [
           0.9058823529411765,
           "rgb(78, 21, 81)"
          ],
          [
           0.9098039215686274,
           "rgb(76, 21, 80)"
          ],
          [
           0.9137254901960784,
           "rgb(75, 21, 79)"
          ],
          [
           0.9176470588235294,
           "rgb(74, 21, 79)"
          ],
          [
           0.9215686274509803,
           "rgb(72, 20, 78)"
          ],
          [
           0.9254901960784314,
           "rgb(71, 20, 77)"
          ],
          [
           0.9294117647058824,
           "rgb(70, 20, 76)"
          ],
          [
           0.9333333333333333,
           "rgb(68, 20, 76)"
          ],
          [
           0.9372549019607843,
           "rgb(67, 19, 75)"
          ],
          [
           0.9411764705882353,
           "rgb(66, 19, 74)"
          ],
          [
           0.9450980392156862,
           "rgb(65, 19, 73)"
          ],
          [
           0.9490196078431372,
           "rgb(63, 19, 73)"
          ],
          [
           0.9529411764705882,
           "rgb(62, 18, 72)"
          ],
          [
           0.9568627450980393,
           "rgb(61, 18, 71)"
          ],
          [
           0.9607843137254902,
           "rgb(59, 18, 70)"
          ],
          [
           0.9647058823529412,
           "rgb(58, 18, 69)"
          ],
          [
           0.9686274509803922,
           "rgb(57, 17, 68)"
          ],
          [
           0.9725490196078431,
           "rgb(56, 17, 68)"
          ],
          [
           0.9764705882352941,
           "rgb(54, 17, 67)"
          ],
          [
           0.9803921568627451,
           "rgb(53, 16, 66)"
          ],
          [
           0.984313725490196,
           "rgb(52, 16, 65)"
          ],
          [
           0.9882352941176471,
           "rgb(50, 16, 64)"
          ],
          [
           0.9921568627450981,
           "rgb(49, 15, 63)"
          ],
          [
           0.996078431372549,
           "rgb(48, 15, 62)"
          ],
          [
           1,
           "rgb(47, 15, 61)"
          ]
         ],
         "showscale": false,
         "text": [
          [
           "16.6",
           "16.8",
           "16.8",
           "16.6",
           "16.9",
           "16.7",
           "",
           "",
           "",
           "",
           "",
           "",
           "",
           "",
           "",
           "",
           "",
           "",
           "",
           "",
           "",
           "",
           "",
           "",
           "",
           "",
           "",
           "",
           "",
           "",
           ""
          ],
          [
           "",
           "",
           "",
           "",
           "",
           "",
           "",
           "",
           "",
           "",
           "",
           "",
           "",
           "",
           "",
           "",
           "",
           "",
           "",
           "",
           "",
           "",
           "",
           "",
           "",
           "",
           "",
           "",
           "",
           "",
           ""
          ],
          [
           "",
           "",
           "",
           "",
           "",
           "",
           "",
           "",
           "",
           "",
           "",
           "",
           "",
           "",
           "",
           "",
           "",
           "",
           "",
           "",
           "",
           "",
           "",
           "",
           "",
           "",
           "",
           "",
           "",
           "",
           ""
          ],
          [
           "",
           "",
           "",
           "",
           "",
           "",
           "",
           "",
           "",
           "",
           "",
           "",
           "",
           "",
           "",
           "",
           "",
           "",
           "",
           "",
           "",
           "",
           "",
           "",
           "17.1",
           "17.5",
           "17.2",
           "16.8",
           "17.0",
           "16.8",
           ""
          ],
          [
           "16.9",
           "17.0",
           "17.0",
           "16.7",
           "16.5",
           "16.4",
           "16.3",
           "16.4",
           "16.3",
           "16.3",
           "16.3",
           "16.5",
           "16.6",
           "16.2",
           "16.1",
           "15.9",
           "15.8",
           "15.6",
           "15.5",
           "15.5",
           "15.5",
           "15.4",
           "15.3",
           "15.3",
           "15.3",
           "15.2",
           "15.1",
           "15.0",
           "15.1",
           "15.0",
           "14.9"
          ],
          [
           "14.8",
           "14.8",
           "",
           "",
           "",
           "",
           "",
           "",
           "",
           "",
           "",
           "",
           "",
           "",
           "",
           "",
           "",
           "",
           "",
           "",
           "",
           "",
           "",
           "",
           "",
           "",
           "",
           "",
           "",
           "",
           ""
          ],
          [
           "",
           "",
           "",
           "",
           "",
           "",
           "",
           "",
           "",
           "",
           "",
           "",
           "",
           "",
           "",
           "",
           "",
           "",
           "",
           "",
           "",
           "",
           "",
           "",
           "",
           "",
           "",
           "",
           "",
           "",
           ""
          ],
          [
           "",
           "",
           "",
           "",
           "",
           "",
           "",
           "",
           "",
           "",
           "",
           "",
           "",
           "",
           "",
           "",
           "",
           "",
           "",
           "",
           "",
           "",
           "",
           "",
           "",
           "",
           "",
           "",
           "",
           "",
           ""
          ],
          [
           "",
           "",
           "",
           "",
           "",
           "",
           "",
           "",
           "",
           "",
           "",
           "",
           "",
           "",
           "",
           "",
           "",
           "",
           "",
           "",
           "",
           "",
           "",
           "",
           "",
           "",
           "",
           "",
           "",
           "",
           ""
          ],
          [
           "",
           "",
           "",
           "",
           "",
           "",
           "",
           "",
           "",
           "",
           "",
           "",
           "",
           "",
           "",
           "",
           "",
           "",
           "",
           "",
           "",
           "",
           "",
           "",
           "",
           "",
           "",
           "",
           "",
           "",
           ""
          ],
          [
           "",
           "",
           "",
           "",
           "",
           "",
           "",
           "",
           "",
           "",
           "",
           "",
           "",
           "",
           "",
           "",
           "",
           "",
           "",
           "",
           "",
           "",
           "",
           "",
           "",
           "",
           "",
           "",
           "",
           "",
           ""
          ],
          [
           "",
           "",
           "",
           "",
           "",
           "",
           "",
           "",
           "",
           "",
           "",
           "",
           "",
           "",
           "",
           "15.6",
           "15.8",
           "15.9",
           "16.0",
           "16.3",
           "16.0",
           "16.3",
           "16.1",
           "16.4",
           "16.7",
           "16.5",
           "16.4",
           "16.2",
           "16.3",
           "16.6",
           "16.7"
          ]
         ],
         "textfont": {
          "size": 12
         },
         "texttemplate": "%{text:.1f}",
         "type": "heatmap",
         "z": [
          [
           16.59,
           16.8,
           16.85,
           16.62,
           16.94,
           16.66,
           null,
           null,
           null,
           null,
           null,
           null,
           null,
           null,
           null,
           null,
           null,
           null,
           null,
           null,
           null,
           null,
           null,
           null,
           null,
           null,
           null,
           null,
           null,
           null,
           null
          ],
          [
           null,
           null,
           null,
           null,
           null,
           null,
           null,
           null,
           null,
           null,
           null,
           null,
           null,
           null,
           null,
           null,
           null,
           null,
           null,
           null,
           null,
           null,
           null,
           null,
           null,
           null,
           null,
           null,
           null,
           null,
           null
          ],
          [
           null,
           null,
           null,
           null,
           null,
           null,
           null,
           null,
           null,
           null,
           null,
           null,
           null,
           null,
           null,
           null,
           null,
           null,
           null,
           null,
           null,
           null,
           null,
           null,
           null,
           null,
           null,
           null,
           null,
           null,
           null
          ],
          [
           null,
           null,
           null,
           null,
           null,
           null,
           null,
           null,
           null,
           null,
           null,
           null,
           null,
           null,
           null,
           null,
           null,
           null,
           null,
           null,
           null,
           null,
           null,
           null,
           17.06,
           17.48,
           17.25,
           16.78,
           16.97,
           16.77,
           null
          ],
          [
           16.91,
           17.02,
           17,
           16.69,
           16.52,
           16.36,
           16.32,
           16.45,
           16.3,
           16.3,
           16.3,
           16.46,
           16.55,
           16.18,
           16.14,
           15.92,
           15.83,
           15.62,
           15.49,
           15.46,
           15.47,
           15.42,
           15.33,
           15.26,
           15.28,
           15.18,
           15.12,
           15.05,
           15.07,
           14.99,
           14.91
          ],
          [
           14.82,
           14.75,
           null,
           null,
           null,
           null,
           null,
           null,
           null,
           null,
           null,
           null,
           null,
           null,
           null,
           null,
           null,
           null,
           null,
           null,
           null,
           null,
           null,
           null,
           null,
           null,
           null,
           null,
           null,
           null,
           null
          ],
          [
           null,
           null,
           null,
           null,
           null,
           null,
           null,
           null,
           null,
           null,
           null,
           null,
           null,
           null,
           null,
           null,
           null,
           null,
           null,
           null,
           null,
           null,
           null,
           null,
           null,
           null,
           null,
           null,
           null,
           null,
           null
          ],
          [
           null,
           null,
           null,
           null,
           null,
           null,
           null,
           null,
           null,
           null,
           null,
           null,
           null,
           null,
           null,
           null,
           null,
           null,
           null,
           null,
           null,
           null,
           null,
           null,
           null,
           null,
           null,
           null,
           null,
           null,
           null
          ],
          [
           null,
           null,
           null,
           null,
           null,
           null,
           null,
           null,
           null,
           null,
           null,
           null,
           null,
           null,
           null,
           null,
           null,
           null,
           null,
           null,
           null,
           null,
           null,
           null,
           null,
           null,
           null,
           null,
           null,
           null,
           null
          ],
          [
           null,
           null,
           null,
           null,
           null,
           null,
           null,
           null,
           null,
           null,
           null,
           null,
           null,
           null,
           null,
           null,
           null,
           null,
           null,
           null,
           null,
           null,
           null,
           null,
           null,
           null,
           null,
           null,
           null,
           null,
           null
          ],
          [
           null,
           null,
           null,
           null,
           null,
           null,
           null,
           null,
           null,
           null,
           null,
           null,
           null,
           null,
           null,
           null,
           null,
           null,
           null,
           null,
           null,
           null,
           null,
           null,
           null,
           null,
           null,
           null,
           null,
           null,
           null
          ],
          [
           null,
           null,
           null,
           null,
           null,
           null,
           null,
           null,
           null,
           null,
           null,
           null,
           null,
           null,
           null,
           15.6,
           15.78,
           15.86,
           16.05,
           16.26,
           16.01,
           16.29,
           16.09,
           16.44,
           16.66,
           16.53,
           16.37,
           16.15,
           16.34,
           16.64,
           16.72
          ]
         ],
         "zmax": 17.48,
         "zmin": 14.75
        }
       ],
       "layout": {
        "height": 1000,
        "template": {
         "data": {
          "bar": [
           {
            "error_x": {
             "color": "#2a3f5f"
            },
            "error_y": {
             "color": "#2a3f5f"
            },
            "marker": {
             "line": {
              "color": "#E5ECF6",
              "width": 0.5
             },
             "pattern": {
              "fillmode": "overlay",
              "size": 10,
              "solidity": 0.2
             }
            },
            "type": "bar"
           }
          ],
          "barpolar": [
           {
            "marker": {
             "line": {
              "color": "#E5ECF6",
              "width": 0.5
             },
             "pattern": {
              "fillmode": "overlay",
              "size": 10,
              "solidity": 0.2
             }
            },
            "type": "barpolar"
           }
          ],
          "carpet": [
           {
            "aaxis": {
             "endlinecolor": "#2a3f5f",
             "gridcolor": "white",
             "linecolor": "white",
             "minorgridcolor": "white",
             "startlinecolor": "#2a3f5f"
            },
            "baxis": {
             "endlinecolor": "#2a3f5f",
             "gridcolor": "white",
             "linecolor": "white",
             "minorgridcolor": "white",
             "startlinecolor": "#2a3f5f"
            },
            "type": "carpet"
           }
          ],
          "choropleth": [
           {
            "colorbar": {
             "outlinewidth": 0,
             "ticks": ""
            },
            "type": "choropleth"
           }
          ],
          "contour": [
           {
            "colorbar": {
             "outlinewidth": 0,
             "ticks": ""
            },
            "colorscale": [
             [
              0,
              "#0d0887"
             ],
             [
              0.1111111111111111,
              "#46039f"
             ],
             [
              0.2222222222222222,
              "#7201a8"
             ],
             [
              0.3333333333333333,
              "#9c179e"
             ],
             [
              0.4444444444444444,
              "#bd3786"
             ],
             [
              0.5555555555555556,
              "#d8576b"
             ],
             [
              0.6666666666666666,
              "#ed7953"
             ],
             [
              0.7777777777777778,
              "#fb9f3a"
             ],
             [
              0.8888888888888888,
              "#fdca26"
             ],
             [
              1,
              "#f0f921"
             ]
            ],
            "type": "contour"
           }
          ],
          "contourcarpet": [
           {
            "colorbar": {
             "outlinewidth": 0,
             "ticks": ""
            },
            "type": "contourcarpet"
           }
          ],
          "heatmap": [
           {
            "colorbar": {
             "outlinewidth": 0,
             "ticks": ""
            },
            "colorscale": [
             [
              0,
              "#0d0887"
             ],
             [
              0.1111111111111111,
              "#46039f"
             ],
             [
              0.2222222222222222,
              "#7201a8"
             ],
             [
              0.3333333333333333,
              "#9c179e"
             ],
             [
              0.4444444444444444,
              "#bd3786"
             ],
             [
              0.5555555555555556,
              "#d8576b"
             ],
             [
              0.6666666666666666,
              "#ed7953"
             ],
             [
              0.7777777777777778,
              "#fb9f3a"
             ],
             [
              0.8888888888888888,
              "#fdca26"
             ],
             [
              1,
              "#f0f921"
             ]
            ],
            "type": "heatmap"
           }
          ],
          "heatmapgl": [
           {
            "colorbar": {
             "outlinewidth": 0,
             "ticks": ""
            },
            "colorscale": [
             [
              0,
              "#0d0887"
             ],
             [
              0.1111111111111111,
              "#46039f"
             ],
             [
              0.2222222222222222,
              "#7201a8"
             ],
             [
              0.3333333333333333,
              "#9c179e"
             ],
             [
              0.4444444444444444,
              "#bd3786"
             ],
             [
              0.5555555555555556,
              "#d8576b"
             ],
             [
              0.6666666666666666,
              "#ed7953"
             ],
             [
              0.7777777777777778,
              "#fb9f3a"
             ],
             [
              0.8888888888888888,
              "#fdca26"
             ],
             [
              1,
              "#f0f921"
             ]
            ],
            "type": "heatmapgl"
           }
          ],
          "histogram": [
           {
            "marker": {
             "pattern": {
              "fillmode": "overlay",
              "size": 10,
              "solidity": 0.2
             }
            },
            "type": "histogram"
           }
          ],
          "histogram2d": [
           {
            "colorbar": {
             "outlinewidth": 0,
             "ticks": ""
            },
            "colorscale": [
             [
              0,
              "#0d0887"
             ],
             [
              0.1111111111111111,
              "#46039f"
             ],
             [
              0.2222222222222222,
              "#7201a8"
             ],
             [
              0.3333333333333333,
              "#9c179e"
             ],
             [
              0.4444444444444444,
              "#bd3786"
             ],
             [
              0.5555555555555556,
              "#d8576b"
             ],
             [
              0.6666666666666666,
              "#ed7953"
             ],
             [
              0.7777777777777778,
              "#fb9f3a"
             ],
             [
              0.8888888888888888,
              "#fdca26"
             ],
             [
              1,
              "#f0f921"
             ]
            ],
            "type": "histogram2d"
           }
          ],
          "histogram2dcontour": [
           {
            "colorbar": {
             "outlinewidth": 0,
             "ticks": ""
            },
            "colorscale": [
             [
              0,
              "#0d0887"
             ],
             [
              0.1111111111111111,
              "#46039f"
             ],
             [
              0.2222222222222222,
              "#7201a8"
             ],
             [
              0.3333333333333333,
              "#9c179e"
             ],
             [
              0.4444444444444444,
              "#bd3786"
             ],
             [
              0.5555555555555556,
              "#d8576b"
             ],
             [
              0.6666666666666666,
              "#ed7953"
             ],
             [
              0.7777777777777778,
              "#fb9f3a"
             ],
             [
              0.8888888888888888,
              "#fdca26"
             ],
             [
              1,
              "#f0f921"
             ]
            ],
            "type": "histogram2dcontour"
           }
          ],
          "mesh3d": [
           {
            "colorbar": {
             "outlinewidth": 0,
             "ticks": ""
            },
            "type": "mesh3d"
           }
          ],
          "parcoords": [
           {
            "line": {
             "colorbar": {
              "outlinewidth": 0,
              "ticks": ""
             }
            },
            "type": "parcoords"
           }
          ],
          "pie": [
           {
            "automargin": true,
            "type": "pie"
           }
          ],
          "scatter": [
           {
            "fillpattern": {
             "fillmode": "overlay",
             "size": 10,
             "solidity": 0.2
            },
            "type": "scatter"
           }
          ],
          "scatter3d": [
           {
            "line": {
             "colorbar": {
              "outlinewidth": 0,
              "ticks": ""
             }
            },
            "marker": {
             "colorbar": {
              "outlinewidth": 0,
              "ticks": ""
             }
            },
            "type": "scatter3d"
           }
          ],
          "scattercarpet": [
           {
            "marker": {
             "colorbar": {
              "outlinewidth": 0,
              "ticks": ""
             }
            },
            "type": "scattercarpet"
           }
          ],
          "scattergeo": [
           {
            "marker": {
             "colorbar": {
              "outlinewidth": 0,
              "ticks": ""
             }
            },
            "type": "scattergeo"
           }
          ],
          "scattergl": [
           {
            "marker": {
             "colorbar": {
              "outlinewidth": 0,
              "ticks": ""
             }
            },
            "type": "scattergl"
           }
          ],
          "scattermapbox": [
           {
            "marker": {
             "colorbar": {
              "outlinewidth": 0,
              "ticks": ""
             }
            },
            "type": "scattermapbox"
           }
          ],
          "scatterpolar": [
           {
            "marker": {
             "colorbar": {
              "outlinewidth": 0,
              "ticks": ""
             }
            },
            "type": "scatterpolar"
           }
          ],
          "scatterpolargl": [
           {
            "marker": {
             "colorbar": {
              "outlinewidth": 0,
              "ticks": ""
             }
            },
            "type": "scatterpolargl"
           }
          ],
          "scatterternary": [
           {
            "marker": {
             "colorbar": {
              "outlinewidth": 0,
              "ticks": ""
             }
            },
            "type": "scatterternary"
           }
          ],
          "surface": [
           {
            "colorbar": {
             "outlinewidth": 0,
             "ticks": ""
            },
            "colorscale": [
             [
              0,
              "#0d0887"
             ],
             [
              0.1111111111111111,
              "#46039f"
             ],
             [
              0.2222222222222222,
              "#7201a8"
             ],
             [
              0.3333333333333333,
              "#9c179e"
             ],
             [
              0.4444444444444444,
              "#bd3786"
             ],
             [
              0.5555555555555556,
              "#d8576b"
             ],
             [
              0.6666666666666666,
              "#ed7953"
             ],
             [
              0.7777777777777778,
              "#fb9f3a"
             ],
             [
              0.8888888888888888,
              "#fdca26"
             ],
             [
              1,
              "#f0f921"
             ]
            ],
            "type": "surface"
           }
          ],
          "table": [
           {
            "cells": {
             "fill": {
              "color": "#EBF0F8"
             },
             "line": {
              "color": "white"
             }
            },
            "header": {
             "fill": {
              "color": "#C8D4E3"
             },
             "line": {
              "color": "white"
             }
            },
            "type": "table"
           }
          ]
         },
         "layout": {
          "annotationdefaults": {
           "arrowcolor": "#2a3f5f",
           "arrowhead": 0,
           "arrowwidth": 1
          },
          "autotypenumbers": "strict",
          "coloraxis": {
           "colorbar": {
            "outlinewidth": 0,
            "ticks": ""
           }
          },
          "colorscale": {
           "diverging": [
            [
             0,
             "#8e0152"
            ],
            [
             0.1,
             "#c51b7d"
            ],
            [
             0.2,
             "#de77ae"
            ],
            [
             0.3,
             "#f1b6da"
            ],
            [
             0.4,
             "#fde0ef"
            ],
            [
             0.5,
             "#f7f7f7"
            ],
            [
             0.6,
             "#e6f5d0"
            ],
            [
             0.7,
             "#b8e186"
            ],
            [
             0.8,
             "#7fbc41"
            ],
            [
             0.9,
             "#4d9221"
            ],
            [
             1,
             "#276419"
            ]
           ],
           "sequential": [
            [
             0,
             "#0d0887"
            ],
            [
             0.1111111111111111,
             "#46039f"
            ],
            [
             0.2222222222222222,
             "#7201a8"
            ],
            [
             0.3333333333333333,
             "#9c179e"
            ],
            [
             0.4444444444444444,
             "#bd3786"
            ],
            [
             0.5555555555555556,
             "#d8576b"
            ],
            [
             0.6666666666666666,
             "#ed7953"
            ],
            [
             0.7777777777777778,
             "#fb9f3a"
            ],
            [
             0.8888888888888888,
             "#fdca26"
            ],
            [
             1,
             "#f0f921"
            ]
           ],
           "sequentialminus": [
            [
             0,
             "#0d0887"
            ],
            [
             0.1111111111111111,
             "#46039f"
            ],
            [
             0.2222222222222222,
             "#7201a8"
            ],
            [
             0.3333333333333333,
             "#9c179e"
            ],
            [
             0.4444444444444444,
             "#bd3786"
            ],
            [
             0.5555555555555556,
             "#d8576b"
            ],
            [
             0.6666666666666666,
             "#ed7953"
            ],
            [
             0.7777777777777778,
             "#fb9f3a"
            ],
            [
             0.8888888888888888,
             "#fdca26"
            ],
            [
             1,
             "#f0f921"
            ]
           ]
          },
          "colorway": [
           "#636efa",
           "#EF553B",
           "#00cc96",
           "#ab63fa",
           "#FFA15A",
           "#19d3f3",
           "#FF6692",
           "#B6E880",
           "#FF97FF",
           "#FECB52"
          ],
          "font": {
           "color": "#2a3f5f"
          },
          "geo": {
           "bgcolor": "white",
           "lakecolor": "white",
           "landcolor": "#E5ECF6",
           "showlakes": true,
           "showland": true,
           "subunitcolor": "white"
          },
          "hoverlabel": {
           "align": "left"
          },
          "hovermode": "closest",
          "mapbox": {
           "style": "light"
          },
          "paper_bgcolor": "white",
          "plot_bgcolor": "#E5ECF6",
          "polar": {
           "angularaxis": {
            "gridcolor": "white",
            "linecolor": "white",
            "ticks": ""
           },
           "bgcolor": "#E5ECF6",
           "radialaxis": {
            "gridcolor": "white",
            "linecolor": "white",
            "ticks": ""
           }
          },
          "scene": {
           "xaxis": {
            "backgroundcolor": "#E5ECF6",
            "gridcolor": "white",
            "gridwidth": 2,
            "linecolor": "white",
            "showbackground": true,
            "ticks": "",
            "zerolinecolor": "white"
           },
           "yaxis": {
            "backgroundcolor": "#E5ECF6",
            "gridcolor": "white",
            "gridwidth": 2,
            "linecolor": "white",
            "showbackground": true,
            "ticks": "",
            "zerolinecolor": "white"
           },
           "zaxis": {
            "backgroundcolor": "#E5ECF6",
            "gridcolor": "white",
            "gridwidth": 2,
            "linecolor": "white",
            "showbackground": true,
            "ticks": "",
            "zerolinecolor": "white"
           }
          },
          "shapedefaults": {
           "line": {
            "color": "#2a3f5f"
           }
          },
          "ternary": {
           "aaxis": {
            "gridcolor": "white",
            "linecolor": "white",
            "ticks": ""
           },
           "baxis": {
            "gridcolor": "white",
            "linecolor": "white",
            "ticks": ""
           },
           "bgcolor": "#E5ECF6",
           "caxis": {
            "gridcolor": "white",
            "linecolor": "white",
            "ticks": ""
           }
          },
          "title": {
           "x": 0.05
          },
          "xaxis": {
           "automargin": true,
           "gridcolor": "white",
           "linecolor": "white",
           "ticks": "",
           "title": {
            "standoff": 15
           },
           "zerolinecolor": "white",
           "zerolinewidth": 2
          },
          "yaxis": {
           "automargin": true,
           "gridcolor": "white",
           "linecolor": "white",
           "ticks": "",
           "title": {
            "standoff": 15
           },
           "zerolinecolor": "white",
           "zerolinewidth": 2
          }
         }
        },
        "title": {
         "font": {
          "size": 30
         },
         "text": "Heatmap of MHW Temperatures",
         "x": 0.5
        },
        "width": 1200,
        "xaxis": {
         "autorange": true,
         "range": [
          -0.5,
          30.5
         ],
         "tickangle": 0,
         "tickfont": {
          "size": 30
         },
         "title": {
          "text": "Day of the Month"
         }
        },
        "yaxis": {
         "autorange": true,
         "range": [
          -0.5,
          11.5
         ],
         "tickfont": {
          "size": 30
         },
         "ticktext": [
          "Jan",
          "Feb",
          "Mar",
          "Apr",
          "May",
          "Jun",
          "Jul",
          "Aug",
          "Sep",
          "Oct",
          "Nov",
          "Dec"
         ],
         "tickvals": [
          0,
          1,
          2,
          3,
          4,
          5,
          6,
          7,
          8,
          9,
          10,
          11
         ],
         "title": {
          "text": ""
         }
        }
       }
      },
      "image/png": "[encoded data removed]",
      "text/html": [
       "<div>                            <div id=\"07c664fd-6be6-4950-bb12-b9ce317db234\" class=\"plotly-graph-div\" style=\"height:1000px; width:1200px;\"></div>            <script type=\"text/javascript\">                require([\"plotly\"], function(Plotly) {                    window.PLOTLYENV=window.PLOTLYENV || {};                                    if (document.getElementById(\"07c664fd-6be6-4950-bb12-b9ce317db234\")) {                    Plotly.newPlot(                        \"07c664fd-6be6-4950-bb12-b9ce317db234\",                        [{\"colorbar\":{\"tickvals\":[14.75,15.432500000000001,16.115000000000002,16.7975,17.48],\"title\":{\"text\":\"Temperature (\\u00b0C)\"}},\"colorscale\":[[0.0,\"rgb(253, 237, 176)\"],[0.00392156862745098,\"rgb(253, 235, 174)\"],[0.00784313725490196,\"rgb(253, 234, 173)\"],[0.011764705882352941,\"rgb(253, 233, 172)\"],[0.01568627450980392,\"rgb(253, 231, 170)\"],[0.0196078431372549,\"rgb(252, 230, 169)\"],[0.023529411764705882,\"rgb(252, 228, 167)\"],[0.027450980392156862,\"rgb(252, 227, 166)\"],[0.03137254901960784,\"rgb(252, 226, 165)\"],[0.03529411764705882,\"rgb(252, 224, 163)\"],[0.0392156862745098,\"rgb(252, 223, 162)\"],[0.043137254901960784,\"rgb(252, 221, 161)\"],[0.047058823529411764,\"rgb(252, 220, 159)\"],[0.050980392156862744,\"rgb(251, 219, 158)\"],[0.054901960784313725,\"rgb(251, 217, 157)\"],[0.058823529411764705,\"rgb(251, 216, 156)\"],[0.06274509803921569,\"rgb(251, 214, 154)\"],[0.06666666666666667,\"rgb(251, 213, 153)\"],[0.07058823529411765,\"rgb(251, 212, 152)\"],[0.07450980392156863,\"rgb(251, 210, 150)\"],[0.0784313725490196,\"rgb(250, 209, 149)\"],[0.08235294117647059,\"rgb(250, 207, 148)\"],[0.08627450980392157,\"rgb(250, 206, 147)\"],[0.09019607843137255,\"rgb(250, 205, 145)\"],[0.09411764705882353,\"rgb(250, 203, 144)\"],[0.09803921568627451,\"rgb(250, 202, 143)\"],[0.10196078431372549,\"rgb(250, 200, 142)\"],[0.10588235294117647,\"rgb(249, 199, 141)\"],[0.10980392156862745,\"rgb(249, 198, 139)\"],[0.11372549019607843,\"rgb(249, 196, 138)\"],[0.11764705882352941,\"rgb(249, 195, 137)\"],[0.12156862745098039,\"rgb(249, 194, 136)\"],[0.12549019607843137,\"rgb(249, 192, 135)\"],[0.12941176470588237,\"rgb(248, 191, 134)\"],[0.13333333333333333,\"rgb(248, 189, 132)\"],[0.13725490196078433,\"rgb(248, 188, 131)\"],[0.1411764705882353,\"rgb(248, 187, 130)\"],[0.1450980392156863,\"rgb(248, 185, 129)\"],[0.14901960784313725,\"rgb(247, 184, 128)\"],[0.15294117647058825,\"rgb(247, 183, 127)\"],[0.1568627450980392,\"rgb(247, 181, 126)\"],[0.1607843137254902,\"rgb(247, 180, 125)\"],[0.16470588235294117,\"rgb(247, 178, 124)\"],[0.16862745098039217,\"rgb(247, 177, 122)\"],[0.17254901960784313,\"rgb(246, 176, 121)\"],[0.17647058823529413,\"rgb(246, 174, 120)\"],[0.1803921568627451,\"rgb(246, 173, 119)\"],[0.1843137254901961,\"rgb(246, 172, 118)\"],[0.18823529411764706,\"rgb(245, 170, 117)\"],[0.19215686274509805,\"rgb(245, 169, 116)\"],[0.19607843137254902,\"rgb(245, 168, 115)\"],[0.2,\"rgb(245, 166, 114)\"],[0.20392156862745098,\"rgb(245, 165, 113)\"],[0.20784313725490197,\"rgb(244, 163, 112)\"],[0.21176470588235294,\"rgb(244, 162, 111)\"],[0.21568627450980393,\"rgb(244, 161, 110)\"],[0.2196078431372549,\"rgb(244, 159, 109)\"],[0.2235294117647059,\"rgb(243, 158, 108)\"],[0.22745098039215686,\"rgb(243, 157, 108)\"],[0.23137254901960785,\"rgb(243, 155, 107)\"],[0.23529411764705882,\"rgb(243, 154, 106)\"],[0.23921568627450981,\"rgb(242, 153, 105)\"],[0.24313725490196078,\"rgb(242, 151, 104)\"],[0.24705882352941178,\"rgb(242, 150, 103)\"],[0.25098039215686274,\"rgb(241, 148, 102)\"],[0.2549019607843137,\"rgb(241, 147, 101)\"],[0.25882352941176473,\"rgb(241, 146, 101)\"],[0.2627450980392157,\"rgb(241, 144, 100)\"],[0.26666666666666666,\"rgb(240, 143, 99)\"],[0.27058823529411763,\"rgb(240, 142, 98)\"],[0.27450980392156865,\"rgb(240, 140, 97)\"],[0.2784313725490196,\"rgb(239, 139, 97)\"],[0.2823529411764706,\"rgb(239, 138, 96)\"],[0.28627450980392155,\"rgb(239, 136, 95)\"],[0.2901960784313726,\"rgb(238, 135, 94)\"],[0.29411764705882354,\"rgb(238, 133, 94)\"],[0.2980392156862745,\"rgb(238, 132, 93)\"],[0.30196078431372547,\"rgb(237, 131, 92)\"],[0.3058823529411765,\"rgb(237, 129, 92)\"],[0.30980392156862746,\"rgb(237, 128, 91)\"],[0.3137254901960784,\"rgb(236, 127, 91)\"],[0.3176470588235294,\"rgb(236, 125, 90)\"],[0.3215686274509804,\"rgb(235, 124, 89)\"],[0.3254901960784314,\"rgb(235, 123, 89)\"],[0.32941176470588235,\"rgb(235, 121, 88)\"],[0.3333333333333333,\"rgb(234, 120, 88)\"],[0.33725490196078434,\"rgb(234, 118, 87)\"],[0.3411764705882353,\"rgb(233, 117, 87)\"],[0.34509803921568627,\"rgb(233, 116, 86)\"],[0.34901960784313724,\"rgb(232, 114, 86)\"],[0.35294117647058826,\"rgb(232, 113, 85)\"],[0.3568627450980392,\"rgb(232, 112, 85)\"],[0.3607843137254902,\"rgb(231, 110, 85)\"],[0.36470588235294116,\"rgb(231, 109, 84)\"],[0.3686274509803922,\"rgb(230, 108, 84)\"],[0.37254901960784315,\"rgb(230, 106, 84)\"],[0.3764705882352941,\"rgb(229, 105, 83)\"],[0.3803921568627451,\"rgb(229, 104, 83)\"],[0.3843137254901961,\"rgb(228, 102, 83)\"],[0.38823529411764707,\"rgb(228, 101, 83)\"],[0.39215686274509803,\"rgb(227, 100, 83)\"],[0.396078431372549,\"rgb(226, 98, 82)\"],[0.4,\"rgb(226, 97, 82)\"],[0.403921568627451,\"rgb(225, 96, 82)\"],[0.40784313725490196,\"rgb(225, 95, 82)\"],[0.4117647058823529,\"rgb(224, 93, 82)\"],[0.41568627450980394,\"rgb(223, 92, 82)\"],[0.4196078431372549,\"rgb(223, 91, 82)\"],[0.4235294117647059,\"rgb(222, 89, 82)\"],[0.42745098039215684,\"rgb(221, 88, 82)\"],[0.43137254901960786,\"rgb(221, 87, 82)\"],[0.43529411764705883,\"rgb(220, 86, 82)\"],[0.4392156862745098,\"rgb(219, 85, 82)\"],[0.44313725490196076,\"rgb(218, 83, 82)\"],[0.4470588235294118,\"rgb(218, 82, 83)\"],[0.45098039215686275,\"rgb(217, 81, 83)\"],[0.4549019607843137,\"rgb(216, 80, 83)\"],[0.4588235294117647,\"rgb(215, 79, 83)\"],[0.4627450980392157,\"rgb(215, 77, 83)\"],[0.4666666666666667,\"rgb(214, 76, 83)\"],[0.47058823529411764,\"rgb(213, 75, 84)\"],[0.4745098039215686,\"rgb(212, 74, 84)\"],[0.47843137254901963,\"rgb(211, 73, 84)\"],[0.4823529411764706,\"rgb(210, 72, 84)\"],[0.48627450980392156,\"rgb(209, 71, 85)\"],[0.49019607843137253,\"rgb(208, 70, 85)\"],[0.49411764705882355,\"rgb(208, 69, 85)\"],[0.4980392156862745,\"rgb(207, 68, 86)\"],[0.5019607843137255,\"rgb(206, 67, 86)\"],[0.5058823529411764,\"rgb(205, 66, 86)\"],[0.5098039215686274,\"rgb(204, 65, 87)\"],[0.5137254901960784,\"rgb(203, 64, 87)\"],[0.5176470588235295,\"rgb(202, 63, 87)\"],[0.5215686274509804,\"rgb(201, 62, 88)\"],[0.5254901960784314,\"rgb(200, 61, 88)\"],[0.5294117647058824,\"rgb(199, 60, 88)\"],[0.5333333333333333,\"rgb(198, 59, 89)\"],[0.5372549019607843,\"rgb(197, 58, 89)\"],[0.5411764705882353,\"rgb(196, 57, 89)\"],[0.5450980392156862,\"rgb(195, 56, 90)\"],[0.5490196078431373,\"rgb(193, 56, 90)\"],[0.5529411764705883,\"rgb(192, 55, 90)\"],[0.5568627450980392,\"rgb(191, 54, 91)\"],[0.5607843137254902,\"rgb(190, 53, 91)\"],[0.5647058823529412,\"rgb(189, 52, 91)\"],[0.5686274509803921,\"rgb(188, 52, 92)\"],[0.5725490196078431,\"rgb(187, 51, 92)\"],[0.5764705882352941,\"rgb(186, 50, 92)\"],[0.5803921568627451,\"rgb(185, 49, 93)\"],[0.5843137254901961,\"rgb(184, 48, 93)\"],[0.5882352941176471,\"rgb(182, 48, 93)\"],[0.592156862745098,\"rgb(181, 47, 93)\"],[0.596078431372549,\"rgb(180, 46, 94)\"],[0.6,\"rgb(179, 46, 94)\"],[0.6039215686274509,\"rgb(178, 45, 94)\"],[0.6078431372549019,\"rgb(177, 44, 95)\"],[0.611764705882353,\"rgb(175, 44, 95)\"],[0.615686274509804,\"rgb(174, 43, 95)\"],[0.6196078431372549,\"rgb(173, 42, 95)\"],[0.6235294117647059,\"rgb(172, 42, 96)\"],[0.6274509803921569,\"rgb(171, 41, 96)\"],[0.6313725490196078,\"rgb(169, 40, 96)\"],[0.6352941176470588,\"rgb(168, 40, 96)\"],[0.6392156862745098,\"rgb(167, 39, 97)\"],[0.6431372549019608,\"rgb(166, 39, 97)\"],[0.6470588235294118,\"rgb(165, 38, 97)\"],[0.6509803921568628,\"rgb(163, 37, 97)\"],[0.6549019607843137,\"rgb(162, 37, 97)\"],[0.6588235294117647,\"rgb(161, 36, 98)\"],[0.6627450980392157,\"rgb(160, 36, 98)\"],[0.6666666666666666,\"rgb(158, 35, 98)\"],[0.6705882352941176,\"rgb(157, 35, 98)\"],[0.6745098039215687,\"rgb(156, 34, 98)\"],[0.6784313725490196,\"rgb(155, 34, 98)\"],[0.6823529411764706,\"rgb(153, 33, 98)\"],[0.6862745098039216,\"rgb(152, 33, 99)\"],[0.6901960784313725,\"rgb(151, 33, 99)\"],[0.6941176470588235,\"rgb(149, 32, 99)\"],[0.6980392156862745,\"rgb(148, 32, 99)\"],[0.7019607843137254,\"rgb(147, 31, 99)\"],[0.7058823529411765,\"rgb(146, 31, 99)\"],[0.7098039215686275,\"rgb(144, 31, 99)\"],[0.7137254901960784,\"rgb(143, 30, 99)\"],[0.7176470588235294,\"rgb(142, 30, 99)\"],[0.7215686274509804,\"rgb(140, 30, 99)\"],[0.7254901960784313,\"rgb(139, 29, 99)\"],[0.7294117647058823,\"rgb(138, 29, 99)\"],[0.7333333333333333,\"rgb(136, 29, 99)\"],[0.7372549019607844,\"rgb(135, 28, 99)\"],[0.7411764705882353,\"rgb(134, 28, 99)\"],[0.7450980392156863,\"rgb(133, 28, 99)\"],[0.7490196078431373,\"rgb(131, 28, 98)\"],[0.7529411764705882,\"rgb(130, 27, 98)\"],[0.7568627450980392,\"rgb(129, 27, 98)\"],[0.7607843137254902,\"rgb(127, 27, 98)\"],[0.7647058823529411,\"rgb(126, 27, 98)\"],[0.7686274509803922,\"rgb(125, 26, 98)\"],[0.7725490196078432,\"rgb(123, 26, 97)\"],[0.7764705882352941,\"rgb(122, 26, 97)\"],[0.7803921568627451,\"rgb(120, 26, 97)\"],[0.7843137254901961,\"rgb(119, 26, 97)\"],[0.788235294117647,\"rgb(118, 26, 96)\"],[0.792156862745098,\"rgb(116, 25, 96)\"],[0.796078431372549,\"rgb(115, 25, 96)\"],[0.8,\"rgb(114, 25, 95)\"],[0.803921568627451,\"rgb(112, 25, 95)\"],[0.807843137254902,\"rgb(111, 25, 95)\"],[0.8117647058823529,\"rgb(110, 25, 94)\"],[0.8156862745098039,\"rgb(108, 25, 94)\"],[0.8196078431372549,\"rgb(107, 24, 93)\"],[0.8235294117647058,\"rgb(106, 24, 93)\"],[0.8274509803921568,\"rgb(104, 24, 93)\"],[0.8313725490196079,\"rgb(103, 24, 92)\"],[0.8352941176470589,\"rgb(102, 24, 92)\"],[0.8392156862745098,\"rgb(100, 24, 91)\"],[0.8431372549019608,\"rgb(99, 24, 91)\"],[0.8470588235294118,\"rgb(98, 23, 90)\"],[0.8509803921568627,\"rgb(96, 23, 90)\"],[0.8549019607843137,\"rgb(95, 23, 89)\"],[0.8588235294117647,\"rgb(94, 23, 89)\"],[0.8627450980392157,\"rgb(92, 23, 88)\"],[0.8666666666666667,\"rgb(91, 23, 87)\"],[0.8705882352941177,\"rgb(89, 23, 87)\"],[0.8745098039215686,\"rgb(88, 23, 86)\"],[0.8784313725490196,\"rgb(87, 22, 86)\"],[0.8823529411764706,\"rgb(85, 22, 85)\"],[0.8862745098039215,\"rgb(84, 22, 84)\"],[0.8901960784313725,\"rgb(83, 22, 84)\"],[0.8941176470588236,\"rgb(82, 22, 83)\"],[0.8980392156862745,\"rgb(80, 22, 82)\"],[0.9019607843137255,\"rgb(79, 21, 82)\"],[0.9058823529411765,\"rgb(78, 21, 81)\"],[0.9098039215686274,\"rgb(76, 21, 80)\"],[0.9137254901960784,\"rgb(75, 21, 79)\"],[0.9176470588235294,\"rgb(74, 21, 79)\"],[0.9215686274509803,\"rgb(72, 20, 78)\"],[0.9254901960784314,\"rgb(71, 20, 77)\"],[0.9294117647058824,\"rgb(70, 20, 76)\"],[0.9333333333333333,\"rgb(68, 20, 76)\"],[0.9372549019607843,\"rgb(67, 19, 75)\"],[0.9411764705882353,\"rgb(66, 19, 74)\"],[0.9450980392156862,\"rgb(65, 19, 73)\"],[0.9490196078431372,\"rgb(63, 19, 73)\"],[0.9529411764705882,\"rgb(62, 18, 72)\"],[0.9568627450980393,\"rgb(61, 18, 71)\"],[0.9607843137254902,\"rgb(59, 18, 70)\"],[0.9647058823529412,\"rgb(58, 18, 69)\"],[0.9686274509803922,\"rgb(57, 17, 68)\"],[0.9725490196078431,\"rgb(56, 17, 68)\"],[0.9764705882352941,\"rgb(54, 17, 67)\"],[0.9803921568627451,\"rgb(53, 16, 66)\"],[0.984313725490196,\"rgb(52, 16, 65)\"],[0.9882352941176471,\"rgb(50, 16, 64)\"],[0.9921568627450981,\"rgb(49, 15, 63)\"],[0.996078431372549,\"rgb(48, 15, 62)\"],[1.0,\"rgb(47, 15, 61)\"]],\"showscale\":false,\"text\":[[\"16.6\",\"16.8\",\"16.8\",\"16.6\",\"16.9\",\"16.7\",\"\",\"\",\"\",\"\",\"\",\"\",\"\",\"\",\"\",\"\",\"\",\"\",\"\",\"\",\"\",\"\",\"\",\"\",\"\",\"\",\"\",\"\",\"\",\"\",\"\"],[\"\",\"\",\"\",\"\",\"\",\"\",\"\",\"\",\"\",\"\",\"\",\"\",\"\",\"\",\"\",\"\",\"\",\"\",\"\",\"\",\"\",\"\",\"\",\"\",\"\",\"\",\"\",\"\",\"\",\"\",\"\"],[\"\",\"\",\"\",\"\",\"\",\"\",\"\",\"\",\"\",\"\",\"\",\"\",\"\",\"\",\"\",\"\",\"\",\"\",\"\",\"\",\"\",\"\",\"\",\"\",\"\",\"\",\"\",\"\",\"\",\"\",\"\"],[\"\",\"\",\"\",\"\",\"\",\"\",\"\",\"\",\"\",\"\",\"\",\"\",\"\",\"\",\"\",\"\",\"\",\"\",\"\",\"\",\"\",\"\",\"\",\"\",\"17.1\",\"17.5\",\"17.2\",\"16.8\",\"17.0\",\"16.8\",\"\"],[\"16.9\",\"17.0\",\"17.0\",\"16.7\",\"16.5\",\"16.4\",\"16.3\",\"16.4\",\"16.3\",\"16.3\",\"16.3\",\"16.5\",\"16.6\",\"16.2\",\"16.1\",\"15.9\",\"15.8\",\"15.6\",\"15.5\",\"15.5\",\"15.5\",\"15.4\",\"15.3\",\"15.3\",\"15.3\",\"15.2\",\"15.1\",\"15.0\",\"15.1\",\"15.0\",\"14.9\"],[\"14.8\",\"14.8\",\"\",\"\",\"\",\"\",\"\",\"\",\"\",\"\",\"\",\"\",\"\",\"\",\"\",\"\",\"\",\"\",\"\",\"\",\"\",\"\",\"\",\"\",\"\",\"\",\"\",\"\",\"\",\"\",\"\"],[\"\",\"\",\"\",\"\",\"\",\"\",\"\",\"\",\"\",\"\",\"\",\"\",\"\",\"\",\"\",\"\",\"\",\"\",\"\",\"\",\"\",\"\",\"\",\"\",\"\",\"\",\"\",\"\",\"\",\"\",\"\"],[\"\",\"\",\"\",\"\",\"\",\"\",\"\",\"\",\"\",\"\",\"\",\"\",\"\",\"\",\"\",\"\",\"\",\"\",\"\",\"\",\"\",\"\",\"\",\"\",\"\",\"\",\"\",\"\",\"\",\"\",\"\"],[\"\",\"\",\"\",\"\",\"\",\"\",\"\",\"\",\"\",\"\",\"\",\"\",\"\",\"\",\"\",\"\",\"\",\"\",\"\",\"\",\"\",\"\",\"\",\"\",\"\",\"\",\"\",\"\",\"\",\"\",\"\"],[\"\",\"\",\"\",\"\",\"\",\"\",\"\",\"\",\"\",\"\",\"\",\"\",\"\",\"\",\"\",\"\",\"\",\"\",\"\",\"\",\"\",\"\",\"\",\"\",\"\",\"\",\"\",\"\",\"\",\"\",\"\"],[\"\",\"\",\"\",\"\",\"\",\"\",\"\",\"\",\"\",\"\",\"\",\"\",\"\",\"\",\"\",\"\",\"\",\"\",\"\",\"\",\"\",\"\",\"\",\"\",\"\",\"\",\"\",\"\",\"\",\"\",\"\"],[\"\",\"\",\"\",\"\",\"\",\"\",\"\",\"\",\"\",\"\",\"\",\"\",\"\",\"\",\"\",\"15.6\",\"15.8\",\"15.9\",\"16.0\",\"16.3\",\"16.0\",\"16.3\",\"16.1\",\"16.4\",\"16.7\",\"16.5\",\"16.4\",\"16.2\",\"16.3\",\"16.6\",\"16.7\"]],\"textfont\":{\"size\":12},\"texttemplate\":\"%{text:.1f}\",\"z\":[[16.59,16.8,16.85,16.62,16.94,16.66,null,null,null,null,null,null,null,null,null,null,null,null,null,null,null,null,null,null,null,null,null,null,null,null,null],[null,null,null,null,null,null,null,null,null,null,null,null,null,null,null,null,null,null,null,null,null,null,null,null,null,null,null,null,null,null,null],[null,null,null,null,null,null,null,null,null,null,null,null,null,null,null,null,null,null,null,null,null,null,null,null,null,null,null,null,null,null,null],[null,null,null,null,null,null,null,null,null,null,null,null,null,null,null,null,null,null,null,null,null,null,null,null,17.06,17.48,17.25,16.78,16.97,16.77,null],[16.91,17.02,17.0,16.69,16.52,16.36,16.32,16.45,16.3,16.3,16.3,16.46,16.55,16.18,16.14,15.92,15.83,15.62,15.49,15.46,15.47,15.42,15.33,15.26,15.28,15.18,15.12,15.05,15.07,14.99,14.91],[14.82,14.75,null,null,null,null,null,null,null,null,null,null,null,null,null,null,null,null,null,null,null,null,null,null,null,null,null,null,null,null,null],[null,null,null,null,null,null,null,null,null,null,null,null,null,null,null,null,null,null,null,null,null,null,null,null,null,null,null,null,null,null,null],[null,null,null,null,null,null,null,null,null,null,null,null,null,null,null,null,null,null,null,null,null,null,null,null,null,null,null,null,null,null,null],[null,null,null,null,null,null,null,null,null,null,null,null,null,null,null,null,null,null,null,null,null,null,null,null,null,null,null,null,null,null,null],[null,null,null,null,null,null,null,null,null,null,null,null,null,null,null,null,null,null,null,null,null,null,null,null,null,null,null,null,null,null,null],[null,null,null,null,null,null,null,null,null,null,null,null,null,null,null,null,null,null,null,null,null,null,null,null,null,null,null,null,null,null,null],[null,null,null,null,null,null,null,null,null,null,null,null,null,null,null,15.6,15.78,15.86,16.05,16.26,16.01,16.29,16.09,16.44,16.66,16.53,16.37,16.15,16.34,16.64,16.72]],\"zmax\":17.48,\"zmin\":14.75,\"type\":\"heatmap\"}],                        {\"template\":{\"data\":{\"histogram2dcontour\":[{\"type\":\"histogram2dcontour\",\"colorbar\":{\"outlinewidth\":0,\"ticks\":\"\"},\"colorscale\":[[0.0,\"#0d0887\"],[0.1111111111111111,\"#46039f\"],[0.2222222222222222,\"#7201a8\"],[0.3333333333333333,\"#9c179e\"],[0.4444444444444444,\"#bd3786\"],[0.5555555555555556,\"#d8576b\"],[0.6666666666666666,\"#ed7953\"],[0.7777777777777778,\"#fb9f3a\"],[0.8888888888888888,\"#fdca26\"],[1.0,\"#f0f921\"]]}],\"choropleth\":[{\"type\":\"choropleth\",\"colorbar\":{\"outlinewidth\":0,\"ticks\":\"\"}}],\"histogram2d\":[{\"type\":\"histogram2d\",\"colorbar\":{\"outlinewidth\":0,\"ticks\":\"\"},\"colorscale\":[[0.0,\"#0d0887\"],[0.1111111111111111,\"#46039f\"],[0.2222222222222222,\"#7201a8\"],[0.3333333333333333,\"#9c179e\"],[0.4444444444444444,\"#bd3786\"],[0.5555555555555556,\"#d8576b\"],[0.6666666666666666,\"#ed7953\"],[0.7777777777777778,\"#fb9f3a\"],[0.8888888888888888,\"#fdca26\"],[1.0,\"#f0f921\"]]}],\"heatmap\":[{\"type\":\"heatmap\",\"colorbar\":{\"outlinewidth\":0,\"ticks\":\"\"},\"colorscale\":[[0.0,\"#0d0887\"],[0.1111111111111111,\"#46039f\"],[0.2222222222222222,\"#7201a8\"],[0.3333333333333333,\"#9c179e\"],[0.4444444444444444,\"#bd3786\"],[0.5555555555555556,\"#d8576b\"],[0.6666666666666666,\"#ed7953\"],[0.7777777777777778,\"#fb9f3a\"],[0.8888888888888888,\"#fdca26\"],[1.0,\"#f0f921\"]]}],\"heatmapgl\":[{\"type\":\"heatmapgl\",\"colorbar\":{\"outlinewidth\":0,\"ticks\":\"\"},\"colorscale\":[[0.0,\"#0d0887\"],[0.1111111111111111,\"#46039f\"],[0.2222222222222222,\"#7201a8\"],[0.3333333333333333,\"#9c179e\"],[0.4444444444444444,\"#bd3786\"],[0.5555555555555556,\"#d8576b\"],[0.6666666666666666,\"#ed7953\"],[0.7777777777777778,\"#fb9f3a\"],[0.8888888888888888,\"#fdca26\"],[1.0,\"#f0f921\"]]}],\"contourcarpet\":[{\"type\":\"contourcarpet\",\"colorbar\":{\"outlinewidth\":0,\"ticks\":\"\"}}],\"contour\":[{\"type\":\"contour\",\"colorbar\":{\"outlinewidth\":0,\"ticks\":\"\"},\"colorscale\":[[0.0,\"#0d0887\"],[0.1111111111111111,\"#46039f\"],[0.2222222222222222,\"#7201a8\"],[0.3333333333333333,\"#9c179e\"],[0.4444444444444444,\"#bd3786\"],[0.5555555555555556,\"#d8576b\"],[0.6666666666666666,\"#ed7953\"],[0.7777777777777778,\"#fb9f3a\"],[0.8888888888888888,\"#fdca26\"],[1.0,\"#f0f921\"]]}],\"surface\":[{\"type\":\"surface\",\"colorbar\":{\"outlinewidth\":0,\"ticks\":\"\"},\"colorscale\":[[0.0,\"#0d0887\"],[0.1111111111111111,\"#46039f\"],[0.2222222222222222,\"#7201a8\"],[0.3333333333333333,\"#9c179e\"],[0.4444444444444444,\"#bd3786\"],[0.5555555555555556,\"#d8576b\"],[0.6666666666666666,\"#ed7953\"],[0.7777777777777778,\"#fb9f3a\"],[0.8888888888888888,\"#fdca26\"],[1.0,\"#f0f921\"]]}],\"mesh3d\":[{\"type\":\"mesh3d\",\"colorbar\":{\"outlinewidth\":0,\"ticks\":\"\"}}],\"scatter\":[{\"fillpattern\":{\"fillmode\":\"overlay\",\"size\":10,\"solidity\":0.2},\"type\":\"scatter\"}],\"parcoords\":[{\"type\":\"parcoords\",\"line\":{\"colorbar\":{\"outlinewidth\":0,\"ticks\":\"\"}}}],\"scatterpolargl\":[{\"type\":\"scatterpolargl\",\"marker\":{\"colorbar\":{\"outlinewidth\":0,\"ticks\":\"\"}}}],\"bar\":[{\"error_x\":{\"color\":\"#2a3f5f\"},\"error_y\":{\"color\":\"#2a3f5f\"},\"marker\":{\"line\":{\"color\":\"#E5ECF6\",\"width\":0.5},\"pattern\":{\"fillmode\":\"overlay\",\"size\":10,\"solidity\":0.2}},\"type\":\"bar\"}],\"scattergeo\":[{\"type\":\"scattergeo\",\"marker\":{\"colorbar\":{\"outlinewidth\":0,\"ticks\":\"\"}}}],\"scatterpolar\":[{\"type\":\"scatterpolar\",\"marker\":{\"colorbar\":{\"outlinewidth\":0,\"ticks\":\"\"}}}],\"histogram\":[{\"marker\":{\"pattern\":{\"fillmode\":\"overlay\",\"size\":10,\"solidity\":0.2}},\"type\":\"histogram\"}],\"scattergl\":[{\"type\":\"scattergl\",\"marker\":{\"colorbar\":{\"outlinewidth\":0,\"ticks\":\"\"}}}],\"scatter3d\":[{\"type\":\"scatter3d\",\"line\":{\"colorbar\":{\"outlinewidth\":0,\"ticks\":\"\"}},\"marker\":{\"colorbar\":{\"outlinewidth\":0,\"ticks\":\"\"}}}],\"scattermapbox\":[{\"type\":\"scattermapbox\",\"marker\":{\"colorbar\":{\"outlinewidth\":0,\"ticks\":\"\"}}}],\"scatterternary\":[{\"type\":\"scatterternary\",\"marker\":{\"colorbar\":{\"outlinewidth\":0,\"ticks\":\"\"}}}],\"scattercarpet\":[{\"type\":\"scattercarpet\",\"marker\":{\"colorbar\":{\"outlinewidth\":0,\"ticks\":\"\"}}}],\"carpet\":[{\"aaxis\":{\"endlinecolor\":\"#2a3f5f\",\"gridcolor\":\"white\",\"linecolor\":\"white\",\"minorgridcolor\":\"white\",\"startlinecolor\":\"#2a3f5f\"},\"baxis\":{\"endlinecolor\":\"#2a3f5f\",\"gridcolor\":\"white\",\"linecolor\":\"white\",\"minorgridcolor\":\"white\",\"startlinecolor\":\"#2a3f5f\"},\"type\":\"carpet\"}],\"table\":[{\"cells\":{\"fill\":{\"color\":\"#EBF0F8\"},\"line\":{\"color\":\"white\"}},\"header\":{\"fill\":{\"color\":\"#C8D4E3\"},\"line\":{\"color\":\"white\"}},\"type\":\"table\"}],\"barpolar\":[{\"marker\":{\"line\":{\"color\":\"#E5ECF6\",\"width\":0.5},\"pattern\":{\"fillmode\":\"overlay\",\"size\":10,\"solidity\":0.2}},\"type\":\"barpolar\"}],\"pie\":[{\"automargin\":true,\"type\":\"pie\"}]},\"layout\":{\"autotypenumbers\":\"strict\",\"colorway\":[\"#636efa\",\"#EF553B\",\"#00cc96\",\"#ab63fa\",\"#FFA15A\",\"#19d3f3\",\"#FF6692\",\"#B6E880\",\"#FF97FF\",\"#FECB52\"],\"font\":{\"color\":\"#2a3f5f\"},\"hovermode\":\"closest\",\"hoverlabel\":{\"align\":\"left\"},\"paper_bgcolor\":\"white\",\"plot_bgcolor\":\"#E5ECF6\",\"polar\":{\"bgcolor\":\"#E5ECF6\",\"angularaxis\":{\"gridcolor\":\"white\",\"linecolor\":\"white\",\"ticks\":\"\"},\"radialaxis\":{\"gridcolor\":\"white\",\"linecolor\":\"white\",\"ticks\":\"\"}},\"ternary\":{\"bgcolor\":\"#E5ECF6\",\"aaxis\":{\"gridcolor\":\"white\",\"linecolor\":\"white\",\"ticks\":\"\"},\"baxis\":{\"gridcolor\":\"white\",\"linecolor\":\"white\",\"ticks\":\"\"},\"caxis\":{\"gridcolor\":\"white\",\"linecolor\":\"white\",\"ticks\":\"\"}},\"coloraxis\":{\"colorbar\":{\"outlinewidth\":0,\"ticks\":\"\"}},\"colorscale\":{\"sequential\":[[0.0,\"#0d0887\"],[0.1111111111111111,\"#46039f\"],[0.2222222222222222,\"#7201a8\"],[0.3333333333333333,\"#9c179e\"],[0.4444444444444444,\"#bd3786\"],[0.5555555555555556,\"#d8576b\"],[0.6666666666666666,\"#ed7953\"],[0.7777777777777778,\"#fb9f3a\"],[0.8888888888888888,\"#fdca26\"],[1.0,\"#f0f921\"]],\"sequentialminus\":[[0.0,\"#0d0887\"],[0.1111111111111111,\"#46039f\"],[0.2222222222222222,\"#7201a8\"],[0.3333333333333333,\"#9c179e\"],[0.4444444444444444,\"#bd3786\"],[0.5555555555555556,\"#d8576b\"],[0.6666666666666666,\"#ed7953\"],[0.7777777777777778,\"#fb9f3a\"],[0.8888888888888888,\"#fdca26\"],[1.0,\"#f0f921\"]],\"diverging\":[[0,\"#8e0152\"],[0.1,\"#c51b7d\"],[0.2,\"#de77ae\"],[0.3,\"#f1b6da\"],[0.4,\"#fde0ef\"],[0.5,\"#f7f7f7\"],[0.6,\"#e6f5d0\"],[0.7,\"#b8e186\"],[0.8,\"#7fbc41\"],[0.9,\"#4d9221\"],[1,\"#276419\"]]},\"xaxis\":{\"gridcolor\":\"white\",\"linecolor\":\"white\",\"ticks\":\"\",\"title\":{\"standoff\":15},\"zerolinecolor\":\"white\",\"automargin\":true,\"zerolinewidth\":2},\"yaxis\":{\"gridcolor\":\"white\",\"linecolor\":\"white\",\"ticks\":\"\",\"title\":{\"standoff\":15},\"zerolinecolor\":\"white\",\"automargin\":true,\"zerolinewidth\":2},\"scene\":{\"xaxis\":{\"backgroundcolor\":\"#E5ECF6\",\"gridcolor\":\"white\",\"linecolor\":\"white\",\"showbackground\":true,\"ticks\":\"\",\"zerolinecolor\":\"white\",\"gridwidth\":2},\"yaxis\":{\"backgroundcolor\":\"#E5ECF6\",\"gridcolor\":\"white\",\"linecolor\":\"white\",\"showbackground\":true,\"ticks\":\"\",\"zerolinecolor\":\"white\",\"gridwidth\":2},\"zaxis\":{\"backgroundcolor\":\"#E5ECF6\",\"gridcolor\":\"white\",\"linecolor\":\"white\",\"showbackground\":true,\"ticks\":\"\",\"zerolinecolor\":\"white\",\"gridwidth\":2}},\"shapedefaults\":{\"line\":{\"color\":\"#2a3f5f\"}},\"annotationdefaults\":{\"arrowcolor\":\"#2a3f5f\",\"arrowhead\":0,\"arrowwidth\":1},\"geo\":{\"bgcolor\":\"white\",\"landcolor\":\"#E5ECF6\",\"subunitcolor\":\"white\",\"showland\":true,\"showlakes\":true,\"lakecolor\":\"white\"},\"title\":{\"x\":0.05},\"mapbox\":{\"style\":\"light\"}}},\"xaxis\":{\"tickfont\":{\"size\":30},\"title\":{\"text\":\"Day of the Month\"},\"tickangle\":0},\"yaxis\":{\"tickfont\":{\"size\":30},\"title\":{\"text\":\"\"},\"tickvals\":[0,1,2,3,4,5,6,7,8,9,10,11],\"ticktext\":[\"Jan\",\"Feb\",\"Mar\",\"Apr\",\"May\",\"Jun\",\"Jul\",\"Aug\",\"Sep\",\"Oct\",\"Nov\",\"Dec\"]},\"title\":{\"text\":\"Heatmap of MHW Temperatures\",\"x\":0.5,\"font\":{\"size\":30}},\"width\":1200,\"height\":1000},                        {\"responsive\": true}                    ).then(function(){\n",
       "                            \n",
       "var gd = document.getElementById('07c664fd-6be6-4950-bb12-b9ce317db234');\n",
       "var x = new MutationObserver(function (mutations, observer) {{\n",
       "        var display = window.getComputedStyle(gd).display;\n",
       "        if (!display || display === 'none') {{\n",
       "            console.log([gd, 'removed!']);\n",
       "            Plotly.purge(gd);\n",
       "            observer.disconnect();\n",
       "        }}\n",
       "}});\n",
       "\n",
       "// Listen for the removal of the full notebook cells\n",
       "var notebookContainer = gd.closest('#notebook-container');\n",
       "if (notebookContainer) {{\n",
       "    x.observe(notebookContainer, {childList: true});\n",
       "}}\n",
       "\n",
       "// Listen for the clearing of the current output cell\n",
       "var outputEl = gd.closest('.output');\n",
       "if (outputEl) {{\n",
       "    x.observe(outputEl, {childList: true});\n",
       "}}\n",
       "\n",
       "                        })                };                });            </script>        </div>"
      ]
     },
     "metadata": {},
     "output_type": "display_data"
    }
   ],
   "source": [
    "# Step 1: Convert the cmocean colormap to a Plotly-compatible colorscale\n",
    "cmocean_colors = cmocean.cm.matter(np.linspace(0, 1, 256))\n",
    "plotly_colorscale = [\n",
    "    [i / (len(cmocean_colors) - 1), f'rgb({int(r * 255)}, {int(g * 255)}, {int(b * 255)})']\n",
    "    for i, (r, g, b, a) in enumerate(cmocean_colors)\n",
    "]\n",
    "\n",
    "# Step 2: Prepare the heatmap data\n",
    "heatmap_data = np.round(temp_dataframe, 2)\n",
    "\n",
    "# Create a text array with annotations only for non-null values\n",
    "text_data = np.where(np.isnan(heatmap_data), '', np.round(heatmap_data, 1).astype(str))\n",
    "\n",
    "# Step 3: Create the Plotly heatmap\n",
    "fig = go.Figure(data=go.Heatmap(\n",
    "    z=heatmap_data,\n",
    "    colorscale=plotly_colorscale,  # Use the converted colormap\n",
    "    zmin=np.nanmin(heatmap_data),  # Adjust to avoid issues with NaNs\n",
    "    zmax=np.nanmax(heatmap_data),\n",
    "    text=text_data,  # Display text only where there is data\n",
    "    texttemplate='%{text:.1f}',\n",
    "    textfont=dict(size=12),\n",
    "    showscale=False,  # Show the colorbar\n",
    "    colorbar=dict(title='Temperature (°C)', tickvals=np.linspace(np.nanmin(heatmap_data), np.nanmax(heatmap_data), 5))\n",
    "))\n",
    "\n",
    "# Step 4: Update layout for axis titles, tick labels, and figure dimensions\n",
    "fig.update_layout(\n",
    "    width=1200,  # Set the width of the figure\n",
    "    height=1000,  # Set the height of the figure\n",
    "    xaxis=dict(\n",
    "        tickfont=dict(size=30),\n",
    "        title='Day of the Month',  # Adjust as needed\n",
    "        tickangle=0\n",
    "    ),\n",
    "    yaxis=dict(\n",
    "        tickfont=dict(size=30),\n",
    "        title='',  # No y-axis title as per your Seaborn plot\n",
    "        tickvals=np.arange(12),  # Assuming y-axis is months\n",
    "        ticktext=['Jan', 'Feb', 'Mar', 'Apr', 'May', 'Jun', 'Jul', 'Aug', 'Sep', 'Oct', 'Nov', 'Dec']\n",
    "    ),\n",
    "    title='Heatmap of MHW Temperatures',  # Adjust title as needed\n",
    "    title_x=0.5,\n",
    "    title_font=dict(size=30)\n",
    ")\n",
    "\n",
    "# Step 5: Show the figure\n",
    "fig.show()\n",
    "\n",
    "# Define the directory where you want to save the HTML file\n",
    "save_directory = '/g/data/v45/ns3783/ohw24_proj_MessageMeWhenItsHot_the_MHW_Vis-Report_app_au/Figures/'\n",
    "# Ensure the directory exists\n",
    "os.makedirs(save_directory, exist_ok=True)\n",
    "\n",
    "# Define the file path\n",
    "file_path = os.path.join(save_directory, 'MHW_temp_individual_HEATMAP_1_depth.json')\n",
    "\n",
    "# Save the Plotly figure as an HTML file\n",
    "pio.write_json(fig, file=file_path)\n"
   ]
  },
  {
   "cell_type": "markdown",
   "id": "ffc5abf5-fe8e-4ff8-974e-4b2265ea1245",
   "metadata": {},
   "source": [
    "_____"
   ]
  }
 ],
 "metadata": {
  "kernelspec": {
   "display_name": "Python [conda env:analysis3-24.04] *",
   "language": "python",
   "name": "conda-env-analysis3-24.04-py"
  },
  "language_info": {
   "codemirror_mode": {
    "name": "ipython",
    "version": 3
   },
   "file_extension": ".py",
   "mimetype": "text/x-python",
   "name": "python",
   "nbconvert_exporter": "python",
   "pygments_lexer": "ipython3",
   "version": "3.10.14"
  }
 },
 "nbformat": 4,
 "nbformat_minor": 5
}
