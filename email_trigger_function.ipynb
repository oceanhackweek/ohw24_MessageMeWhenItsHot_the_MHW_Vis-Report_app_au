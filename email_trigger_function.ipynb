{
 "cells": [
  {
   "cell_type": "markdown",
   "id": "0eaedc2a-9435-4b66-b81b-9d9c6aa87abf",
   "metadata": {},
   "source": [
    "## This creates a function to send the alert email we want to set up for the WebApp subscribers. \n",
    "## At the moment we don't have NRT data or the ability to do that, so an example is provided at the end with some entries filled to show how it will look like when it is done. "
   ]
  },
  {
   "cell_type": "code",
   "execution_count": 2,
   "id": "a46ad031-a4e7-42e1-8a77-88b81eb41d80",
   "metadata": {},
   "outputs": [],
   "source": [
    "# Run these two lines one after the other on the temrinal in the path of this file to make it work.\n",
    "# pip install python-dotenv\n",
    "# python -c \"import dotenv\""
   ]
  },
  {
   "cell_type": "code",
   "execution_count": 5,
   "id": "f3ef756c-d04c-4946-b147-4f9dab5ccf7d",
   "metadata": {},
   "outputs": [],
   "source": [
    "from dotenv import load_dotenv\n",
    "import os\n",
    "import smtplib\n",
    "from email.mime.multipart import MIMEMultipart\n",
    "from email.mime.text import MIMEText"
   ]
  },
  {
   "cell_type": "code",
   "execution_count": 6,
   "id": "1c68f0c6-d558-45f0-b140-f23e3262df01",
   "metadata": {},
   "outputs": [],
   "source": [
    "#I have created an .env file with the email credentials we should be using. \n",
    "#create a .env file on the directory that looks like this\n",
    "#EMAIL_ADDRESS=messagemewhenitshot@zoho.com\n",
    "#EMAIL_PASSWORD=xxxx\n",
    "#SMTP_SERVER = \"smtp.zoho.com\"\n",
    "#SMTP_PORT=587 "
   ]
  },
  {
   "cell_type": "code",
   "execution_count": 3,
   "id": "54c82208-cd5e-470c-963d-d55997bd2c98",
   "metadata": {},
   "outputs": [],
   "source": [
    "# Load environment variables from a .env file\n",
    "# Specify the path to your .env file\n",
    "env_path = '/g/data/v45/ns3783/ohw24_proj_MessageMeWhenItsHot_the_MHW_Vis-Report_app_au/email_credentials.env'\n",
    "load_dotenv(dotenv_path=env_path)\n",
    "\n",
    "# Access the variables\n",
    "EMAIL_ADDRESS = os.getenv('EMAIL_ADDRESS')\n",
    "EMAIL_PASSWORD = os.getenv('EMAIL_PASSWORD')\n",
    "SMTP_SERVER = os.getenv('SMTP_SERVER')\n",
    "SMTP_PORT = int(os.getenv('SMTP_PORT', 587))"
   ]
  },
  {
   "cell_type": "code",
   "execution_count": 4,
   "id": "5060f27b-9e7c-408e-a9ba-7431544a780e",
   "metadata": {},
   "outputs": [
    {
     "name": "stdout",
     "output_type": "stream",
     "text": [
      "messagemewhenitshot@zoho.com\n"
     ]
    }
   ],
   "source": [
    "print(EMAIL_ADDRESS)"
   ]
  },
  {
   "cell_type": "code",
   "execution_count": 7,
   "id": "fa23114d-fad4-4671-89f6-5f2eeda95aea",
   "metadata": {},
   "outputs": [],
   "source": [
    "# Function to send email\n",
    "def send_email(recipients, subject, body):\n",
    "    msg = MIMEMultipart()\n",
    "    msg['From'] = EMAIL_ADDRESS\n",
    "    msg['To'] = \", \".join(recipients)\n",
    "    msg['Subject'] = subject\n",
    "\n",
    "    # Add the email body\n",
    "    msg.attach(MIMEText(body, 'plain'))\n",
    "\n",
    "    # Set up the SMTP server\n",
    "    server = smtplib.SMTP(SMTP_SERVER, SMTP_PORT)\n",
    "    server.starttls()\n",
    "    server.login(EMAIL_ADDRESS, EMAIL_PASSWORD)\n",
    "\n",
    "    # Send the email\n",
    "    server.sendmail(EMAIL_ADDRESS, recipients, msg.as_string())\n",
    "    server.quit()\n",
    "\n",
    "# Generate email content dynamically\n",
    "def create_email_content(new_data_available, record_broken, temperature_value, summary, location, depth):\n",
    "    subject = \"New Data Update and Record Broken!\"\n",
    "    body = (\n",
    "        f\"Hello,\\n\\n\"\n",
    "        f\"You told us to message you when it is hot. And it is!\\n\"\n",
    "        f\"We added new data to our website and it tells us a new record has been broken for {location} at {depth}m!\\n\"\n",
    "        f\"Temperature Record: {temperature_value}°C\\n\\n\"\n",
    "        f\"Please read the summary below: {summary}. (In the future, we can add some images to it and increment the wording.)\"\n",
    "        f\"Best regards,\\nYour Message Me When It's Hot Team\"\n",
    "    )\n",
    "    return subject, body\n",
    "\n"
   ]
  },
  {
   "cell_type": "code",
   "execution_count": 8,
   "id": "8875de9d-4223-4cd8-be01-9f9e130a30f5",
   "metadata": {},
   "outputs": [
    {
     "ename": "SMTPAuthenticationError",
     "evalue": "(535, b'5.7.8 Username and Password not accepted. For more information, go to\\n5.7.8  https://support.google.com/mail/?p=BadCredentials d9443c01a7336-20385bdc5e0sm95284955ad.271 - gsmtp')",
     "output_type": "error",
     "traceback": [
      "\u001b[0;31m---------------------------------------------------------------------------\u001b[0m",
      "\u001b[0;31mSMTPAuthenticationError\u001b[0m                   Traceback (most recent call last)",
      "Cell \u001b[0;32mIn[8], line 9\u001b[0m\n\u001b[1;32m      7\u001b[0m summary \u001b[38;5;241m=\u001b[39m \u001b[38;5;124m\"\u001b[39m\u001b[38;5;124mA new heatwave has led to unprecedented temperatures.\u001b[39m\u001b[38;5;124m\"\u001b[39m\n\u001b[1;32m      8\u001b[0m subject, body \u001b[38;5;241m=\u001b[39m create_email_content(\u001b[38;5;28;01mTrue\u001b[39;00m, \u001b[38;5;28;01mTrue\u001b[39;00m, temperature_value, summary, location, depth)\n\u001b[0;32m----> 9\u001b[0m \u001b[43msend_email\u001b[49m\u001b[43m(\u001b[49m\u001b[43memail_list\u001b[49m\u001b[43m,\u001b[49m\u001b[43m \u001b[49m\u001b[43msubject\u001b[49m\u001b[43m,\u001b[49m\u001b[43m \u001b[49m\u001b[43mbody\u001b[49m\u001b[43m)\u001b[49m\n",
      "Cell \u001b[0;32mIn[7], line 14\u001b[0m, in \u001b[0;36msend_email\u001b[0;34m(recipients, subject, body)\u001b[0m\n\u001b[1;32m     12\u001b[0m server \u001b[38;5;241m=\u001b[39m smtplib\u001b[38;5;241m.\u001b[39mSMTP(SMTP_SERVER, SMTP_PORT)\n\u001b[1;32m     13\u001b[0m server\u001b[38;5;241m.\u001b[39mstarttls()\n\u001b[0;32m---> 14\u001b[0m \u001b[43mserver\u001b[49m\u001b[38;5;241;43m.\u001b[39;49m\u001b[43mlogin\u001b[49m\u001b[43m(\u001b[49m\u001b[43mEMAIL_ADDRESS\u001b[49m\u001b[43m,\u001b[49m\u001b[43m \u001b[49m\u001b[43mEMAIL_PASSWORD\u001b[49m\u001b[43m)\u001b[49m\n\u001b[1;32m     16\u001b[0m \u001b[38;5;66;03m# Send the email\u001b[39;00m\n\u001b[1;32m     17\u001b[0m server\u001b[38;5;241m.\u001b[39msendmail(EMAIL_ADDRESS, recipients, msg\u001b[38;5;241m.\u001b[39mas_string())\n",
      "File \u001b[0;32m/g/data/hh5/public/apps/miniconda3/envs/analysis3-24.04/lib/python3.10/smtplib.py:750\u001b[0m, in \u001b[0;36mSMTP.login\u001b[0;34m(self, user, password, initial_response_ok)\u001b[0m\n\u001b[1;32m    747\u001b[0m         last_exception \u001b[38;5;241m=\u001b[39m e\n\u001b[1;32m    749\u001b[0m \u001b[38;5;66;03m# We could not login successfully.  Return result of last attempt.\u001b[39;00m\n\u001b[0;32m--> 750\u001b[0m \u001b[38;5;28;01mraise\u001b[39;00m last_exception\n",
      "File \u001b[0;32m/g/data/hh5/public/apps/miniconda3/envs/analysis3-24.04/lib/python3.10/smtplib.py:739\u001b[0m, in \u001b[0;36mSMTP.login\u001b[0;34m(self, user, password, initial_response_ok)\u001b[0m\n\u001b[1;32m    737\u001b[0m method_name \u001b[38;5;241m=\u001b[39m \u001b[38;5;124m'\u001b[39m\u001b[38;5;124mauth_\u001b[39m\u001b[38;5;124m'\u001b[39m \u001b[38;5;241m+\u001b[39m authmethod\u001b[38;5;241m.\u001b[39mlower()\u001b[38;5;241m.\u001b[39mreplace(\u001b[38;5;124m'\u001b[39m\u001b[38;5;124m-\u001b[39m\u001b[38;5;124m'\u001b[39m, \u001b[38;5;124m'\u001b[39m\u001b[38;5;124m_\u001b[39m\u001b[38;5;124m'\u001b[39m)\n\u001b[1;32m    738\u001b[0m \u001b[38;5;28;01mtry\u001b[39;00m:\n\u001b[0;32m--> 739\u001b[0m     (code, resp) \u001b[38;5;241m=\u001b[39m \u001b[38;5;28;43mself\u001b[39;49m\u001b[38;5;241;43m.\u001b[39;49m\u001b[43mauth\u001b[49m\u001b[43m(\u001b[49m\n\u001b[1;32m    740\u001b[0m \u001b[43m        \u001b[49m\u001b[43mauthmethod\u001b[49m\u001b[43m,\u001b[49m\u001b[43m \u001b[49m\u001b[38;5;28;43mgetattr\u001b[39;49m\u001b[43m(\u001b[49m\u001b[38;5;28;43mself\u001b[39;49m\u001b[43m,\u001b[49m\u001b[43m \u001b[49m\u001b[43mmethod_name\u001b[49m\u001b[43m)\u001b[49m\u001b[43m,\u001b[49m\n\u001b[1;32m    741\u001b[0m \u001b[43m        \u001b[49m\u001b[43minitial_response_ok\u001b[49m\u001b[38;5;241;43m=\u001b[39;49m\u001b[43minitial_response_ok\u001b[49m\u001b[43m)\u001b[49m\n\u001b[1;32m    742\u001b[0m     \u001b[38;5;66;03m# 235 == 'Authentication successful'\u001b[39;00m\n\u001b[1;32m    743\u001b[0m     \u001b[38;5;66;03m# 503 == 'Error: already authenticated'\u001b[39;00m\n\u001b[1;32m    744\u001b[0m     \u001b[38;5;28;01mif\u001b[39;00m code \u001b[38;5;129;01min\u001b[39;00m (\u001b[38;5;241m235\u001b[39m, \u001b[38;5;241m503\u001b[39m):\n",
      "File \u001b[0;32m/g/data/hh5/public/apps/miniconda3/envs/analysis3-24.04/lib/python3.10/smtplib.py:662\u001b[0m, in \u001b[0;36mSMTP.auth\u001b[0;34m(self, mechanism, authobject, initial_response_ok)\u001b[0m\n\u001b[1;32m    660\u001b[0m \u001b[38;5;28;01mif\u001b[39;00m code \u001b[38;5;129;01min\u001b[39;00m (\u001b[38;5;241m235\u001b[39m, \u001b[38;5;241m503\u001b[39m):\n\u001b[1;32m    661\u001b[0m     \u001b[38;5;28;01mreturn\u001b[39;00m (code, resp)\n\u001b[0;32m--> 662\u001b[0m \u001b[38;5;28;01mraise\u001b[39;00m SMTPAuthenticationError(code, resp)\n",
      "\u001b[0;31mSMTPAuthenticationError\u001b[0m: (535, b'5.7.8 Username and Password not accepted. For more information, go to\\n5.7.8  https://support.google.com/mail/?p=BadCredentials d9443c01a7336-20385bdc5e0sm95284955ad.271 - gsmtp')"
     ]
    }
   ],
   "source": [
    "# Example usage\n",
    "if __name__ == \"__main__\":\n",
    "    email_list = [\"natalia.ribeirosantos@utas.edu.au\", \"ranisa.gupta@csiro.au\",\"m.hemming@unsw.edu.au\"]\n",
    "    temperature_value = \"2\"\n",
    "    location='Maria Island'\n",
    "    depth = '21'\n",
    "    summary = \"A new heatwave has led to unprecedented temperatures.\"\n",
    "    subject, body = create_email_content(True, True, temperature_value, summary, location, depth)\n",
    "    send_email(email_list, subject, body)\n"
   ]
  },
  {
   "cell_type": "code",
   "execution_count": null,
   "id": "1c150c1b-7154-454b-94a4-2900761fde58",
   "metadata": {},
   "outputs": [],
   "source": []
  },
  {
   "cell_type": "code",
   "execution_count": null,
   "id": "3cb95c38-af88-481f-9ccd-e7d80f61099f",
   "metadata": {},
   "outputs": [],
   "source": []
  }
 ],
 "metadata": {
  "kernelspec": {
   "display_name": "Python [conda env:analysis3-24.04] *",
   "language": "python",
   "name": "conda-env-analysis3-24.04-py"
  },
  "language_info": {
   "codemirror_mode": {
    "name": "ipython",
    "version": 3
   },
   "file_extension": ".py",
   "mimetype": "text/x-python",
   "name": "python",
   "nbconvert_exporter": "python",
   "pygments_lexer": "ipython3",
   "version": "3.10.14"
  }
 },
 "nbformat": 4,
 "nbformat_minor": 5
}
