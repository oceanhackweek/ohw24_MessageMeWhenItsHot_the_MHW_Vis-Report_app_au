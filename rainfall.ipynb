{
 "cells": [
  {
   "cell_type": "code",
   "execution_count": 2,
   "id": "ede5ac0d-cc4c-4186-8862-3b3663b33796",
   "metadata": {},
   "outputs": [
    {
     "data": {
      "application/vnd.plotly.v1+json": {
       "config": {
        "plotlyServerURL": "https://plot.ly"
       },
       "data": [
        {
         "coloraxis": "coloraxis",
         "hoverinfo": "none",
         "hovertemplate": "Day: %{x}<br>Month: %{y}<br>Rainfall (mm): %{z}<extra></extra>",
         "name": "0",
         "text": [
          [
           "-",
           "-",
           "-",
           "0.2",
           "-",
           "0.2",
           "-",
           "21.0",
           "2.0",
           "0.2",
           "-",
           "-",
           "1.8",
           "-",
           "-",
           "-",
           "-",
           "23.0",
           "8.0",
           "-",
           "0.2",
           "3.2",
           "0.2",
           "0.4",
           "0.4",
           "-",
           "-",
           "-",
           "-",
           "-",
           "-"
          ],
          [
           "-",
           "-",
           "-",
           "-",
           "0.2",
           "-",
           "-",
           "-",
           "-",
           "-",
           "-",
           "-",
           "-",
           "2.4",
           "-",
           "-",
           "-",
           "-",
           "0.2",
           "-",
           "-",
           "-",
           "-",
           "-",
           "-",
           "-",
           "-",
           "-",
           "1.8",
           "",
           ""
          ],
          [
           "-",
           "-",
           "-",
           "0.2",
           "-",
           "-",
           "-",
           "-",
           "-",
           "-",
           "7.8",
           "-",
           "-",
           "-",
           "-",
           "-",
           "-",
           "-",
           "-",
           "5.2",
           "0.6",
           "0.8",
           "-",
           "-",
           "-",
           "-",
           "-",
           "-",
           "-",
           "-",
           "-"
          ],
          [
           "-",
           "6.6",
           "10.8",
           "-",
           "-",
           "-",
           "6.2",
           "0.2",
           "-",
           "-",
           "0.8",
           "-",
           "-",
           "-",
           "-",
           "-",
           "-",
           "-",
           "1.8",
           "-",
           "-",
           "-",
           "-",
           "5.8",
           "-",
           "-",
           "-",
           "-",
           "-",
           "-",
           ""
          ],
          [
           "1.4",
           "-",
           "-",
           "1.4",
           "0.2",
           "-",
           "-",
           "1.0",
           "0.6",
           "22.0",
           "3.0",
           "0.4",
           "0.6",
           "0.8",
           "-",
           "-",
           "1.6",
           "2.8",
           "0.2",
           "0.2",
           "-",
           "1.4",
           "-",
           "3.0",
           "-",
           "-",
           "-",
           "-",
           "0.2",
           "-",
           "-"
          ],
          [
           "-",
           "-",
           "1.6",
           "4.4",
           "-",
           "0.4",
           "0.4",
           "-",
           "-",
           "0.2",
           "-",
           "4.6",
           "0.4",
           "0.6",
           "2.8",
           "-",
           "0.6",
           "1.2",
           "0.2",
           "1.0",
           "2.6",
           "-",
           "0.2",
           "-",
           "-",
           "-",
           "1.0",
           "-",
           "-",
           "4.4",
           ""
          ],
          [
           "0.4",
           "-",
           "-",
           "-",
           "-",
           "-",
           "-",
           "-",
           "0.8",
           "24.0",
           "-",
           "-",
           "-",
           "-",
           "16.8",
           "7.2",
           "3.6",
           "0.4",
           "-",
           "-",
           "-",
           "-",
           "-",
           "-",
           "-",
           "-",
           "-",
           "-",
           "0.6",
           "-",
           "0.2"
          ],
          [
           "1.2",
           "0.2",
           "-",
           "0.2",
           "0.2",
           "-",
           "0.4",
           "-",
           "-",
           "-",
           "-",
           "-",
           "-",
           "-",
           "1.2",
           "2.0",
           "3.4",
           "3.4",
           "-",
           "-",
           "2.0",
           "-",
           "-",
           "7.4",
           "4.4",
           "-",
           "",
           "",
           "",
           "",
           ""
          ],
          [
           "",
           "",
           "",
           "",
           "",
           "",
           "",
           "",
           "",
           "",
           "",
           "",
           "",
           "",
           "",
           "",
           "",
           "",
           "",
           "",
           "",
           "",
           "",
           "",
           "",
           "",
           "",
           "",
           "",
           "",
           ""
          ],
          [
           "",
           "",
           "",
           "",
           "",
           "",
           "",
           "",
           "",
           "",
           "",
           "",
           "",
           "",
           "",
           "",
           "",
           "",
           "",
           "",
           "",
           "",
           "",
           "",
           "",
           "",
           "",
           "",
           "",
           "",
           ""
          ],
          [
           "",
           "",
           "",
           "",
           "",
           "",
           "",
           "",
           "",
           "",
           "",
           "",
           "",
           "",
           "",
           "",
           "",
           "",
           "",
           "",
           "",
           "",
           "",
           "",
           "",
           "",
           "",
           "",
           "",
           "",
           ""
          ],
          [
           "",
           "",
           "",
           "",
           "",
           "",
           "",
           "",
           "",
           "",
           "",
           "",
           "",
           "",
           "",
           "",
           "",
           "",
           "",
           "",
           "",
           "",
           "",
           "",
           "",
           "",
           "",
           "",
           "",
           "",
           ""
          ]
         ],
         "textfont": {
          "color": "black",
          "family": "Times New Roman",
          "size": 16
         },
         "texttemplate": "%{text}",
         "type": "heatmap",
         "x": [
          1,
          2,
          3,
          4,
          5,
          6,
          7,
          8,
          9,
          10,
          11,
          12,
          13,
          14,
          15,
          16,
          17,
          18,
          19,
          20,
          21,
          22,
          23,
          24,
          25,
          26,
          27,
          28,
          29,
          30,
          31
         ],
         "xaxis": "x",
         "y": [
          "Jan",
          "Feb",
          "Mar",
          "Apr",
          "May",
          "Jun",
          "Jul",
          "Aug",
          "Sep",
          "Oct",
          "Nov",
          "Dec"
         ],
         "yaxis": "y",
         "z": [
          [
           0,
           0,
           0,
           0.2,
           0,
           0.2,
           0,
           21,
           2,
           0.2,
           0,
           0,
           1.8,
           0,
           0,
           0,
           0,
           23,
           8,
           0,
           0.2,
           3.2,
           0.2,
           0.4,
           0.4,
           0,
           0,
           0,
           0,
           0,
           0
          ],
          [
           0,
           0,
           0,
           0,
           0.2,
           0,
           0,
           0,
           0,
           0,
           0,
           0,
           0,
           2.4,
           0,
           0,
           0,
           0,
           0.2,
           0,
           0,
           0,
           0,
           0,
           0,
           0,
           0,
           0,
           1.8,
           null,
           null
          ],
          [
           0,
           0,
           0,
           0.2,
           0,
           0,
           0,
           0,
           0,
           0,
           7.8,
           0,
           0,
           0,
           0,
           0,
           0,
           0,
           0,
           5.2,
           0.6,
           0.8,
           0,
           0,
           0,
           0,
           0,
           0,
           0,
           0,
           0
          ],
          [
           0,
           6.6,
           10.8,
           0,
           0,
           0,
           6.2,
           0.2,
           0,
           0,
           0.8,
           0,
           0,
           0,
           0,
           0,
           0,
           0,
           1.8,
           0,
           0,
           0,
           0,
           5.8,
           0,
           0,
           0,
           0,
           0,
           0,
           null
          ],
          [
           1.4,
           0,
           0,
           1.4,
           0.2,
           0,
           0,
           1,
           0.6,
           22,
           3,
           0.4,
           0.6,
           0.8,
           0,
           0,
           1.6,
           2.8,
           0.2,
           0.2,
           0,
           1.4,
           0,
           3,
           0,
           0,
           0,
           0,
           0.2,
           0,
           0
          ],
          [
           0,
           0,
           1.6,
           4.4,
           0,
           0.4,
           0.4,
           0,
           0,
           0.2,
           0,
           4.6,
           0.4,
           0.6,
           2.8,
           0,
           0.6,
           1.2,
           0.2,
           1,
           2.6,
           0,
           0.2,
           0,
           0,
           0,
           1,
           0,
           0,
           4.4,
           null
          ],
          [
           0.4,
           0,
           0,
           0,
           0,
           0,
           0,
           0,
           0.8,
           24,
           0,
           0,
           0,
           0,
           16.8,
           7.2,
           3.6,
           0.4,
           0,
           0,
           0,
           0,
           0,
           0,
           0,
           0,
           0,
           0,
           0.6,
           0,
           0.2
          ],
          [
           1.2,
           0.2,
           0,
           0.2,
           0.2,
           0,
           0.4,
           0,
           0,
           0,
           0,
           0,
           0,
           0,
           1.2,
           2,
           3.4,
           3.4,
           0,
           0,
           2,
           0,
           0,
           7.4,
           4.4,
           0,
           null,
           null,
           null,
           null,
           null
          ],
          [
           null,
           null,
           null,
           null,
           null,
           null,
           null,
           null,
           null,
           null,
           null,
           null,
           null,
           null,
           null,
           null,
           null,
           null,
           null,
           null,
           null,
           null,
           null,
           null,
           null,
           null,
           null,
           null,
           null,
           null,
           null
          ],
          [
           null,
           null,
           null,
           null,
           null,
           null,
           null,
           null,
           null,
           null,
           null,
           null,
           null,
           null,
           null,
           null,
           null,
           null,
           null,
           null,
           null,
           null,
           null,
           null,
           null,
           null,
           null,
           null,
           null,
           null,
           null
          ],
          [
           null,
           null,
           null,
           null,
           null,
           null,
           null,
           null,
           null,
           null,
           null,
           null,
           null,
           null,
           null,
           null,
           null,
           null,
           null,
           null,
           null,
           null,
           null,
           null,
           null,
           null,
           null,
           null,
           null,
           null,
           null
          ],
          [
           null,
           null,
           null,
           null,
           null,
           null,
           null,
           null,
           null,
           null,
           null,
           null,
           null,
           null,
           null,
           null,
           null,
           null,
           null,
           null,
           null,
           null,
           null,
           null,
           null,
           null,
           null,
           null,
           null,
           null,
           null
          ]
         ]
        }
       ],
       "layout": {
        "autosize": true,
        "coloraxis": {
         "cmax": 30,
         "cmin": -5,
         "colorbar": {
          "title": {
           "text": "Rainfall (mm)"
          }
         },
         "colorscale": [
          [
           0,
           "#2C7BB6"
          ],
          [
           0.16666666666666666,
           "#ABD9E9"
          ],
          [
           0.3333333333333333,
           "#FFFFBF"
          ],
          [
           0.5,
           "#FEE08B"
          ],
          [
           0.6666666666666666,
           "#FDAE61"
          ],
          [
           0.8333333333333334,
           "#F46D43"
          ],
          [
           1,
           "#D73027"
          ]
         ]
        },
        "margin": {
         "t": 60
        },
        "template": {
         "data": {
          "bar": [
           {
            "error_x": {
             "color": "#2a3f5f"
            },
            "error_y": {
             "color": "#2a3f5f"
            },
            "marker": {
             "line": {
              "color": "#E5ECF6",
              "width": 0.5
             },
             "pattern": {
              "fillmode": "overlay",
              "size": 10,
              "solidity": 0.2
             }
            },
            "type": "bar"
           }
          ],
          "barpolar": [
           {
            "marker": {
             "line": {
              "color": "#E5ECF6",
              "width": 0.5
             },
             "pattern": {
              "fillmode": "overlay",
              "size": 10,
              "solidity": 0.2
             }
            },
            "type": "barpolar"
           }
          ],
          "carpet": [
           {
            "aaxis": {
             "endlinecolor": "#2a3f5f",
             "gridcolor": "white",
             "linecolor": "white",
             "minorgridcolor": "white",
             "startlinecolor": "#2a3f5f"
            },
            "baxis": {
             "endlinecolor": "#2a3f5f",
             "gridcolor": "white",
             "linecolor": "white",
             "minorgridcolor": "white",
             "startlinecolor": "#2a3f5f"
            },
            "type": "carpet"
           }
          ],
          "choropleth": [
           {
            "colorbar": {
             "outlinewidth": 0,
             "ticks": ""
            },
            "type": "choropleth"
           }
          ],
          "contour": [
           {
            "colorbar": {
             "outlinewidth": 0,
             "ticks": ""
            },
            "colorscale": [
             [
              0,
              "#0d0887"
             ],
             [
              0.1111111111111111,
              "#46039f"
             ],
             [
              0.2222222222222222,
              "#7201a8"
             ],
             [
              0.3333333333333333,
              "#9c179e"
             ],
             [
              0.4444444444444444,
              "#bd3786"
             ],
             [
              0.5555555555555556,
              "#d8576b"
             ],
             [
              0.6666666666666666,
              "#ed7953"
             ],
             [
              0.7777777777777778,
              "#fb9f3a"
             ],
             [
              0.8888888888888888,
              "#fdca26"
             ],
             [
              1,
              "#f0f921"
             ]
            ],
            "type": "contour"
           }
          ],
          "contourcarpet": [
           {
            "colorbar": {
             "outlinewidth": 0,
             "ticks": ""
            },
            "type": "contourcarpet"
           }
          ],
          "heatmap": [
           {
            "colorbar": {
             "outlinewidth": 0,
             "ticks": ""
            },
            "colorscale": [
             [
              0,
              "#0d0887"
             ],
             [
              0.1111111111111111,
              "#46039f"
             ],
             [
              0.2222222222222222,
              "#7201a8"
             ],
             [
              0.3333333333333333,
              "#9c179e"
             ],
             [
              0.4444444444444444,
              "#bd3786"
             ],
             [
              0.5555555555555556,
              "#d8576b"
             ],
             [
              0.6666666666666666,
              "#ed7953"
             ],
             [
              0.7777777777777778,
              "#fb9f3a"
             ],
             [
              0.8888888888888888,
              "#fdca26"
             ],
             [
              1,
              "#f0f921"
             ]
            ],
            "type": "heatmap"
           }
          ],
          "heatmapgl": [
           {
            "colorbar": {
             "outlinewidth": 0,
             "ticks": ""
            },
            "colorscale": [
             [
              0,
              "#0d0887"
             ],
             [
              0.1111111111111111,
              "#46039f"
             ],
             [
              0.2222222222222222,
              "#7201a8"
             ],
             [
              0.3333333333333333,
              "#9c179e"
             ],
             [
              0.4444444444444444,
              "#bd3786"
             ],
             [
              0.5555555555555556,
              "#d8576b"
             ],
             [
              0.6666666666666666,
              "#ed7953"
             ],
             [
              0.7777777777777778,
              "#fb9f3a"
             ],
             [
              0.8888888888888888,
              "#fdca26"
             ],
             [
              1,
              "#f0f921"
             ]
            ],
            "type": "heatmapgl"
           }
          ],
          "histogram": [
           {
            "marker": {
             "pattern": {
              "fillmode": "overlay",
              "size": 10,
              "solidity": 0.2
             }
            },
            "type": "histogram"
           }
          ],
          "histogram2d": [
           {
            "colorbar": {
             "outlinewidth": 0,
             "ticks": ""
            },
            "colorscale": [
             [
              0,
              "#0d0887"
             ],
             [
              0.1111111111111111,
              "#46039f"
             ],
             [
              0.2222222222222222,
              "#7201a8"
             ],
             [
              0.3333333333333333,
              "#9c179e"
             ],
             [
              0.4444444444444444,
              "#bd3786"
             ],
             [
              0.5555555555555556,
              "#d8576b"
             ],
             [
              0.6666666666666666,
              "#ed7953"
             ],
             [
              0.7777777777777778,
              "#fb9f3a"
             ],
             [
              0.8888888888888888,
              "#fdca26"
             ],
             [
              1,
              "#f0f921"
             ]
            ],
            "type": "histogram2d"
           }
          ],
          "histogram2dcontour": [
           {
            "colorbar": {
             "outlinewidth": 0,
             "ticks": ""
            },
            "colorscale": [
             [
              0,
              "#0d0887"
             ],
             [
              0.1111111111111111,
              "#46039f"
             ],
             [
              0.2222222222222222,
              "#7201a8"
             ],
             [
              0.3333333333333333,
              "#9c179e"
             ],
             [
              0.4444444444444444,
              "#bd3786"
             ],
             [
              0.5555555555555556,
              "#d8576b"
             ],
             [
              0.6666666666666666,
              "#ed7953"
             ],
             [
              0.7777777777777778,
              "#fb9f3a"
             ],
             [
              0.8888888888888888,
              "#fdca26"
             ],
             [
              1,
              "#f0f921"
             ]
            ],
            "type": "histogram2dcontour"
           }
          ],
          "mesh3d": [
           {
            "colorbar": {
             "outlinewidth": 0,
             "ticks": ""
            },
            "type": "mesh3d"
           }
          ],
          "parcoords": [
           {
            "line": {
             "colorbar": {
              "outlinewidth": 0,
              "ticks": ""
             }
            },
            "type": "parcoords"
           }
          ],
          "pie": [
           {
            "automargin": true,
            "type": "pie"
           }
          ],
          "scatter": [
           {
            "fillpattern": {
             "fillmode": "overlay",
             "size": 10,
             "solidity": 0.2
            },
            "type": "scatter"
           }
          ],
          "scatter3d": [
           {
            "line": {
             "colorbar": {
              "outlinewidth": 0,
              "ticks": ""
             }
            },
            "marker": {
             "colorbar": {
              "outlinewidth": 0,
              "ticks": ""
             }
            },
            "type": "scatter3d"
           }
          ],
          "scattercarpet": [
           {
            "marker": {
             "colorbar": {
              "outlinewidth": 0,
              "ticks": ""
             }
            },
            "type": "scattercarpet"
           }
          ],
          "scattergeo": [
           {
            "marker": {
             "colorbar": {
              "outlinewidth": 0,
              "ticks": ""
             }
            },
            "type": "scattergeo"
           }
          ],
          "scattergl": [
           {
            "marker": {
             "colorbar": {
              "outlinewidth": 0,
              "ticks": ""
             }
            },
            "type": "scattergl"
           }
          ],
          "scattermapbox": [
           {
            "marker": {
             "colorbar": {
              "outlinewidth": 0,
              "ticks": ""
             }
            },
            "type": "scattermapbox"
           }
          ],
          "scatterpolar": [
           {
            "marker": {
             "colorbar": {
              "outlinewidth": 0,
              "ticks": ""
             }
            },
            "type": "scatterpolar"
           }
          ],
          "scatterpolargl": [
           {
            "marker": {
             "colorbar": {
              "outlinewidth": 0,
              "ticks": ""
             }
            },
            "type": "scatterpolargl"
           }
          ],
          "scatterternary": [
           {
            "marker": {
             "colorbar": {
              "outlinewidth": 0,
              "ticks": ""
             }
            },
            "type": "scatterternary"
           }
          ],
          "surface": [
           {
            "colorbar": {
             "outlinewidth": 0,
             "ticks": ""
            },
            "colorscale": [
             [
              0,
              "#0d0887"
             ],
             [
              0.1111111111111111,
              "#46039f"
             ],
             [
              0.2222222222222222,
              "#7201a8"
             ],
             [
              0.3333333333333333,
              "#9c179e"
             ],
             [
              0.4444444444444444,
              "#bd3786"
             ],
             [
              0.5555555555555556,
              "#d8576b"
             ],
             [
              0.6666666666666666,
              "#ed7953"
             ],
             [
              0.7777777777777778,
              "#fb9f3a"
             ],
             [
              0.8888888888888888,
              "#fdca26"
             ],
             [
              1,
              "#f0f921"
             ]
            ],
            "type": "surface"
           }
          ],
          "table": [
           {
            "cells": {
             "fill": {
              "color": "#EBF0F8"
             },
             "line": {
              "color": "white"
             }
            },
            "header": {
             "fill": {
              "color": "#C8D4E3"
             },
             "line": {
              "color": "white"
             }
            },
            "type": "table"
           }
          ]
         },
         "layout": {
          "annotationdefaults": {
           "arrowcolor": "#2a3f5f",
           "arrowhead": 0,
           "arrowwidth": 1
          },
          "autotypenumbers": "strict",
          "coloraxis": {
           "colorbar": {
            "outlinewidth": 0,
            "ticks": ""
           }
          },
          "colorscale": {
           "diverging": [
            [
             0,
             "#8e0152"
            ],
            [
             0.1,
             "#c51b7d"
            ],
            [
             0.2,
             "#de77ae"
            ],
            [
             0.3,
             "#f1b6da"
            ],
            [
             0.4,
             "#fde0ef"
            ],
            [
             0.5,
             "#f7f7f7"
            ],
            [
             0.6,
             "#e6f5d0"
            ],
            [
             0.7,
             "#b8e186"
            ],
            [
             0.8,
             "#7fbc41"
            ],
            [
             0.9,
             "#4d9221"
            ],
            [
             1,
             "#276419"
            ]
           ],
           "sequential": [
            [
             0,
             "#0d0887"
            ],
            [
             0.1111111111111111,
             "#46039f"
            ],
            [
             0.2222222222222222,
             "#7201a8"
            ],
            [
             0.3333333333333333,
             "#9c179e"
            ],
            [
             0.4444444444444444,
             "#bd3786"
            ],
            [
             0.5555555555555556,
             "#d8576b"
            ],
            [
             0.6666666666666666,
             "#ed7953"
            ],
            [
             0.7777777777777778,
             "#fb9f3a"
            ],
            [
             0.8888888888888888,
             "#fdca26"
            ],
            [
             1,
             "#f0f921"
            ]
           ],
           "sequentialminus": [
            [
             0,
             "#0d0887"
            ],
            [
             0.1111111111111111,
             "#46039f"
            ],
            [
             0.2222222222222222,
             "#7201a8"
            ],
            [
             0.3333333333333333,
             "#9c179e"
            ],
            [
             0.4444444444444444,
             "#bd3786"
            ],
            [
             0.5555555555555556,
             "#d8576b"
            ],
            [
             0.6666666666666666,
             "#ed7953"
            ],
            [
             0.7777777777777778,
             "#fb9f3a"
            ],
            [
             0.8888888888888888,
             "#fdca26"
            ],
            [
             1,
             "#f0f921"
            ]
           ]
          },
          "colorway": [
           "#636efa",
           "#EF553B",
           "#00cc96",
           "#ab63fa",
           "#FFA15A",
           "#19d3f3",
           "#FF6692",
           "#B6E880",
           "#FF97FF",
           "#FECB52"
          ],
          "font": {
           "color": "#2a3f5f"
          },
          "geo": {
           "bgcolor": "white",
           "lakecolor": "white",
           "landcolor": "#E5ECF6",
           "showlakes": true,
           "showland": true,
           "subunitcolor": "white"
          },
          "hoverlabel": {
           "align": "left"
          },
          "hovermode": "closest",
          "mapbox": {
           "style": "light"
          },
          "paper_bgcolor": "white",
          "plot_bgcolor": "#E5ECF6",
          "polar": {
           "angularaxis": {
            "gridcolor": "white",
            "linecolor": "white",
            "ticks": ""
           },
           "bgcolor": "#E5ECF6",
           "radialaxis": {
            "gridcolor": "white",
            "linecolor": "white",
            "ticks": ""
           }
          },
          "scene": {
           "xaxis": {
            "backgroundcolor": "#E5ECF6",
            "gridcolor": "white",
            "gridwidth": 2,
            "linecolor": "white",
            "showbackground": true,
            "ticks": "",
            "zerolinecolor": "white"
           },
           "yaxis": {
            "backgroundcolor": "#E5ECF6",
            "gridcolor": "white",
            "gridwidth": 2,
            "linecolor": "white",
            "showbackground": true,
            "ticks": "",
            "zerolinecolor": "white"
           },
           "zaxis": {
            "backgroundcolor": "#E5ECF6",
            "gridcolor": "white",
            "gridwidth": 2,
            "linecolor": "white",
            "showbackground": true,
            "ticks": "",
            "zerolinecolor": "white"
           }
          },
          "shapedefaults": {
           "line": {
            "color": "#2a3f5f"
           }
          },
          "ternary": {
           "aaxis": {
            "gridcolor": "white",
            "linecolor": "white",
            "ticks": ""
           },
           "baxis": {
            "gridcolor": "white",
            "linecolor": "white",
            "ticks": ""
           },
           "bgcolor": "#E5ECF6",
           "caxis": {
            "gridcolor": "white",
            "linecolor": "white",
            "ticks": ""
           }
          },
          "title": {
           "x": 0.05
          },
          "xaxis": {
           "automargin": true,
           "gridcolor": "white",
           "linecolor": "white",
           "ticks": "",
           "title": {
            "standoff": 15
           },
           "zerolinecolor": "white",
           "zerolinewidth": 2
          },
          "yaxis": {
           "automargin": true,
           "gridcolor": "white",
           "linecolor": "white",
           "ticks": "",
           "title": {
            "standoff": 15
           },
           "zerolinecolor": "white",
           "zerolinewidth": 2
          }
         }
        },
        "xaxis": {
         "anchor": "y",
         "autorange": true,
         "domain": [
          0,
          1
         ],
         "range": [
          0.5,
          31.5
         ],
         "showgrid": false,
         "tickmode": "linear",
         "title": {
          "text": "Day"
         },
         "type": "linear"
        },
        "yaxis": {
         "anchor": "x",
         "autorange": true,
         "domain": [
          0,
          1
         ],
         "range": [
          11.5,
          -0.5
         ],
         "showgrid": false,
         "title": {
          "text": "Month"
         },
         "type": "category"
        }
       }
      },
      "image/png": "[encoded data removed]",
      "text/html": [
       "<div>                            <div id=\"f1393b44-899e-4ea3-a487-690a13627511\" class=\"plotly-graph-div\" style=\"height:525px; width:100%;\"></div>            <script type=\"text/javascript\">                require([\"plotly\"], function(Plotly) {                    window.PLOTLYENV=window.PLOTLYENV || {};                                    if (document.getElementById(\"f1393b44-899e-4ea3-a487-690a13627511\")) {                    Plotly.newPlot(                        \"f1393b44-899e-4ea3-a487-690a13627511\",                        [{\"coloraxis\":\"coloraxis\",\"name\":\"0\",\"x\":[1,2,3,4,5,6,7,8,9,10,11,12,13,14,15,16,17,18,19,20,21,22,23,24,25,26,27,28,29,30,31],\"y\":[\"Jan\",\"Feb\",\"Mar\",\"Apr\",\"May\",\"Jun\",\"Jul\",\"Aug\",\"Sep\",\"Oct\",\"Nov\",\"Dec\"],\"z\":[[0.0,0.0,0.0,0.2,0.0,0.2,0.0,21.0,2.0,0.2,0.0,0.0,1.8,0.0,0.0,0.0,0.0,23.0,8.0,0.0,0.2,3.2,0.2,0.4,0.4,0.0,0.0,0.0,0.0,0.0,0.0],[0.0,0.0,0.0,0.0,0.2,0.0,0.0,0.0,0.0,0.0,0.0,0.0,0.0,2.4,0.0,0.0,0.0,0.0,0.2,0.0,0.0,0.0,0.0,0.0,0.0,0.0,0.0,0.0,1.8,null,null],[0.0,0.0,0.0,0.2,0.0,0.0,0.0,0.0,0.0,0.0,7.8,0.0,0.0,0.0,0.0,0.0,0.0,0.0,0.0,5.2,0.6,0.8,0.0,0.0,0.0,0.0,0.0,0.0,0.0,0.0,0.0],[0.0,6.6,10.8,0.0,0.0,0.0,6.2,0.2,0.0,0.0,0.8,0.0,0.0,0.0,0.0,0.0,0.0,0.0,1.8,0.0,0.0,0.0,0.0,5.8,0.0,0.0,0.0,0.0,0.0,0.0,null],[1.4,0.0,0.0,1.4,0.2,0.0,0.0,1.0,0.6,22.0,3.0,0.4,0.6,0.8,0.0,0.0,1.6,2.8,0.2,0.2,0.0,1.4,0.0,3.0,0.0,0.0,0.0,0.0,0.2,0.0,0.0],[0.0,0.0,1.6,4.4,0.0,0.4,0.4,0.0,0.0,0.2,0.0,4.6,0.4,0.6,2.8,0.0,0.6,1.2,0.2,1.0,2.6,0.0,0.2,0.0,0.0,0.0,1.0,0.0,0.0,4.4,null],[0.4,0.0,0.0,0.0,0.0,0.0,0.0,0.0,0.8,24.0,0.0,0.0,0.0,0.0,16.8,7.2,3.6,0.4,0.0,0.0,0.0,0.0,0.0,0.0,0.0,0.0,0.0,0.0,0.6,0.0,0.2],[1.2,0.2,0.0,0.2,0.2,0.0,0.4,0.0,0.0,0.0,0.0,0.0,0.0,0.0,1.2,2.0,3.4,3.4,0.0,0.0,2.0,0.0,0.0,7.4,4.4,0.0,null,null,null,null,null],[null,null,null,null,null,null,null,null,null,null,null,null,null,null,null,null,null,null,null,null,null,null,null,null,null,null,null,null,null,null,null],[null,null,null,null,null,null,null,null,null,null,null,null,null,null,null,null,null,null,null,null,null,null,null,null,null,null,null,null,null,null,null],[null,null,null,null,null,null,null,null,null,null,null,null,null,null,null,null,null,null,null,null,null,null,null,null,null,null,null,null,null,null,null],[null,null,null,null,null,null,null,null,null,null,null,null,null,null,null,null,null,null,null,null,null,null,null,null,null,null,null,null,null,null,null]],\"type\":\"heatmap\",\"xaxis\":\"x\",\"yaxis\":\"y\",\"hovertemplate\":\"Day: %{x}\\u003cbr\\u003eMonth: %{y}\\u003cbr\\u003eRainfall (mm): %{z}\\u003cextra\\u003e\\u003c\\u002fextra\\u003e\",\"textfont\":{\"color\":\"black\",\"family\":\"Times New Roman\",\"size\":16},\"hoverinfo\":\"none\",\"text\":[[\"-\",\"-\",\"-\",\"0.2\",\"-\",\"0.2\",\"-\",\"21.0\",\"2.0\",\"0.2\",\"-\",\"-\",\"1.8\",\"-\",\"-\",\"-\",\"-\",\"23.0\",\"8.0\",\"-\",\"0.2\",\"3.2\",\"0.2\",\"0.4\",\"0.4\",\"-\",\"-\",\"-\",\"-\",\"-\",\"-\"],[\"-\",\"-\",\"-\",\"-\",\"0.2\",\"-\",\"-\",\"-\",\"-\",\"-\",\"-\",\"-\",\"-\",\"2.4\",\"-\",\"-\",\"-\",\"-\",\"0.2\",\"-\",\"-\",\"-\",\"-\",\"-\",\"-\",\"-\",\"-\",\"-\",\"1.8\",\"\",\"\"],[\"-\",\"-\",\"-\",\"0.2\",\"-\",\"-\",\"-\",\"-\",\"-\",\"-\",\"7.8\",\"-\",\"-\",\"-\",\"-\",\"-\",\"-\",\"-\",\"-\",\"5.2\",\"0.6\",\"0.8\",\"-\",\"-\",\"-\",\"-\",\"-\",\"-\",\"-\",\"-\",\"-\"],[\"-\",\"6.6\",\"10.8\",\"-\",\"-\",\"-\",\"6.2\",\"0.2\",\"-\",\"-\",\"0.8\",\"-\",\"-\",\"-\",\"-\",\"-\",\"-\",\"-\",\"1.8\",\"-\",\"-\",\"-\",\"-\",\"5.8\",\"-\",\"-\",\"-\",\"-\",\"-\",\"-\",\"\"],[\"1.4\",\"-\",\"-\",\"1.4\",\"0.2\",\"-\",\"-\",\"1.0\",\"0.6\",\"22.0\",\"3.0\",\"0.4\",\"0.6\",\"0.8\",\"-\",\"-\",\"1.6\",\"2.8\",\"0.2\",\"0.2\",\"-\",\"1.4\",\"-\",\"3.0\",\"-\",\"-\",\"-\",\"-\",\"0.2\",\"-\",\"-\"],[\"-\",\"-\",\"1.6\",\"4.4\",\"-\",\"0.4\",\"0.4\",\"-\",\"-\",\"0.2\",\"-\",\"4.6\",\"0.4\",\"0.6\",\"2.8\",\"-\",\"0.6\",\"1.2\",\"0.2\",\"1.0\",\"2.6\",\"-\",\"0.2\",\"-\",\"-\",\"-\",\"1.0\",\"-\",\"-\",\"4.4\",\"\"],[\"0.4\",\"-\",\"-\",\"-\",\"-\",\"-\",\"-\",\"-\",\"0.8\",\"24.0\",\"-\",\"-\",\"-\",\"-\",\"16.8\",\"7.2\",\"3.6\",\"0.4\",\"-\",\"-\",\"-\",\"-\",\"-\",\"-\",\"-\",\"-\",\"-\",\"-\",\"0.6\",\"-\",\"0.2\"],[\"1.2\",\"0.2\",\"-\",\"0.2\",\"0.2\",\"-\",\"0.4\",\"-\",\"-\",\"-\",\"-\",\"-\",\"-\",\"-\",\"1.2\",\"2.0\",\"3.4\",\"3.4\",\"-\",\"-\",\"2.0\",\"-\",\"-\",\"7.4\",\"4.4\",\"-\",\"\",\"\",\"\",\"\",\"\"],[\"\",\"\",\"\",\"\",\"\",\"\",\"\",\"\",\"\",\"\",\"\",\"\",\"\",\"\",\"\",\"\",\"\",\"\",\"\",\"\",\"\",\"\",\"\",\"\",\"\",\"\",\"\",\"\",\"\",\"\",\"\"],[\"\",\"\",\"\",\"\",\"\",\"\",\"\",\"\",\"\",\"\",\"\",\"\",\"\",\"\",\"\",\"\",\"\",\"\",\"\",\"\",\"\",\"\",\"\",\"\",\"\",\"\",\"\",\"\",\"\",\"\",\"\"],[\"\",\"\",\"\",\"\",\"\",\"\",\"\",\"\",\"\",\"\",\"\",\"\",\"\",\"\",\"\",\"\",\"\",\"\",\"\",\"\",\"\",\"\",\"\",\"\",\"\",\"\",\"\",\"\",\"\",\"\",\"\"],[\"\",\"\",\"\",\"\",\"\",\"\",\"\",\"\",\"\",\"\",\"\",\"\",\"\",\"\",\"\",\"\",\"\",\"\",\"\",\"\",\"\",\"\",\"\",\"\",\"\",\"\",\"\",\"\",\"\",\"\",\"\"]],\"texttemplate\":\"%{text}\"}],                        {\"template\":{\"data\":{\"histogram2dcontour\":[{\"type\":\"histogram2dcontour\",\"colorbar\":{\"outlinewidth\":0,\"ticks\":\"\"},\"colorscale\":[[0.0,\"#0d0887\"],[0.1111111111111111,\"#46039f\"],[0.2222222222222222,\"#7201a8\"],[0.3333333333333333,\"#9c179e\"],[0.4444444444444444,\"#bd3786\"],[0.5555555555555556,\"#d8576b\"],[0.6666666666666666,\"#ed7953\"],[0.7777777777777778,\"#fb9f3a\"],[0.8888888888888888,\"#fdca26\"],[1.0,\"#f0f921\"]]}],\"choropleth\":[{\"type\":\"choropleth\",\"colorbar\":{\"outlinewidth\":0,\"ticks\":\"\"}}],\"histogram2d\":[{\"type\":\"histogram2d\",\"colorbar\":{\"outlinewidth\":0,\"ticks\":\"\"},\"colorscale\":[[0.0,\"#0d0887\"],[0.1111111111111111,\"#46039f\"],[0.2222222222222222,\"#7201a8\"],[0.3333333333333333,\"#9c179e\"],[0.4444444444444444,\"#bd3786\"],[0.5555555555555556,\"#d8576b\"],[0.6666666666666666,\"#ed7953\"],[0.7777777777777778,\"#fb9f3a\"],[0.8888888888888888,\"#fdca26\"],[1.0,\"#f0f921\"]]}],\"heatmap\":[{\"type\":\"heatmap\",\"colorbar\":{\"outlinewidth\":0,\"ticks\":\"\"},\"colorscale\":[[0.0,\"#0d0887\"],[0.1111111111111111,\"#46039f\"],[0.2222222222222222,\"#7201a8\"],[0.3333333333333333,\"#9c179e\"],[0.4444444444444444,\"#bd3786\"],[0.5555555555555556,\"#d8576b\"],[0.6666666666666666,\"#ed7953\"],[0.7777777777777778,\"#fb9f3a\"],[0.8888888888888888,\"#fdca26\"],[1.0,\"#f0f921\"]]}],\"heatmapgl\":[{\"type\":\"heatmapgl\",\"colorbar\":{\"outlinewidth\":0,\"ticks\":\"\"},\"colorscale\":[[0.0,\"#0d0887\"],[0.1111111111111111,\"#46039f\"],[0.2222222222222222,\"#7201a8\"],[0.3333333333333333,\"#9c179e\"],[0.4444444444444444,\"#bd3786\"],[0.5555555555555556,\"#d8576b\"],[0.6666666666666666,\"#ed7953\"],[0.7777777777777778,\"#fb9f3a\"],[0.8888888888888888,\"#fdca26\"],[1.0,\"#f0f921\"]]}],\"contourcarpet\":[{\"type\":\"contourcarpet\",\"colorbar\":{\"outlinewidth\":0,\"ticks\":\"\"}}],\"contour\":[{\"type\":\"contour\",\"colorbar\":{\"outlinewidth\":0,\"ticks\":\"\"},\"colorscale\":[[0.0,\"#0d0887\"],[0.1111111111111111,\"#46039f\"],[0.2222222222222222,\"#7201a8\"],[0.3333333333333333,\"#9c179e\"],[0.4444444444444444,\"#bd3786\"],[0.5555555555555556,\"#d8576b\"],[0.6666666666666666,\"#ed7953\"],[0.7777777777777778,\"#fb9f3a\"],[0.8888888888888888,\"#fdca26\"],[1.0,\"#f0f921\"]]}],\"surface\":[{\"type\":\"surface\",\"colorbar\":{\"outlinewidth\":0,\"ticks\":\"\"},\"colorscale\":[[0.0,\"#0d0887\"],[0.1111111111111111,\"#46039f\"],[0.2222222222222222,\"#7201a8\"],[0.3333333333333333,\"#9c179e\"],[0.4444444444444444,\"#bd3786\"],[0.5555555555555556,\"#d8576b\"],[0.6666666666666666,\"#ed7953\"],[0.7777777777777778,\"#fb9f3a\"],[0.8888888888888888,\"#fdca26\"],[1.0,\"#f0f921\"]]}],\"mesh3d\":[{\"type\":\"mesh3d\",\"colorbar\":{\"outlinewidth\":0,\"ticks\":\"\"}}],\"scatter\":[{\"fillpattern\":{\"fillmode\":\"overlay\",\"size\":10,\"solidity\":0.2},\"type\":\"scatter\"}],\"parcoords\":[{\"type\":\"parcoords\",\"line\":{\"colorbar\":{\"outlinewidth\":0,\"ticks\":\"\"}}}],\"scatterpolargl\":[{\"type\":\"scatterpolargl\",\"marker\":{\"colorbar\":{\"outlinewidth\":0,\"ticks\":\"\"}}}],\"bar\":[{\"error_x\":{\"color\":\"#2a3f5f\"},\"error_y\":{\"color\":\"#2a3f5f\"},\"marker\":{\"line\":{\"color\":\"#E5ECF6\",\"width\":0.5},\"pattern\":{\"fillmode\":\"overlay\",\"size\":10,\"solidity\":0.2}},\"type\":\"bar\"}],\"scattergeo\":[{\"type\":\"scattergeo\",\"marker\":{\"colorbar\":{\"outlinewidth\":0,\"ticks\":\"\"}}}],\"scatterpolar\":[{\"type\":\"scatterpolar\",\"marker\":{\"colorbar\":{\"outlinewidth\":0,\"ticks\":\"\"}}}],\"histogram\":[{\"marker\":{\"pattern\":{\"fillmode\":\"overlay\",\"size\":10,\"solidity\":0.2}},\"type\":\"histogram\"}],\"scattergl\":[{\"type\":\"scattergl\",\"marker\":{\"colorbar\":{\"outlinewidth\":0,\"ticks\":\"\"}}}],\"scatter3d\":[{\"type\":\"scatter3d\",\"line\":{\"colorbar\":{\"outlinewidth\":0,\"ticks\":\"\"}},\"marker\":{\"colorbar\":{\"outlinewidth\":0,\"ticks\":\"\"}}}],\"scattermapbox\":[{\"type\":\"scattermapbox\",\"marker\":{\"colorbar\":{\"outlinewidth\":0,\"ticks\":\"\"}}}],\"scatterternary\":[{\"type\":\"scatterternary\",\"marker\":{\"colorbar\":{\"outlinewidth\":0,\"ticks\":\"\"}}}],\"scattercarpet\":[{\"type\":\"scattercarpet\",\"marker\":{\"colorbar\":{\"outlinewidth\":0,\"ticks\":\"\"}}}],\"carpet\":[{\"aaxis\":{\"endlinecolor\":\"#2a3f5f\",\"gridcolor\":\"white\",\"linecolor\":\"white\",\"minorgridcolor\":\"white\",\"startlinecolor\":\"#2a3f5f\"},\"baxis\":{\"endlinecolor\":\"#2a3f5f\",\"gridcolor\":\"white\",\"linecolor\":\"white\",\"minorgridcolor\":\"white\",\"startlinecolor\":\"#2a3f5f\"},\"type\":\"carpet\"}],\"table\":[{\"cells\":{\"fill\":{\"color\":\"#EBF0F8\"},\"line\":{\"color\":\"white\"}},\"header\":{\"fill\":{\"color\":\"#C8D4E3\"},\"line\":{\"color\":\"white\"}},\"type\":\"table\"}],\"barpolar\":[{\"marker\":{\"line\":{\"color\":\"#E5ECF6\",\"width\":0.5},\"pattern\":{\"fillmode\":\"overlay\",\"size\":10,\"solidity\":0.2}},\"type\":\"barpolar\"}],\"pie\":[{\"automargin\":true,\"type\":\"pie\"}]},\"layout\":{\"autotypenumbers\":\"strict\",\"colorway\":[\"#636efa\",\"#EF553B\",\"#00cc96\",\"#ab63fa\",\"#FFA15A\",\"#19d3f3\",\"#FF6692\",\"#B6E880\",\"#FF97FF\",\"#FECB52\"],\"font\":{\"color\":\"#2a3f5f\"},\"hovermode\":\"closest\",\"hoverlabel\":{\"align\":\"left\"},\"paper_bgcolor\":\"white\",\"plot_bgcolor\":\"#E5ECF6\",\"polar\":{\"bgcolor\":\"#E5ECF6\",\"angularaxis\":{\"gridcolor\":\"white\",\"linecolor\":\"white\",\"ticks\":\"\"},\"radialaxis\":{\"gridcolor\":\"white\",\"linecolor\":\"white\",\"ticks\":\"\"}},\"ternary\":{\"bgcolor\":\"#E5ECF6\",\"aaxis\":{\"gridcolor\":\"white\",\"linecolor\":\"white\",\"ticks\":\"\"},\"baxis\":{\"gridcolor\":\"white\",\"linecolor\":\"white\",\"ticks\":\"\"},\"caxis\":{\"gridcolor\":\"white\",\"linecolor\":\"white\",\"ticks\":\"\"}},\"coloraxis\":{\"colorbar\":{\"outlinewidth\":0,\"ticks\":\"\"}},\"colorscale\":{\"sequential\":[[0.0,\"#0d0887\"],[0.1111111111111111,\"#46039f\"],[0.2222222222222222,\"#7201a8\"],[0.3333333333333333,\"#9c179e\"],[0.4444444444444444,\"#bd3786\"],[0.5555555555555556,\"#d8576b\"],[0.6666666666666666,\"#ed7953\"],[0.7777777777777778,\"#fb9f3a\"],[0.8888888888888888,\"#fdca26\"],[1.0,\"#f0f921\"]],\"sequentialminus\":[[0.0,\"#0d0887\"],[0.1111111111111111,\"#46039f\"],[0.2222222222222222,\"#7201a8\"],[0.3333333333333333,\"#9c179e\"],[0.4444444444444444,\"#bd3786\"],[0.5555555555555556,\"#d8576b\"],[0.6666666666666666,\"#ed7953\"],[0.7777777777777778,\"#fb9f3a\"],[0.8888888888888888,\"#fdca26\"],[1.0,\"#f0f921\"]],\"diverging\":[[0,\"#8e0152\"],[0.1,\"#c51b7d\"],[0.2,\"#de77ae\"],[0.3,\"#f1b6da\"],[0.4,\"#fde0ef\"],[0.5,\"#f7f7f7\"],[0.6,\"#e6f5d0\"],[0.7,\"#b8e186\"],[0.8,\"#7fbc41\"],[0.9,\"#4d9221\"],[1,\"#276419\"]]},\"xaxis\":{\"gridcolor\":\"white\",\"linecolor\":\"white\",\"ticks\":\"\",\"title\":{\"standoff\":15},\"zerolinecolor\":\"white\",\"automargin\":true,\"zerolinewidth\":2},\"yaxis\":{\"gridcolor\":\"white\",\"linecolor\":\"white\",\"ticks\":\"\",\"title\":{\"standoff\":15},\"zerolinecolor\":\"white\",\"automargin\":true,\"zerolinewidth\":2},\"scene\":{\"xaxis\":{\"backgroundcolor\":\"#E5ECF6\",\"gridcolor\":\"white\",\"linecolor\":\"white\",\"showbackground\":true,\"ticks\":\"\",\"zerolinecolor\":\"white\",\"gridwidth\":2},\"yaxis\":{\"backgroundcolor\":\"#E5ECF6\",\"gridcolor\":\"white\",\"linecolor\":\"white\",\"showbackground\":true,\"ticks\":\"\",\"zerolinecolor\":\"white\",\"gridwidth\":2},\"zaxis\":{\"backgroundcolor\":\"#E5ECF6\",\"gridcolor\":\"white\",\"linecolor\":\"white\",\"showbackground\":true,\"ticks\":\"\",\"zerolinecolor\":\"white\",\"gridwidth\":2}},\"shapedefaults\":{\"line\":{\"color\":\"#2a3f5f\"}},\"annotationdefaults\":{\"arrowcolor\":\"#2a3f5f\",\"arrowhead\":0,\"arrowwidth\":1},\"geo\":{\"bgcolor\":\"white\",\"landcolor\":\"#E5ECF6\",\"subunitcolor\":\"white\",\"showland\":true,\"showlakes\":true,\"lakecolor\":\"white\"},\"title\":{\"x\":0.05},\"mapbox\":{\"style\":\"light\"}}},\"xaxis\":{\"anchor\":\"y\",\"domain\":[0.0,1.0],\"title\":{\"text\":\"Day\"},\"tickmode\":\"linear\",\"showgrid\":false},\"yaxis\":{\"anchor\":\"x\",\"domain\":[0.0,1.0],\"autorange\":\"reversed\",\"title\":{\"text\":\"Month\"},\"showgrid\":false},\"coloraxis\":{\"colorbar\":{\"title\":{\"text\":\"Rainfall (mm)\"}},\"colorscale\":[[0.0,\"#2C7BB6\"],[0.16666666666666666,\"#ABD9E9\"],[0.3333333333333333,\"#FFFFBF\"],[0.5,\"#FEE08B\"],[0.6666666666666666,\"#FDAE61\"],[0.8333333333333334,\"#F46D43\"],[1.0,\"#D73027\"]],\"cmin\":-5,\"cmax\":30},\"margin\":{\"t\":60}},                        {\"responsive\": true}                    ).then(function(){\n",
       "                            \n",
       "var gd = document.getElementById('f1393b44-899e-4ea3-a487-690a13627511');\n",
       "var x = new MutationObserver(function (mutations, observer) {{\n",
       "        var display = window.getComputedStyle(gd).display;\n",
       "        if (!display || display === 'none') {{\n",
       "            console.log([gd, 'removed!']);\n",
       "            Plotly.purge(gd);\n",
       "            observer.disconnect();\n",
       "        }}\n",
       "}});\n",
       "\n",
       "// Listen for the removal of the full notebook cells\n",
       "var notebookContainer = gd.closest('#notebook-container');\n",
       "if (notebookContainer) {{\n",
       "    x.observe(notebookContainer, {childList: true});\n",
       "}}\n",
       "\n",
       "// Listen for the clearing of the current output cell\n",
       "var outputEl = gd.closest('.output');\n",
       "if (outputEl) {{\n",
       "    x.observe(outputEl, {childList: true});\n",
       "}}\n",
       "\n",
       "                        })                };                });            </script>        </div>"
      ]
     },
     "metadata": {},
     "output_type": "display_data"
    }
   ],
   "source": [
    "import plotly.express as px\n",
    "import pandas as pd\n",
    "import numpy as np\n",
    "import calendar\n",
    "\n",
    "# Load data\n",
    "file_path = '/home/571/jy6645/ohw/data/rain2024.csv'  # Adjust the path as necessary\n",
    "data = pd.read_csv(file_path)\n",
    "\n",
    "# Extract year, month, day, and rainfall data\n",
    "years = data['Year'].values\n",
    "months = data['Month'].values\n",
    "days = data['Day'].values\n",
    "rainfall = data['Rainfall amount (millimetres)'].values\n",
    "\n",
    "# Create a 31 days x 12 months grid\n",
    "heatmap = np.full((31, 12), np.nan)\n",
    "text = np.full((12, 31), \"\", dtype=object)\n",
    "\n",
    "# Populate the grid, aligning months and days\n",
    "for year, month, day, rain in zip(years, months, days, rainfall):\n",
    "    heatmap[day-1, month-1] = rain\n",
    "    \n",
    "    if rain == 0:\n",
    "        text[month-1, day-1] = \"-\"  # Display \"-\" if no rainfall\n",
    "    else:\n",
    "        text[month-1, day-1] = f'{rain:.1f}'  # Display rainfall amount otherwise\n",
    "\n",
    "# Transpose the heatmap for correct display\n",
    "heatmap = heatmap.T\n",
    "\n",
    "# Create labels for months and days\n",
    "x_labels = np.arange(1, 32)  # Days 1 to 31\n",
    "y_labels = [calendar.month_abbr[i] for i in range(1, 13)]  # Abbreviated month names\n",
    "\n",
    "# Create an interactive heatmap using Plotly\n",
    "fig = px.imshow(\n",
    "    heatmap,\n",
    "    labels=dict(x=\"Day\", y=\"Month\", color=\"Rainfall (mm)\"),\n",
    "    x=x_labels,\n",
    "    y=y_labels,\n",
    "    color_continuous_scale=[\"#2C7BB6\", \"#ABD9E9\", \"#FFFFBF\", \"#FEE08B\", \"#FDAE61\", \"#F46D43\", \"#D73027\"],\n",
    "    range_color=[-5, 30],  # Set the color bar range\n",
    "    \n",
    "    # Align text with heatmap grid lines\n",
    "    aspect=\"auto\",\n",
    "    text_auto=False  # Do not automatically display numbers in the grid\n",
    ")\n",
    "\n",
    "# Force display of all x-axis labels\n",
    "fig.update_xaxes(tickmode='linear')\n",
    "\n",
    "# Remove grid lines\n",
    "fig.update_xaxes(showgrid=False)  # Remove x-axis grid lines\n",
    "fig.update_yaxes(showgrid=False)  # Remove y-axis grid lines\n",
    "\n",
    "# Manually set text position and style to align with heatmap grid lines\n",
    "fig.update_traces(\n",
    "    text=text,  # Use custom text\n",
    "    texttemplate=\"%{text}\",  # Display custom text\n",
    "    textfont=dict(size=16, family=\"Times New Roman\", color=\"black\"),\n",
    "    hoverinfo='none',  # Remove hover information\n",
    "    #textposition=\"middle center\"  # Set text position to center\n",
    ")\n",
    "\n",
    "# Save the chart as an HTML file\n",
    "fig.write_html(\"rainfall_heatmap.html\")\n",
    "fig.show()\n"
   ]
  },
  {
   "cell_type": "code",
   "execution_count": 4,
   "id": "261a9f1a-f084-4cf3-a570-74fc0b70b238",
   "metadata": {},
   "outputs": [],
   "source": [
    "fig.write_json(\"rainfall_heatmap.json\")"
   ]
  },
  {
   "cell_type": "code",
   "execution_count": null,
   "id": "5bfc0701-2e33-4961-935b-4a244b25c4e8",
   "metadata": {},
   "outputs": [],
   "source": []
  }
 ],
 "metadata": {
  "kernelspec": {
   "display_name": "Python [conda env:analysis3-24.04] *",
   "language": "python",
   "name": "conda-env-analysis3-24.04-py"
  },
  "language_info": {
   "codemirror_mode": {
    "name": "ipython",
    "version": 3
   },
   "file_extension": ".py",
   "mimetype": "text/x-python",
   "name": "python",
   "nbconvert_exporter": "python",
   "pygments_lexer": "ipython3",
   "version": "3.10.14"
  }
 },
 "nbformat": 4,
 "nbformat_minor": 5
}
